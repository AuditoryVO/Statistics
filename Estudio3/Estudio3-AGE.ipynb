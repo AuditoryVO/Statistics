{
 "cells": [
  {
   "cell_type": "markdown",
   "id": "20a07201",
   "metadata": {},
   "source": [
    "## ViewCube survey analysis-Age\n",
    "67 participants (May 2025)."
   ]
  },
  {
   "cell_type": "code",
   "execution_count": 1,
   "id": "3a38a9d6",
   "metadata": {},
   "outputs": [],
   "source": [
    "import pandas as pd\n",
    "import numpy as np\n",
    "import math\n",
    "import csv\n",
    "\n",
    "%matplotlib inline\n",
    "\n",
    "import matplotlib.pyplot as plt\n",
    "from matplotlib.ticker import AutoMinorLocator\n",
    "from matplotlib.patches import Rectangle"
   ]
  },
  {
   "cell_type": "code",
   "execution_count": 2,
   "id": "4afec36e",
   "metadata": {},
   "outputs": [],
   "source": [
    "import astropy\n",
    "from astropy import stats"
   ]
  },
  {
   "cell_type": "code",
   "execution_count": 3,
   "id": "b1274b10",
   "metadata": {},
   "outputs": [
    {
     "data": {
      "text/html": [
       "<div>\n",
       "<style scoped>\n",
       "    .dataframe tbody tr th:only-of-type {\n",
       "        vertical-align: middle;\n",
       "    }\n",
       "\n",
       "    .dataframe tbody tr th {\n",
       "        vertical-align: top;\n",
       "    }\n",
       "\n",
       "    .dataframe thead th {\n",
       "        text-align: right;\n",
       "    }\n",
       "</style>\n",
       "<table border=\"1\" class=\"dataframe\">\n",
       "  <thead>\n",
       "    <tr style=\"text-align: right;\">\n",
       "      <th></th>\n",
       "      <th>Unnamed: 0</th>\n",
       "      <th>ID</th>\n",
       "      <th>Start time</th>\n",
       "      <th>Completion time</th>\n",
       "      <th>REF</th>\n",
       "      <th>Q1</th>\n",
       "      <th>Q2</th>\n",
       "      <th>Q3</th>\n",
       "      <th>Q4</th>\n",
       "      <th>Q5</th>\n",
       "      <th>...</th>\n",
       "      <th>Q18</th>\n",
       "      <th>Q19</th>\n",
       "      <th>Q20</th>\n",
       "      <th>Q21</th>\n",
       "      <th>Q22</th>\n",
       "      <th>Q23</th>\n",
       "      <th>Q24</th>\n",
       "      <th>Q25</th>\n",
       "      <th>Q26</th>\n",
       "      <th>Q27</th>\n",
       "    </tr>\n",
       "  </thead>\n",
       "  <tbody>\n",
       "    <tr>\n",
       "      <th>0</th>\n",
       "      <td>0</td>\n",
       "      <td>x-x</td>\n",
       "      <td>x-x</td>\n",
       "      <td>x-x</td>\n",
       "      <td>RES_ESP</td>\n",
       "      <td>Sonificación 1</td>\n",
       "      <td>A la izquierda</td>\n",
       "      <td>Sonificación 2</td>\n",
       "      <td>Sonificación 2</td>\n",
       "      <td>Espectro 2</td>\n",
       "      <td>...</td>\n",
       "      <td>x-x</td>\n",
       "      <td>x-x</td>\n",
       "      <td>x-x</td>\n",
       "      <td>x-x</td>\n",
       "      <td>x-x</td>\n",
       "      <td>x-x</td>\n",
       "      <td>x-x</td>\n",
       "      <td>x-x</td>\n",
       "      <td>x-x</td>\n",
       "      <td>x-x</td>\n",
       "    </tr>\n",
       "    <tr>\n",
       "      <th>1</th>\n",
       "      <td>0</td>\n",
       "      <td>x-x</td>\n",
       "      <td>x-x</td>\n",
       "      <td>x-x</td>\n",
       "      <td>RES_ENG</td>\n",
       "      <td>Sonification 1</td>\n",
       "      <td>Left</td>\n",
       "      <td>Sonification  2</td>\n",
       "      <td>Sonification  2</td>\n",
       "      <td>Spectrum 2</td>\n",
       "      <td>...</td>\n",
       "      <td>x-x</td>\n",
       "      <td>x-x</td>\n",
       "      <td>x-x</td>\n",
       "      <td>x-x</td>\n",
       "      <td>x-x</td>\n",
       "      <td>x-x</td>\n",
       "      <td>x-x</td>\n",
       "      <td>x-x</td>\n",
       "      <td>x-x</td>\n",
       "      <td>x-x</td>\n",
       "    </tr>\n",
       "    <tr>\n",
       "      <th>2</th>\n",
       "      <td>1</td>\n",
       "      <td>1.0</td>\n",
       "      <td>4/18/24 10:01:49</td>\n",
       "      <td>4/18/24 10:26:12</td>\n",
       "      <td>anonymous</td>\n",
       "      <td>Sonificación 2</td>\n",
       "      <td>A la izquierda</td>\n",
       "      <td>Sonificación 2</td>\n",
       "      <td>Sonificación 2</td>\n",
       "      <td>Espectro 1</td>\n",
       "      <td>...</td>\n",
       "      <td>Mucha experiencia (profesional)</td>\n",
       "      <td>Ninguna</td>\n",
       "      <td>Blues</td>\n",
       "      <td>31-40</td>\n",
       "      <td>No</td>\n",
       "      <td>España</td>\n",
       "      <td>Español</td>\n",
       "      <td>Sí, utilicé auriculares.</td>\n",
       "      <td>Audio 3D / Gaming;</td>\n",
       "      <td>Gran trabajo!</td>\n",
       "    </tr>\n",
       "    <tr>\n",
       "      <th>3</th>\n",
       "      <td>2</td>\n",
       "      <td>2.0</td>\n",
       "      <td>4/18/24 14:48:33</td>\n",
       "      <td>4/18/24 15:19:46</td>\n",
       "      <td>anonymous</td>\n",
       "      <td>Sonificación 1</td>\n",
       "      <td>A la izquierda</td>\n",
       "      <td>Sonificación 2</td>\n",
       "      <td>Sonificación 4</td>\n",
       "      <td>Espectro 1</td>\n",
       "      <td>...</td>\n",
       "      <td>Algo de experiencia (hobby/entusiasta)</td>\n",
       "      <td>Algo de experiencia (hobby/entusiasta)</td>\n",
       "      <td>Rock</td>\n",
       "      <td>21-30</td>\n",
       "      <td>No</td>\n",
       "      <td>ESPAÑA</td>\n",
       "      <td>ESPAÑOL</td>\n",
       "      <td>Sí, utilicé auriculares.</td>\n",
       "      <td>Intra-aurales;</td>\n",
       "      <td>x-x</td>\n",
       "    </tr>\n",
       "    <tr>\n",
       "      <th>4</th>\n",
       "      <td>3</td>\n",
       "      <td>3.0</td>\n",
       "      <td>4/18/24 17:14:38</td>\n",
       "      <td>4/18/24 17:21:38</td>\n",
       "      <td>anonymous</td>\n",
       "      <td>Sonificación 2</td>\n",
       "      <td>A la izquierda</td>\n",
       "      <td>Sonificación 2</td>\n",
       "      <td>Sonificación 1</td>\n",
       "      <td>Espectro 3</td>\n",
       "      <td>...</td>\n",
       "      <td>Algo de experiencia (hobby/entusiasta)</td>\n",
       "      <td>Muy básica</td>\n",
       "      <td>Clasica</td>\n",
       "      <td>Prefiero no decirlo</td>\n",
       "      <td>No</td>\n",
       "      <td>España</td>\n",
       "      <td>Español</td>\n",
       "      <td>No, no lo hice.</td>\n",
       "      <td>No lo sé.;</td>\n",
       "      <td>x-x</td>\n",
       "    </tr>\n",
       "    <tr>\n",
       "      <th>...</th>\n",
       "      <td>...</td>\n",
       "      <td>...</td>\n",
       "      <td>...</td>\n",
       "      <td>...</td>\n",
       "      <td>...</td>\n",
       "      <td>...</td>\n",
       "      <td>...</td>\n",
       "      <td>...</td>\n",
       "      <td>...</td>\n",
       "      <td>...</td>\n",
       "      <td>...</td>\n",
       "      <td>...</td>\n",
       "      <td>...</td>\n",
       "      <td>...</td>\n",
       "      <td>...</td>\n",
       "      <td>...</td>\n",
       "      <td>...</td>\n",
       "      <td>...</td>\n",
       "      <td>...</td>\n",
       "      <td>...</td>\n",
       "      <td>...</td>\n",
       "    </tr>\n",
       "    <tr>\n",
       "      <th>62</th>\n",
       "      <td>61</td>\n",
       "      <td>16.0</td>\n",
       "      <td>7/18/24 16:24:37</td>\n",
       "      <td>7/18/24 16:39:13</td>\n",
       "      <td>anonymous</td>\n",
       "      <td>Sonification 1</td>\n",
       "      <td>Left</td>\n",
       "      <td>Sonification 3</td>\n",
       "      <td>Sonification 2</td>\n",
       "      <td>Spectrum 3</td>\n",
       "      <td>...</td>\n",
       "      <td>Very experienced (professional)</td>\n",
       "      <td>Very experienced (professional)</td>\n",
       "      <td>Electronic Music, Jazz, Classical, Folk, Rock</td>\n",
       "      <td>41-50</td>\n",
       "      <td>No</td>\n",
       "      <td>Malta</td>\n",
       "      <td>English</td>\n",
       "      <td>Yes, I used headphones</td>\n",
       "      <td>Stereo;</td>\n",
       "      <td>x-x</td>\n",
       "    </tr>\n",
       "    <tr>\n",
       "      <th>63</th>\n",
       "      <td>62</td>\n",
       "      <td>17.0</td>\n",
       "      <td>7/21/24 9:56:47</td>\n",
       "      <td>7/21/24 10:55:44</td>\n",
       "      <td>anonymous</td>\n",
       "      <td>Sonification 2</td>\n",
       "      <td>Left</td>\n",
       "      <td>Sonification 3</td>\n",
       "      <td>Sonification 2</td>\n",
       "      <td>Spectrum 2</td>\n",
       "      <td>...</td>\n",
       "      <td>Some experienced (hobby/enthusiast)</td>\n",
       "      <td>Experienced (amateur)</td>\n",
       "      <td>Classical, jazz, rock</td>\n",
       "      <td>21-30</td>\n",
       "      <td>No</td>\n",
       "      <td>China</td>\n",
       "      <td>Mandarin</td>\n",
       "      <td>Yes, I used headphones</td>\n",
       "      <td>Stereo;</td>\n",
       "      <td>x-x</td>\n",
       "    </tr>\n",
       "    <tr>\n",
       "      <th>64</th>\n",
       "      <td>63</td>\n",
       "      <td>18.0</td>\n",
       "      <td>7/25/24 1:49:37</td>\n",
       "      <td>7/25/24 3:03:34</td>\n",
       "      <td>anonymous</td>\n",
       "      <td>Sonification 1</td>\n",
       "      <td>Left</td>\n",
       "      <td>Sonification 2</td>\n",
       "      <td>Sonification 2</td>\n",
       "      <td>Spectrum 2</td>\n",
       "      <td>...</td>\n",
       "      <td>No experienced</td>\n",
       "      <td>Very experienced (professional)</td>\n",
       "      <td>spatial electroacoustic music, music concrete,...</td>\n",
       "      <td>Prefer not to say</td>\n",
       "      <td>No</td>\n",
       "      <td>Australia</td>\n",
       "      <td>Elnglish</td>\n",
       "      <td>Yes, I used headphones</td>\n",
       "      <td>Circum-aural;</td>\n",
       "      <td>discriminating between constant tone and rever...</td>\n",
       "    </tr>\n",
       "    <tr>\n",
       "      <th>65</th>\n",
       "      <td>64</td>\n",
       "      <td>19.0</td>\n",
       "      <td>7/29/24 10:32:28</td>\n",
       "      <td>7/29/24 10:50:09</td>\n",
       "      <td>anonymous</td>\n",
       "      <td>Sonification 2</td>\n",
       "      <td>Left</td>\n",
       "      <td>Sonification 2</td>\n",
       "      <td>Sonification 3</td>\n",
       "      <td>Spectrum 2</td>\n",
       "      <td>...</td>\n",
       "      <td>No experienced</td>\n",
       "      <td>Some experienced (hobby/enthusiast)</td>\n",
       "      <td>Pop music</td>\n",
       "      <td>21-30</td>\n",
       "      <td>No</td>\n",
       "      <td>Spain</td>\n",
       "      <td>Catalan</td>\n",
       "      <td>Yes, I used headphones</td>\n",
       "      <td>Stereo;</td>\n",
       "      <td>x-x</td>\n",
       "    </tr>\n",
       "    <tr>\n",
       "      <th>66</th>\n",
       "      <td>66</td>\n",
       "      <td>1.0</td>\n",
       "      <td>5/13/24 11:17:19</td>\n",
       "      <td>5/13/24 11:33:10</td>\n",
       "      <td>anonymous</td>\n",
       "      <td>Sonification 2</td>\n",
       "      <td>Left</td>\n",
       "      <td>Sonification 2</td>\n",
       "      <td>Sonification 2</td>\n",
       "      <td>Spectrum 2</td>\n",
       "      <td>...</td>\n",
       "      <td>Very experienced (professional)</td>\n",
       "      <td>Experienced (amateur)</td>\n",
       "      <td>Electronic</td>\n",
       "      <td>31-40</td>\n",
       "      <td>No</td>\n",
       "      <td>United Kingdom</td>\n",
       "      <td>English</td>\n",
       "      <td>Yes, I used headphones</td>\n",
       "      <td>Stereo;</td>\n",
       "      <td>x-x</td>\n",
       "    </tr>\n",
       "  </tbody>\n",
       "</table>\n",
       "<p>67 rows × 32 columns</p>\n",
       "</div>"
      ],
      "text/plain": [
       "    Unnamed: 0    ID        Start time   Completion time        REF  \\\n",
       "0            0   x-x               x-x               x-x    RES_ESP   \n",
       "1            0   x-x               x-x               x-x    RES_ENG   \n",
       "2            1   1.0  4/18/24 10:01:49  4/18/24 10:26:12  anonymous   \n",
       "3            2   2.0  4/18/24 14:48:33  4/18/24 15:19:46  anonymous   \n",
       "4            3   3.0  4/18/24 17:14:38  4/18/24 17:21:38  anonymous   \n",
       "..         ...   ...               ...               ...        ...   \n",
       "62          61  16.0  7/18/24 16:24:37  7/18/24 16:39:13  anonymous   \n",
       "63          62  17.0   7/21/24 9:56:47  7/21/24 10:55:44  anonymous   \n",
       "64          63  18.0   7/25/24 1:49:37   7/25/24 3:03:34  anonymous   \n",
       "65          64  19.0  7/29/24 10:32:28  7/29/24 10:50:09  anonymous   \n",
       "66          66   1.0  5/13/24 11:17:19  5/13/24 11:33:10  anonymous   \n",
       "\n",
       "                Q1              Q2               Q3               Q4  \\\n",
       "0   Sonificación 1  A la izquierda   Sonificación 2   Sonificación 2   \n",
       "1   Sonification 1            Left  Sonification  2  Sonification  2   \n",
       "2   Sonificación 2  A la izquierda   Sonificación 2   Sonificación 2   \n",
       "3   Sonificación 1  A la izquierda   Sonificación 2   Sonificación 4   \n",
       "4   Sonificación 2  A la izquierda   Sonificación 2   Sonificación 1   \n",
       "..             ...             ...              ...              ...   \n",
       "62  Sonification 1            Left   Sonification 3   Sonification 2   \n",
       "63  Sonification 2            Left   Sonification 3   Sonification 2   \n",
       "64  Sonification 1            Left   Sonification 2   Sonification 2   \n",
       "65  Sonification 2            Left   Sonification 2   Sonification 3   \n",
       "66  Sonification 2            Left   Sonification 2   Sonification 2   \n",
       "\n",
       "            Q5  ...                                     Q18  \\\n",
       "0   Espectro 2  ...                                     x-x   \n",
       "1   Spectrum 2  ...                                     x-x   \n",
       "2   Espectro 1  ...         Mucha experiencia (profesional)   \n",
       "3   Espectro 1  ...  Algo de experiencia (hobby/entusiasta)   \n",
       "4   Espectro 3  ...  Algo de experiencia (hobby/entusiasta)   \n",
       "..         ...  ...                                     ...   \n",
       "62  Spectrum 3  ...         Very experienced (professional)   \n",
       "63  Spectrum 2  ...     Some experienced (hobby/enthusiast)   \n",
       "64  Spectrum 2  ...                          No experienced   \n",
       "65  Spectrum 2  ...                          No experienced   \n",
       "66  Spectrum 2  ...         Very experienced (professional)   \n",
       "\n",
       "                                       Q19  \\\n",
       "0                                      x-x   \n",
       "1                                      x-x   \n",
       "2                                  Ninguna   \n",
       "3   Algo de experiencia (hobby/entusiasta)   \n",
       "4                               Muy básica   \n",
       "..                                     ...   \n",
       "62         Very experienced (professional)   \n",
       "63                   Experienced (amateur)   \n",
       "64         Very experienced (professional)   \n",
       "65     Some experienced (hobby/enthusiast)   \n",
       "66                   Experienced (amateur)   \n",
       "\n",
       "                                                  Q20                  Q21  \\\n",
       "0                                                 x-x                  x-x   \n",
       "1                                                 x-x                  x-x   \n",
       "2                                               Blues                31-40   \n",
       "3                                               Rock                 21-30   \n",
       "4                                             Clasica  Prefiero no decirlo   \n",
       "..                                                ...                  ...   \n",
       "62     Electronic Music, Jazz, Classical, Folk, Rock                 41-50   \n",
       "63                              Classical, jazz, rock                21-30   \n",
       "64  spatial electroacoustic music, music concrete,...    Prefer not to say   \n",
       "65                                          Pop music                21-30   \n",
       "66                                         Electronic                31-40   \n",
       "\n",
       "    Q22              Q23       Q24                       Q25  \\\n",
       "0   x-x              x-x       x-x                       x-x   \n",
       "1   x-x              x-x       x-x                       x-x   \n",
       "2    No           España   Español  Sí, utilicé auriculares.   \n",
       "3    No           ESPAÑA   ESPAÑOL  Sí, utilicé auriculares.   \n",
       "4    No          España   Español            No, no lo hice.   \n",
       "..  ...              ...       ...                       ...   \n",
       "62   No            Malta   English    Yes, I used headphones   \n",
       "63   No            China  Mandarin    Yes, I used headphones   \n",
       "64   No        Australia  Elnglish    Yes, I used headphones   \n",
       "65   No            Spain   Catalan    Yes, I used headphones   \n",
       "66   No  United Kingdom    English    Yes, I used headphones   \n",
       "\n",
       "                   Q26                                                Q27  \n",
       "0                  x-x                                                x-x  \n",
       "1                  x-x                                                x-x  \n",
       "2   Audio 3D / Gaming;                                      Gran trabajo!  \n",
       "3       Intra-aurales;                                                x-x  \n",
       "4           No lo sé.;                                                x-x  \n",
       "..                 ...                                                ...  \n",
       "62             Stereo;                                                x-x  \n",
       "63             Stereo;                                                x-x  \n",
       "64       Circum-aural;  discriminating between constant tone and rever...  \n",
       "65             Stereo;                                                x-x  \n",
       "66             Stereo;                                                x-x  \n",
       "\n",
       "[67 rows x 32 columns]"
      ]
     },
     "execution_count": 3,
     "metadata": {},
     "output_type": "execute_result"
    }
   ],
   "source": [
    "data = pd.read_csv(\"ViewCube_survey-clean.csv\", delimiter=';')\n",
    "data.fillna(\"x-x\", inplace=True)\n",
    "data"
   ]
  },
  {
   "cell_type": "code",
   "execution_count": 4,
   "id": "17c5d856",
   "metadata": {},
   "outputs": [
    {
     "name": "stdout",
     "output_type": "stream",
     "text": [
      "Total responses: 65\n"
     ]
    }
   ],
   "source": [
    "data_total_responses = len(data)-2\n",
    "print(\"Total responses:\", data_total_responses)"
   ]
  },
  {
   "cell_type": "code",
   "execution_count": 5,
   "id": "3decaeb2",
   "metadata": {},
   "outputs": [],
   "source": [
    "def percentage (participants):\n",
    "    y = (participants/data_total_responses)*100\n",
    "    return(y)"
   ]
  },
  {
   "cell_type": "code",
   "execution_count": 6,
   "id": "5d46492f",
   "metadata": {},
   "outputs": [],
   "source": [
    "def percentage_sub (participants, subgroup_responses):\n",
    "    z = (participants/subgroup_responses)*100\n",
    "    return(z)"
   ]
  },
  {
   "cell_type": "markdown",
   "id": "700c2494",
   "metadata": {},
   "source": [
    "# Global results"
   ]
  },
  {
   "cell_type": "markdown",
   "id": "758aabae",
   "metadata": {},
   "source": [
    "### 12 Simple questions"
   ]
  },
  {
   "cell_type": "code",
   "execution_count": 7,
   "id": "1cf0965b",
   "metadata": {},
   "outputs": [
    {
     "data": {
      "text/plain": [
       "array([30, 57, 25, 25, 39, 42, 34, 43, 31, 16, 26, 34])"
      ]
     },
     "execution_count": 7,
     "metadata": {},
     "output_type": "execute_result"
    }
   ],
   "source": [
    "Q1G = len([i for i in range(len(data)) if ((data.Q1[i] == data.Q1[0]) or (data.Q1[i] == data.Q1[1]))])-2\n",
    "Q2G = len([i for i in range(len(data)) if ((data.Q2[i] == data.Q2[0]) or (data.Q2[i] == data.Q2[1]))])-2\n",
    "Q3G = len([i for i in range(len(data)) if ((data.Q3[i] == data.Q3[0]) or (data.Q3[i] == data.Q3[1]))])-2\n",
    "Q4G = len([i for i in range(len(data)) if ((data.Q4[i] == data.Q4[0]) or (data.Q4[i] == data.Q4[1]))])-2\n",
    "Q5G = len([i for i in range(len(data)) if ((data.Q5[i] == data.Q5[0]) or (data.Q5[i] == data.Q5[1]))])-2\n",
    "Q6G = len([i for i in range(len(data)) if ((data.Q6[i] == data.Q6[0]) or (data.Q6[i] == data.Q6[1]))])-2\n",
    "Q7G = len([i for i in range(len(data)) if ((data.Q7[i] == data.Q7[0]) or (data.Q7[i] == data.Q7[1]))])-2\n",
    "Q8G = len([i for i in range(len(data)) if ((data.Q8[i] == data.Q8[0]) or (data.Q8[i] == data.Q8[1]))])-2\n",
    "Q9G = len([i for i in range(len(data)) if ((data.Q9[i] == data.Q9[0]) or (data.Q9[i] == data.Q9[1]))])-2\n",
    "Q10G = len([i for i in range(len(data)) if ((data.Q10[i] == data.Q10[0]) or (data.Q10[i] == data.Q10[1]))])-2\n",
    "Q11G = len([i for i in range(len(data)) if ((data.Q11[i] == data.Q11[0]) or (data.Q11[i] == data.Q11[1]))])-2\n",
    "Q12G = len([i for i in range(len(data)) if ((data.Q12[i] == data.Q12[0]) or (data.Q12[i] == data.Q12[1]))])-2\n",
    "\n",
    "data_correct = [Q1G,Q2G,Q3G,Q4G,Q5G,Q6G,Q7G,Q8G,Q9G,Q10G,Q11G,Q12G]\n",
    "data_correct = np.array(data_correct, int)\n",
    "data_correct #12 Single response correct results"
   ]
  },
  {
   "cell_type": "code",
   "execution_count": 8,
   "id": "54224095",
   "metadata": {},
   "outputs": [
    {
     "name": "stdout",
     "output_type": "stream",
     "text": [
      "Total responses:  65\n",
      "Global success mean: 0.5153846153846153\n",
      "Jeffreys confidence interval:  [0.49748195 0.53324786]\n"
     ]
    }
   ],
   "source": [
    "mean_data_correct = np.mean(data_correct)\n",
    "print(\"Total responses: \", data_total_responses)\n",
    "print(\"Global success mean:\", mean_data_correct/data_total_responses)\n",
    "\n",
    "success_data_correct = np.sum(data_correct)\n",
    "attempts_data_correct = 12* data_total_responses\n",
    "conf_data_correct = astropy.stats.binom_conf_interval(success_data_correct, attempts_data_correct, confidence_level=0.68269, interval='jeffreys')\n",
    "print(\"Jeffreys confidence interval: \", conf_data_correct) # Correct answers interval"
   ]
  },
  {
   "cell_type": "code",
   "execution_count": 9,
   "id": "f958b653",
   "metadata": {
    "scrolled": true
   },
   "outputs": [],
   "source": [
    "glob = pd.Series(data_correct/data_total_responses)"
   ]
  },
  {
   "cell_type": "code",
   "execution_count": 10,
   "id": "5e588ea0",
   "metadata": {},
   "outputs": [
    {
     "data": {
      "text/plain": [
       "count    12.000000\n",
       "mean      0.515385\n",
       "std       0.165372\n",
       "min       0.246154\n",
       "25%       0.396154\n",
       "50%       0.500000\n",
       "75%       0.611538\n",
       "max       0.876923\n",
       "dtype: float64"
      ]
     },
     "execution_count": 10,
     "metadata": {},
     "output_type": "execute_result"
    }
   ],
   "source": [
    "glob.describe()"
   ]
  },
  {
   "cell_type": "markdown",
   "id": "9a5bcc1b",
   "metadata": {},
   "source": [
    "### 2 Combined questions"
   ]
  },
  {
   "cell_type": "code",
   "execution_count": 11,
   "id": "6d860a2b",
   "metadata": {},
   "outputs": [
    {
     "data": {
      "text/plain": [
       "array([11, 10])"
      ]
     },
     "execution_count": 11,
     "metadata": {},
     "output_type": "execute_result"
    }
   ],
   "source": [
    "check_1 = \"Lejos\"\n",
    "check_2 = \"derecha\"\n",
    "check_3 = \"formación\"\n",
    "check_4 = \"Far\"\n",
    "check_5 = \"Right\"\n",
    "check_6 = \"forming\"\n",
    "\n",
    "Q13G = len([i for i in range(len(data)) if ((check_1 in data.Q13[i]) and (check_2 in data.Q13[i]) and (check_3 in data.Q13[i])) or ((check_4 in data.Q13[i]) and (check_5 in data.Q13[i]) and (check_6 in data.Q13[i]))])-2\n",
    "\n",
    "check_7 = \"Cerca\"\n",
    "check_8 = \"izquierda\"\n",
    "check_9 = \"vieja\"\n",
    "check_10 = \"Close\"\n",
    "check_11 = \"Left\"\n",
    "check_12 = \"Retired\"\n",
    "\n",
    "Q14G = len([i for i in range(len(data)) if ((check_7 in data.Q14[i]) and (check_8 in data.Q14[i]) and (check_9 in data.Q14[i])) or ((check_10 in data.Q14[i]) and (check_11 in data.Q14[i]) and (check_12 in data.Q14[i]))])-2\n",
    "\n",
    "combined_correct = [Q13G,Q14G]\n",
    "combined_correct = np.array(combined_correct, int)\n",
    "\n",
    "combined_correct"
   ]
  },
  {
   "cell_type": "code",
   "execution_count": 12,
   "id": "35bb68ff",
   "metadata": {},
   "outputs": [
    {
     "name": "stdout",
     "output_type": "stream",
     "text": [
      "Global success mean (Combined questions): 0.16153846153846155\n",
      "Jeffreys confidence interval:  [0.13190661 0.19635536]\n"
     ]
    }
   ],
   "source": [
    "mean_combined_correct = np.mean(combined_correct)\n",
    "print(\"Global success mean (Combined questions):\", mean_combined_correct/data_total_responses)\n",
    "success_combined_correct = np.sum(combined_correct)\n",
    "attempts_combined_correct = 2* data_total_responses\n",
    "conf_combined_correct = astropy.stats.binom_conf_interval(success_combined_correct, attempts_combined_correct, confidence_level=0.68269, interval='jeffreys')\n",
    "print(\"Jeffreys confidence interval: \", conf_combined_correct) # Correct answers interval"
   ]
  },
  {
   "cell_type": "code",
   "execution_count": 13,
   "id": "c7c8f5ed",
   "metadata": {},
   "outputs": [
    {
     "data": {
      "text/plain": [
       "count    2.000000\n",
       "mean     0.161538\n",
       "std      0.010879\n",
       "min      0.153846\n",
       "25%      0.157692\n",
       "50%      0.161538\n",
       "75%      0.165385\n",
       "max      0.169231\n",
       "dtype: float64"
      ]
     },
     "execution_count": 13,
     "metadata": {},
     "output_type": "execute_result"
    }
   ],
   "source": [
    "glob_comb = pd.Series(combined_correct/data_total_responses)\n",
    "glob_comb.describe()"
   ]
  },
  {
   "cell_type": "markdown",
   "id": "a904763b",
   "metadata": {},
   "source": [
    "## Qualitative questions"
   ]
  },
  {
   "cell_type": "code",
   "execution_count": 14,
   "id": "532d3325",
   "metadata": {},
   "outputs": [
    {
     "name": "stdout",
     "output_type": "stream",
     "text": [
      "Interactivity 'good' or 'very good': 34\n",
      "(%) 80.95238095238095\n",
      "Interactivity 'acceptable': 6\n",
      "(%) 14.285714285714285\n",
      "Interactivity 'bad' or 'very bad': 2\n",
      "(%) 4.761904761904762\n",
      "Participants that couldn't test the application in person: 23\n",
      "(%) 35.38461538461539\n"
     ]
    }
   ],
   "source": [
    "# Interactivity\n",
    "Q15G_good = len([i for i in range(len(data)) if ((\"Buena\" in data.Q15[i]) or (\"Muy buena\" in data.Q15[i]) or (\"Good\" in data.Q15[i]) or (\"Very good\" in data.Q15[i]))])\n",
    "Q15G_acc = len([i for i in range(len(data)) if ((\"Aceptable\" in data.Q15[i]) or (\"Acceptable\" in data.Q15[i]))])\n",
    "Q15G_bad = len([i for i in range(len(data)) if ((\"Mala\" in data.Q15[i]) or (\"Muy mala\" in data.Q15[i]) or (\"Bad\" in data.Q15[i]) or (\"Very bad\" in data.Q15[i]))])\n",
    "Q15G_xxx = len([i for i in range(len(data)) if (\"XXX\" in data.Q15[i])])\n",
    "print(\"Interactivity 'good' or 'very good':\", Q15G_good) #Lack of this question in the first version of the survey (1 participant)\n",
    "print(\"(%)\", percentage_sub(Q15G_good, data_total_responses - Q15G_xxx))\n",
    "print(\"Interactivity 'acceptable':\", Q15G_acc)\n",
    "print(\"(%)\", percentage_sub(Q15G_acc, data_total_responses - Q15G_xxx))\n",
    "print(\"Interactivity 'bad' or 'very bad':\", Q15G_bad)\n",
    "print(\"(%)\", percentage_sub(Q15G_bad, data_total_responses - Q15G_xxx))\n",
    "print(\"Participants that couldn't test the application in person:\", Q15G_xxx)\n",
    "print(\"(%)\", percentage(Q15G_xxx))"
   ]
  },
  {
   "cell_type": "code",
   "execution_count": 15,
   "id": "97be3279",
   "metadata": {},
   "outputs": [
    {
     "name": "stdout",
     "output_type": "stream",
     "text": [
      "Participants finding it 'useful' or 'very useful': 51\n",
      "(%) 78.46153846153847\n",
      "Participants finding it 'Doubtedly useful' or 'useless': 14\n",
      "(%) 21.53846153846154\n"
     ]
    }
   ],
   "source": [
    "# Usefulness\n",
    "Q16G_good = len([i for i in range(len(data)) if ((\"Útil\" in data.Q16[i]) or (\"Muy útil\" in data.Q16[i]) or (\"Useful\" in data.Q16[i]) or (\"Very useful\" in data.Q16[i]))])\n",
    "Q16G_bad = len([i for i in range(len(data)) if ((\"dudosa\" in data.Q16[i]) or (\"Doubtedly\" in data.Q16[i]) or (\"Doubtely\" in data.Q16[i]) or (\"Inútil\" in data.Q16[i]) or (\"Useless\" in data.Q16[i]))])\n",
    "print(\"Participants finding it 'useful' or 'very useful':\", Q16G_good)\n",
    "print(\"(%)\", percentage(Q16G_good))\n",
    "print(\"Participants finding it 'Doubtedly useful' or 'useless':\", Q16G_bad)\n",
    "print(\"(%)\", percentage(Q16G_bad))"
   ]
  },
  {
   "cell_type": "code",
   "execution_count": 16,
   "id": "93d4a73e",
   "metadata": {},
   "outputs": [
    {
     "name": "stdout",
     "output_type": "stream",
     "text": [
      "Sound Quality 'good' or 'very good': 37\n",
      "(%) 56.92307692307692\n",
      "Sound Quality 'acceptable': 23\n",
      "(%) 35.38461538461539\n",
      "Sound Quality 'bad' or 'very bad': 5\n",
      "(%) 7.6923076923076925\n"
     ]
    }
   ],
   "source": [
    "# Quality of sound\n",
    "Q17G_good = len([i for i in range(len(data)) if ((\"Buen\" in data.Q17[i]) or (\"Muy buen\" in data.Q17[i]) or (\"Good\" in data.Q17[i]) or (\"Nice\" in data.Q17[i]))])\n",
    "Q17G_acc = len([i for i in range(len(data)) if ((\"Aceptable\" in data.Q17[i]) or (\"Acceptable\" in data.Q17[i]))])\n",
    "Q17G_bad = len([i for i in range(len(data)) if ((\"Mal\" in data.Q17[i]) or (\"Insoportable\" in data.Q17[i]) or (\"Bad\" in data.Q17[i]) or (\"Intolerable\" in data.Q17[i]))])\n",
    "print(\"Sound Quality 'good' or 'very good':\", Q17G_good)\n",
    "print(\"(%)\", percentage(Q17G_good))\n",
    "print(\"Sound Quality 'acceptable':\", Q17G_acc)\n",
    "print(\"(%)\", percentage(Q17G_acc))\n",
    "print(\"Sound Quality 'bad' or 'very bad':\", Q17G_bad)\n",
    "print(\"(%)\", percentage(Q17G_bad))"
   ]
  },
  {
   "cell_type": "markdown",
   "id": "666358c3",
   "metadata": {},
   "source": [
    "## Demographics"
   ]
  },
  {
   "cell_type": "code",
   "execution_count": 17,
   "id": "e64beaa5",
   "metadata": {
    "scrolled": true
   },
   "outputs": [
    {
     "name": "stdout",
     "output_type": "stream",
     "text": [
      "Total number of participants (check): 65\n",
      "Number of professional astronomers: 29\n",
      "(%) 44.61538461538462\n",
      "Number of non professional astronomers: 36\n",
      "(%) 55.38461538461539\n",
      "------------------SUBGROUPS----------------------\n",
      "Number of professional astronomers-musicians: 1\n",
      "(%) 1.5384615384615385\n",
      "Number of professional astronomers-amateur musicians: 15\n",
      "(%) 23.076923076923077\n",
      "Number of professional astronomers: 14\n",
      "(%) 21.53846153846154\n",
      "Number of amateur astronomers: 5\n",
      "(%) 7.6923076923076925\n",
      "Number of professional musicians non-astronomers(professional and amateur): 4\n",
      "(%) 6.153846153846154\n",
      "Number of amateur musicians non-astronomers(professional and amateur): 4\n",
      "(%) 6.153846153846154\n",
      "Number of non-experienced: 22\n",
      "(%) 33.84615384615385\n",
      "Number of BLV participants: 0\n",
      "(%) 0.0\n"
     ]
    }
   ],
   "source": [
    "Astro = len([i for i in range(2,len(data)) if (((\"profesional\" in data.Q18[i]) or (\"professional\" in data.Q18[i])))])\n",
    "Astro_mus_pro = len([i for i in range(2,len(data)) if (((\"profesional\" in data.Q18[i]) or (\"professional\" in data.Q18[i])) and ((\"profesional\" in data.Q19[i]) or (\"professional\" in data.Q19[i])))])\n",
    "Astro_mus_amt = len([i for i in range(2,len(data)) if (((\"profesional\" in data.Q18[i]) or (\"professional\" in data.Q18[i])) and ((\"experiencia\" in data.Q19[i]) or (\"experienced\" in data.Q19[i])))])\n",
    "Astro_pro = len([i for i in range(2,len(data)) if (((\"profesional\" in data.Q18[i]) or (\"professional\" in data.Q18[i]))) and not (((\"profesional\" in data.Q19[i]) or (\"professional\" in data.Q19[i]) or (\"experiencia\" in data.Q19[i]) or (\"experienced\" in data.Q19[i])))])\n",
    "Astro_amt = len([i for i in range(2,len(data)) if (((\"entusiasta\" in data.Q18[i]) or (\"enthusiast\" in data.Q18[i]))) and not (((\"profesional\" in data.Q19[i]) or (\"professional\" in data.Q19[i]) or (\"experiencia\" in data.Q19[i]) or (\"experienced\" in data.Q19[i])))])\n",
    "Mus_pro = len([i for i in range(2,len(data)) if (((\"profesional\" in data.Q19[i]) or (\"professional\" in data.Q19[i]))) and not (((\"profesional\" in data.Q18[i]) or (\"professional\" in data.Q18[i]) or (\"entusiasta\" in data.Q18[i]) or (\"enthusiast\" in data.Q18[i])))])\n",
    "Mus_amt = len([i for i in range(2,len(data)) if (\"amateur\" in data.Q19[i]) and not ((\"profesional\" in data.Q18[i]) or (\"professional\" in data.Q18[i]) or (\"entusiasta\" in data.Q18[i]) or (\"enthusiast\" in data.Q18[i]))])\n",
    "Non_exp = data_total_responses - Astro_mus_pro - Astro_mus_amt - Astro_pro - Astro_amt - Mus_pro - Mus_amt\n",
    "BLV = len([i for i in range(2,len(data)) if (\"Yes\" in data.Q22[i])]) #included within the professional astronomers group\n",
    "check = Non_exp + Astro_mus_pro + Astro_mus_amt + Astro_pro + Astro_amt + Mus_pro + Mus_amt \n",
    "Astro = len([i for i in range(2,len(data)) if (((\"profesional\" in data.Q18[i]) or (\"professional\" in data.Q18[i])))])\n",
    "Non_astro = len([i for i in range(2,len(data)) if not (((\"profesional\" in data.Q18[i]) or (\"professional\" in data.Q18[i])))])\n",
    "\n",
    "print(\"Total number of participants (check):\", check)\n",
    "\n",
    "print(\"Number of professional astronomers:\", Astro)\n",
    "print(\"(%)\", percentage(Astro))\n",
    "print(\"Number of non professional astronomers:\", Non_astro)\n",
    "print(\"(%)\", percentage(Non_astro))\n",
    "\n",
    "\n",
    "print(\"------------------SUBGROUPS----------------------\")\n",
    "print(\"Number of professional astronomers-musicians:\", Astro_mus_pro)\n",
    "print(\"(%)\", percentage(Astro_mus_pro))\n",
    "print(\"Number of professional astronomers-amateur musicians:\", Astro_mus_amt)\n",
    "print(\"(%)\", percentage(Astro_mus_amt))\n",
    "print(\"Number of professional astronomers:\", Astro_pro)\n",
    "print(\"(%)\", percentage(Astro_pro))\n",
    "print(\"Number of amateur astronomers:\", Astro_amt)\n",
    "print(\"(%)\", percentage(Astro_amt))\n",
    "print(\"Number of professional musicians non-astronomers(professional and amateur):\", Mus_pro)\n",
    "print(\"(%)\", percentage(Mus_pro))\n",
    "print(\"Number of amateur musicians non-astronomers(professional and amateur):\", Mus_amt)\n",
    "print(\"(%)\", percentage(Mus_amt))\n",
    "print(\"Number of non-experienced:\", Non_exp)\n",
    "print(\"(%)\", percentage(Non_exp))\n",
    "print(\"Number of BLV participants:\", BLV)\n",
    "print(\"(%)\", percentage(BLV))"
   ]
  },
  {
   "cell_type": "code",
   "execution_count": 18,
   "id": "73798bac",
   "metadata": {},
   "outputs": [
    {
     "name": "stdout",
     "output_type": "stream",
     "text": [
      "Number of participants under 21: 1\n",
      "(%) 1.5384615384615385\n",
      "Number of participants between 21 and 30 : 18\n",
      "(%) 27.692307692307693\n",
      "Number of participants between 31 and 40 : 9\n",
      "(%) 13.846153846153847\n",
      "Number of participants between 41 and 50 : 19\n",
      "(%) 29.230769230769234\n",
      "Number of participants between 51 and 60 : 6\n",
      "(%) 9.230769230769232\n",
      "Number of participants over 60 : 10\n",
      "(%) 15.384615384615385\n"
     ]
    }
   ],
   "source": [
    "#Participants' age range\n",
    "Q21G_21 = len([i for i in range(len(data)) if ((\"Menos\" in data.Q21[i]) or (\"Under\" in data.Q21[i]))])\n",
    "Q21G_21_30 = len([i for i in range(len(data)) if ((\"21-30\" in data.Q21[i]))])\n",
    "Q21G_31_40 = len([i for i in range(len(data)) if ((\"31-40\" in data.Q21[i]))])\n",
    "Q21G_41_50 = len([i for i in range(len(data)) if ((\"41-50\" in data.Q21[i]))])\n",
    "Q21G_51_60 = len([i for i in range(len(data)) if ((\"51-60\" in data.Q21[i]))])\n",
    "Q21G_60 = len([i for i in range(len(data)) if ((\"Más\" in data.Q21[i]) or (\"Over\" in data.Q21[i]))])\n",
    "\n",
    "print(\"Number of participants under 21:\", Q21G_21)\n",
    "print(\"(%)\", percentage(Q21G_21))\n",
    "print(\"Number of participants between 21 and 30 :\", Q21G_21_30)\n",
    "print(\"(%)\", percentage(Q21G_21_30))\n",
    "print(\"Number of participants between 31 and 40 :\", Q21G_31_40)\n",
    "print(\"(%)\", percentage(Q21G_31_40))\n",
    "print(\"Number of participants between 41 and 50 :\", Q21G_41_50)\n",
    "print(\"(%)\", percentage(Q21G_41_50))\n",
    "print(\"Number of participants between 51 and 60 :\", Q21G_51_60)\n",
    "print(\"(%)\", percentage(Q21G_51_60))\n",
    "print(\"Number of participants over 60 :\", Q21G_60)\n",
    "print(\"(%)\", percentage(Q21G_60))"
   ]
  },
  {
   "cell_type": "markdown",
   "id": "b867db56",
   "metadata": {},
   "source": [
    "## Appending Global results"
   ]
  },
  {
   "cell_type": "code",
   "execution_count": 19,
   "id": "c88b59da",
   "metadata": {},
   "outputs": [],
   "source": [
    "column_list = [\"Global\", \"<21\", \"21-30\", \"31-40\", \"41-50\", \"51-60\", \">60\"]\n",
    "participants_list = []\n",
    "success_list = []\n",
    "Jeff_low_list = []\n",
    "Jeff_high_list = []\n",
    "std_list = []\n",
    "comb_success_list = []\n",
    "comb_Jeff_low_list = []\n",
    "comb_Jeff_high_list = []\n",
    "comb_std_list = []\n",
    "interactivity_list = []\n",
    "useful_list = []\n",
    "sound_list = []"
   ]
  },
  {
   "cell_type": "code",
   "execution_count": 20,
   "id": "5ba7b505",
   "metadata": {},
   "outputs": [],
   "source": [
    "participants_list.append(data_total_responses)\n",
    "success_list.append(glob.describe()[\"mean\"])\n",
    "Jeff_low_list.append(conf_data_correct[0])\n",
    "Jeff_high_list.append(conf_data_correct[1])\n",
    "std_list.append(glob.describe()[\"std\"])\n",
    "comb_success_list.append(glob_comb.describe()[\"mean\"])\n",
    "comb_Jeff_low_list.append(conf_combined_correct[0])\n",
    "comb_Jeff_high_list.append(conf_combined_correct[1])\n",
    "comb_std_list.append(glob_comb.describe()[\"std\"])\n",
    "interactivity_list.append(percentage_sub(Q15G_good, data_total_responses - Q15G_xxx))\n",
    "useful_list.append(percentage(Q16G_good))\n",
    "sound_list.append(percentage(Q17G_good))"
   ]
  },
  {
   "cell_type": "markdown",
   "id": "b6b2f249",
   "metadata": {},
   "source": [
    "# Analysis by age groups"
   ]
  },
  {
   "cell_type": "markdown",
   "id": "33da6ee4",
   "metadata": {},
   "source": [
    "### G<21"
   ]
  },
  {
   "cell_type": "code",
   "execution_count": 21,
   "id": "5e2fe671",
   "metadata": {},
   "outputs": [
    {
     "name": "stdout",
     "output_type": "stream",
     "text": [
      "Number of participants in G21: 1\n"
     ]
    },
    {
     "data": {
      "text/html": [
       "<div>\n",
       "<style scoped>\n",
       "    .dataframe tbody tr th:only-of-type {\n",
       "        vertical-align: middle;\n",
       "    }\n",
       "\n",
       "    .dataframe tbody tr th {\n",
       "        vertical-align: top;\n",
       "    }\n",
       "\n",
       "    .dataframe thead th {\n",
       "        text-align: right;\n",
       "    }\n",
       "</style>\n",
       "<table border=\"1\" class=\"dataframe\">\n",
       "  <thead>\n",
       "    <tr style=\"text-align: right;\">\n",
       "      <th></th>\n",
       "      <th>Unnamed: 0</th>\n",
       "      <th>ID</th>\n",
       "      <th>Start time</th>\n",
       "      <th>Completion time</th>\n",
       "      <th>REF</th>\n",
       "      <th>Q1</th>\n",
       "      <th>Q2</th>\n",
       "      <th>Q3</th>\n",
       "      <th>Q4</th>\n",
       "      <th>Q5</th>\n",
       "      <th>...</th>\n",
       "      <th>Q18</th>\n",
       "      <th>Q19</th>\n",
       "      <th>Q20</th>\n",
       "      <th>Q21</th>\n",
       "      <th>Q22</th>\n",
       "      <th>Q23</th>\n",
       "      <th>Q24</th>\n",
       "      <th>Q25</th>\n",
       "      <th>Q26</th>\n",
       "      <th>Q27</th>\n",
       "    </tr>\n",
       "  </thead>\n",
       "  <tbody>\n",
       "    <tr>\n",
       "      <th>11</th>\n",
       "      <td>10</td>\n",
       "      <td>10.0</td>\n",
       "      <td>4/18/24 23:21:02</td>\n",
       "      <td>4/18/24 23:30:11</td>\n",
       "      <td>anonymous</td>\n",
       "      <td>Sonificación 2</td>\n",
       "      <td>A la izquierda</td>\n",
       "      <td>Sonificación 4</td>\n",
       "      <td>Sonificación 1</td>\n",
       "      <td>Espectro 1</td>\n",
       "      <td>...</td>\n",
       "      <td>Ninguna</td>\n",
       "      <td>Ninguna</td>\n",
       "      <td>pop</td>\n",
       "      <td>Menos de 21</td>\n",
       "      <td>No</td>\n",
       "      <td>España</td>\n",
       "      <td>español</td>\n",
       "      <td>No, no lo hice.</td>\n",
       "      <td>Estéreo;</td>\n",
       "      <td>x-x</td>\n",
       "    </tr>\n",
       "  </tbody>\n",
       "</table>\n",
       "<p>1 rows × 32 columns</p>\n",
       "</div>"
      ],
      "text/plain": [
       "    Unnamed: 0    ID        Start time   Completion time        REF  \\\n",
       "11          10  10.0  4/18/24 23:21:02  4/18/24 23:30:11  anonymous   \n",
       "\n",
       "                Q1              Q2              Q3              Q4  \\\n",
       "11  Sonificación 2  A la izquierda  Sonificación 4  Sonificación 1   \n",
       "\n",
       "            Q5  ...      Q18      Q19  Q20          Q21 Q22     Q23      Q24  \\\n",
       "11  Espectro 1  ...  Ninguna  Ninguna  pop  Menos de 21  No  España  español   \n",
       "\n",
       "                Q25       Q26  Q27  \n",
       "11  No, no lo hice.  Estéreo;  x-x  \n",
       "\n",
       "[1 rows x 32 columns]"
      ]
     },
     "execution_count": 21,
     "metadata": {},
     "output_type": "execute_result"
    }
   ],
   "source": [
    "G21_list = []\n",
    "G21_index = []\n",
    "G21_counter = 0\n",
    "for i in range(len(data)):\n",
    "    if ((\"Menos\" in data.Q21[i]) or (\"Under\" in data.Q21[i])):\n",
    "        G21_counter += 1\n",
    "        current_row = data.iloc[i]\n",
    "        G21_list.append(current_row)\n",
    "        G21_index.append(i)\n",
    "        \n",
    "print(\"Number of participants in G21:\", G21_counter)\n",
    "G21_df = pd.DataFrame(G21_list)\n",
    "G21_df"
   ]
  },
  {
   "cell_type": "code",
   "execution_count": 22,
   "id": "792a79bf",
   "metadata": {},
   "outputs": [
    {
     "data": {
      "text/plain": [
       "array([0, 1, 0, 0, 0, 1, 0, 0, 1, 0, 0, 0])"
      ]
     },
     "execution_count": 22,
     "metadata": {},
     "output_type": "execute_result"
    }
   ],
   "source": [
    "Q1_21 = len([i for i in range(len(G21_df)) if ((G21_df.Q1[G21_index[i]] == data.Q1[0]) or (G21_df.Q1[G21_index[i]] == data.Q1[1]))])\n",
    "Q2_21 = len([i for i in range(len(G21_df)) if ((G21_df.Q2[G21_index[i]] == data.Q2[0]) or (G21_df.Q2[G21_index[i]] == data.Q2[1]))])\n",
    "Q3_21 = len([i for i in range(len(G21_df)) if ((G21_df.Q3[G21_index[i]] == data.Q3[0]) or (G21_df.Q3[G21_index[i]] == data.Q3[1]))])\n",
    "Q4_21 = len([i for i in range(len(G21_df)) if ((G21_df.Q4[G21_index[i]] == data.Q4[0]) or (G21_df.Q4[G21_index[i]] == data.Q4[1]))])\n",
    "Q5_21 = len([i for i in range(len(G21_df)) if ((G21_df.Q5[G21_index[i]] == data.Q5[0]) or (G21_df.Q5[G21_index[i]] == data.Q5[1]))])\n",
    "Q6_21 = len([i for i in range(len(G21_df)) if ((G21_df.Q6[G21_index[i]] == data.Q6[0]) or (G21_df.Q6[G21_index[i]] == data.Q6[1]))])\n",
    "Q7_21 = len([i for i in range(len(G21_df)) if ((G21_df.Q7[G21_index[i]] == data.Q7[0]) or (G21_df.Q7[G21_index[i]] == data.Q7[1]))])\n",
    "Q8_21 = len([i for i in range(len(G21_df)) if ((G21_df.Q8[G21_index[i]] == data.Q8[0]) or (G21_df.Q8[G21_index[i]] == data.Q8[1]))])\n",
    "Q9_21 = len([i for i in range(len(G21_df)) if ((G21_df.Q9[G21_index[i]] == data.Q9[0]) or (G21_df.Q9[G21_index[i]] == data.Q9[1]))])\n",
    "Q10_21 = len([i for i in range(len(G21_df)) if ((G21_df.Q10[G21_index[i]] == data.Q10[0]) or (G21_df.Q10[G21_index[i]] == data.Q10[1]))])\n",
    "Q11_21 = len([i for i in range(len(G21_df)) if ((G21_df.Q11[G21_index[i]] == data.Q11[0]) or (G21_df.Q11[G21_index[i]] == data.Q11[1]))])\n",
    "Q12_21 = len([i for i in range(len(G21_df)) if ((G21_df.Q12[G21_index[i]] == data.Q12[0]) or (G21_df.Q12[G21_index[i]] == data.Q12[1]))])\n",
    "\n",
    "G21_correct = [Q1_21,Q2_21,Q3_21,Q4_21,Q5_21,Q6_21,Q7_21,Q8_21,Q9_21,Q10_21,Q11_21,Q12_21]\n",
    "G21_correct = np.array(G21_correct, int)\n",
    "G21_correct #12 Single response correct results"
   ]
  },
  {
   "cell_type": "code",
   "execution_count": 23,
   "id": "878a8eb9",
   "metadata": {},
   "outputs": [
    {
     "name": "stdout",
     "output_type": "stream",
     "text": [
      "Total responses:  1\n",
      "G_21 success mean: 0.25\n",
      "Jeffreys confidence interval:  [0.14870222 0.39096507]\n"
     ]
    }
   ],
   "source": [
    "G21_total_responses = len(G21_df)\n",
    "mean_G21_correct = np.mean(G21_correct)\n",
    "print(\"Total responses: \", G21_total_responses)\n",
    "print(\"G_21 success mean:\", mean_G21_correct/G21_total_responses)\n",
    "\n",
    "success_G21_correct = np.sum(G21_correct)\n",
    "attempts_G21_correct = 12* G21_total_responses\n",
    "conf_G21_correct = astropy.stats.binom_conf_interval(success_G21_correct, attempts_G21_correct, confidence_level=0.68269, interval='jeffreys')\n",
    "print(\"Jeffreys confidence interval: \", conf_G21_correct) # Correct answers interval"
   ]
  },
  {
   "cell_type": "code",
   "execution_count": 24,
   "id": "1aa0f6a9",
   "metadata": {},
   "outputs": [
    {
     "data": {
      "text/plain": [
       "count    12.000000\n",
       "mean      0.250000\n",
       "std       0.452267\n",
       "min       0.000000\n",
       "25%       0.000000\n",
       "50%       0.000000\n",
       "75%       0.250000\n",
       "max       1.000000\n",
       "dtype: float64"
      ]
     },
     "execution_count": 24,
     "metadata": {},
     "output_type": "execute_result"
    }
   ],
   "source": [
    "G21 = pd.Series(G21_correct/G21_total_responses)\n",
    "G21.describe()"
   ]
  },
  {
   "cell_type": "code",
   "execution_count": 25,
   "id": "161ced05",
   "metadata": {},
   "outputs": [
    {
     "data": {
      "text/plain": [
       "array([0, 0])"
      ]
     },
     "execution_count": 25,
     "metadata": {},
     "output_type": "execute_result"
    }
   ],
   "source": [
    "Q13_21 = len([i for i in range(len(G21_df)) if ((check_1 in G21_df.Q13[G21_index[i]]) and (check_2 in G21_df.Q13[G21_index[i]]) and (check_3 in G21_df.Q13[G21_index[i]])) or ((check_4 in G21_df.Q13[G21_index[i]]) and (check_5 in G21_df.Q13[G21_index[i]]) and (check_6 in G21_df.Q13[G21_index[i]]))])\n",
    "Q14_21 = len([i for i in range(len(G21_df)) if ((check_7 in G21_df.Q14[G21_index[i]]) and (check_8 in G21_df.Q14[G21_index[i]]) and (check_9 in G21_df.Q14[G21_index[i]])) or ((check_10 in G21_df.Q14[G21_index[i]]) and (check_11 in G21_df.Q14[G21_index[i]]) and (check_12 in G21_df.Q14[G21_index[i]]))])\n",
    "\n",
    "G21_combined_correct = [Q13_21,Q14_21]\n",
    "G21_combined_correct = np.array(G21_combined_correct, int)\n",
    "\n",
    "G21_combined_correct"
   ]
  },
  {
   "cell_type": "code",
   "execution_count": 26,
   "id": "54fa5eff",
   "metadata": {},
   "outputs": [
    {
     "name": "stdout",
     "output_type": "stream",
     "text": [
      "G_21 success mean (Combined questions): 0.0\n",
      "Jeffreys confidence interval:  [0.         0.35415837]\n"
     ]
    }
   ],
   "source": [
    "mean_G21_combined_correct = np.mean(G21_combined_correct)\n",
    "print(\"G_21 success mean (Combined questions):\", mean_G21_combined_correct/G21_total_responses)\n",
    "success_G21_combined_correct = np.sum(G21_combined_correct)\n",
    "attempts_G21_combined_correct = 2* G21_total_responses\n",
    "conf_G21_combined_correct = astropy.stats.binom_conf_interval(success_G21_combined_correct, attempts_G21_combined_correct, confidence_level=0.68269, interval='jeffreys')\n",
    "print(\"Jeffreys confidence interval: \", conf_G21_combined_correct) # Correct answers interval"
   ]
  },
  {
   "cell_type": "code",
   "execution_count": 27,
   "id": "3a5e81e3",
   "metadata": {},
   "outputs": [
    {
     "data": {
      "text/plain": [
       "count    2.0\n",
       "mean     0.0\n",
       "std      0.0\n",
       "min      0.0\n",
       "25%      0.0\n",
       "50%      0.0\n",
       "75%      0.0\n",
       "max      0.0\n",
       "dtype: float64"
      ]
     },
     "execution_count": 27,
     "metadata": {},
     "output_type": "execute_result"
    }
   ],
   "source": [
    "G21_combined = pd.Series(G21_combined_correct/G21_total_responses)\n",
    "G21_combined.describe()"
   ]
  },
  {
   "cell_type": "code",
   "execution_count": 28,
   "id": "a1c86c2a",
   "metadata": {},
   "outputs": [
    {
     "name": "stdout",
     "output_type": "stream",
     "text": [
      "Interactivity 'good' or 'very good': 0\n",
      "(%) 0.0\n",
      "Interactivity 'acceptable': 0\n",
      "(%) 0.0\n",
      "Interactivity 'bad' or 'very bad': 0\n",
      "(%) 0.0\n",
      "Participants that couldn't test the application in person: 1\n",
      "(%) 100.0\n"
     ]
    }
   ],
   "source": [
    "# Interactivity\n",
    "Q15_21_good = len([i for i in range(len(G21_df)) if ((\"Buena\" in G21_df.Q15[G21_index[i]]) or (\"Muy buena\" in G21_df.Q15[G21_index[i]]) or (\"Good\" in G21_df.Q15[G21_index[i]]) or (\"Very good\" in G21_df.Q15[G21_index[i]]))])\n",
    "Q15_21_acc = len([i for i in range(len(G21_df)) if ((\"Aceptable\" in G21_df.Q15[G21_index[i]]) or (\"Acceptable\" in G21_df.Q15[G21_index[i]]))])\n",
    "Q15_21_bad = len([i for i in range(len(G21_df)) if ((\"Mala\" in G21_df.Q15[G21_index[i]]) or (\"Muy mala\" in G21_df.Q15[G21_index[i]]) or (\"Bad\" in G21_df.Q15[G21_index[i]]) or (\"Very bad\" in G21_df.Q15[G21_index[i]]))])\n",
    "Q15_21_xxx = len([i for i in range(len(G21_df)) if ((\"XXX\" in G21_df.Q15[G21_index[i]]))])\n",
    "print(\"Interactivity 'good' or 'very good':\", Q15_21_good) #Lack of this question in the first version of the survey (1 participant)\n",
    "print(\"(%)\", percentage_sub(Q15_21_good, G21_counter))\n",
    "print(\"Interactivity 'acceptable':\", Q15_21_acc)\n",
    "print(\"(%)\", percentage_sub(Q15_21_acc, G21_counter))\n",
    "print(\"Interactivity 'bad' or 'very bad':\", Q15_21_bad)\n",
    "print(\"(%)\", percentage_sub(Q15_21_bad, G21_counter))\n",
    "print(\"Participants that couldn't test the application in person:\", Q15_21_xxx)\n",
    "print(\"(%)\", percentage_sub(Q15_21_xxx, G21_counter))"
   ]
  },
  {
   "cell_type": "code",
   "execution_count": 29,
   "id": "bdab7ffe",
   "metadata": {},
   "outputs": [
    {
     "name": "stdout",
     "output_type": "stream",
     "text": [
      "Participants finding it 'useful' or 'very useful': 1\n",
      "(%) 100.0\n",
      "Participants finding it 'Doubtedly useful' or 'useless': 0\n",
      "(%) 0.0\n"
     ]
    }
   ],
   "source": [
    "# Usefulness\n",
    "Q16_21_good = len([i for i in range(len(G21_df)) if ((\"Útil\" in G21_df.Q16[G21_index[i]]) or (\"Muy útil\" in G21_df.Q16[G21_index[i]]) or (\"Useful\" in G21_df.Q16[G21_index[i]]) or (\"Very useful\" in G21_df.Q16[G21_index[i]]))])\n",
    "Q16_21_bad = len([i for i in range(len(G21_df)) if ((\"dudosa\" in G21_df.Q16[G21_index[i]]) or (\"Doubtedly\" in G21_df.Q16[G21_index[i]]) or (\"Doubtely\" in G21_df.Q16[G21_index[i]]) or (\"Inútil\" in G21_df.Q16[G21_index[i]]) or (\"Useless\" in G21_df.Q16[G21_index[i]]))])\n",
    "print(\"Participants finding it 'useful' or 'very useful':\", Q16_21_good)\n",
    "print(\"(%)\", percentage_sub(Q16_21_good, G21_counter))\n",
    "print(\"Participants finding it 'Doubtedly useful' or 'useless':\", Q16_21_bad)\n",
    "print(\"(%)\", percentage_sub(Q16_21_bad, G21_counter))"
   ]
  },
  {
   "cell_type": "code",
   "execution_count": 30,
   "id": "c45747bc",
   "metadata": {},
   "outputs": [
    {
     "name": "stdout",
     "output_type": "stream",
     "text": [
      "Sound Quality 'good' or 'very good': 1\n",
      "(%) 100.0\n",
      "Sound Quality 'acceptable': 0\n",
      "(%) 0.0\n",
      "Sound Quality 'bad' or 'very bad': 0\n",
      "(%) 0.0\n"
     ]
    }
   ],
   "source": [
    "# Quality of sound\n",
    "Q17_21_good = len([i for i in range(len(G21_df)) if ((\"Buen\" in G21_df.Q17[G21_index[i]]) or (\"Muy buen\" in G21_df.Q17[G21_index[i]]) or (\"Good\" in G21_df.Q17[G21_index[i]]) or (\"Nice\" in G21_df.Q17[G21_index[i]]))])\n",
    "Q17_21_acc = len([i for i in range(len(G21_df)) if ((\"Aceptable\" in G21_df.Q17[G21_index[i]]) or (\"Acceptable\" in G21_df.Q17[G21_index[i]]))])\n",
    "Q17_21_bad = len([i for i in range(len(G21_df)) if ((\"Mal\" in G21_df.Q17[G21_index[i]]) or (\"Insoportable\" in G21_df.Q17[G21_index[i]]) or (\"Bad\" in G21_df.Q17[G21_index[i]]) or (\"Intolerable\" in G21_df.Q17[G21_index[i]]))])\n",
    "print(\"Sound Quality 'good' or 'very good':\", Q17_21_good)\n",
    "print(\"(%)\", percentage_sub(Q17_21_good, G21_counter))\n",
    "print(\"Sound Quality 'acceptable':\", Q17_21_acc)\n",
    "print(\"(%)\", percentage(Q17_21_acc))\n",
    "print(\"Sound Quality 'bad' or 'very bad':\", Q17_21_bad)\n",
    "print(\"(%)\", percentage_sub(Q17_21_bad, G21_counter))"
   ]
  },
  {
   "cell_type": "code",
   "execution_count": 31,
   "id": "bf76668a",
   "metadata": {},
   "outputs": [],
   "source": [
    "participants_list.append(G21_counter)\n",
    "success_list.append(G21.describe()[\"mean\"])\n",
    "Jeff_low_list.append(conf_G21_correct[0])\n",
    "Jeff_high_list.append(conf_G21_correct[1])\n",
    "std_list.append(G21.describe()[\"std\"])\n",
    "comb_success_list.append(G21_combined.describe()[\"mean\"])\n",
    "comb_Jeff_low_list.append(conf_G21_combined_correct[0])\n",
    "comb_Jeff_high_list.append(conf_G21_combined_correct[1])\n",
    "comb_std_list.append(G21_combined.describe()[\"std\"])\n",
    "interactivity_list.append(percentage_sub(Q15_21_good, G21_counter))\n",
    "useful_list.append(percentage_sub(Q16_21_good, G21_counter))\n",
    "sound_list.append(percentage_sub(Q17_21_good, G21_counter))"
   ]
  },
  {
   "cell_type": "markdown",
   "id": "a5621efc",
   "metadata": {},
   "source": [
    "### G21-30"
   ]
  },
  {
   "cell_type": "code",
   "execution_count": 32,
   "id": "9834fbd9",
   "metadata": {},
   "outputs": [
    {
     "name": "stdout",
     "output_type": "stream",
     "text": [
      "Number of participants in G21_30: 18\n"
     ]
    },
    {
     "data": {
      "text/html": [
       "<div>\n",
       "<style scoped>\n",
       "    .dataframe tbody tr th:only-of-type {\n",
       "        vertical-align: middle;\n",
       "    }\n",
       "\n",
       "    .dataframe tbody tr th {\n",
       "        vertical-align: top;\n",
       "    }\n",
       "\n",
       "    .dataframe thead th {\n",
       "        text-align: right;\n",
       "    }\n",
       "</style>\n",
       "<table border=\"1\" class=\"dataframe\">\n",
       "  <thead>\n",
       "    <tr style=\"text-align: right;\">\n",
       "      <th></th>\n",
       "      <th>Unnamed: 0</th>\n",
       "      <th>ID</th>\n",
       "      <th>Start time</th>\n",
       "      <th>Completion time</th>\n",
       "      <th>REF</th>\n",
       "      <th>Q1</th>\n",
       "      <th>Q2</th>\n",
       "      <th>Q3</th>\n",
       "      <th>Q4</th>\n",
       "      <th>Q5</th>\n",
       "      <th>...</th>\n",
       "      <th>Q18</th>\n",
       "      <th>Q19</th>\n",
       "      <th>Q20</th>\n",
       "      <th>Q21</th>\n",
       "      <th>Q22</th>\n",
       "      <th>Q23</th>\n",
       "      <th>Q24</th>\n",
       "      <th>Q25</th>\n",
       "      <th>Q26</th>\n",
       "      <th>Q27</th>\n",
       "    </tr>\n",
       "  </thead>\n",
       "  <tbody>\n",
       "    <tr>\n",
       "      <th>3</th>\n",
       "      <td>2</td>\n",
       "      <td>2.0</td>\n",
       "      <td>4/18/24 14:48:33</td>\n",
       "      <td>4/18/24 15:19:46</td>\n",
       "      <td>anonymous</td>\n",
       "      <td>Sonificación 1</td>\n",
       "      <td>A la izquierda</td>\n",
       "      <td>Sonificación 2</td>\n",
       "      <td>Sonificación 4</td>\n",
       "      <td>Espectro 1</td>\n",
       "      <td>...</td>\n",
       "      <td>Algo de experiencia (hobby/entusiasta)</td>\n",
       "      <td>Algo de experiencia (hobby/entusiasta)</td>\n",
       "      <td>Rock</td>\n",
       "      <td>21-30</td>\n",
       "      <td>No</td>\n",
       "      <td>ESPAÑA</td>\n",
       "      <td>ESPAÑOL</td>\n",
       "      <td>Sí, utilicé auriculares.</td>\n",
       "      <td>Intra-aurales;</td>\n",
       "      <td>x-x</td>\n",
       "    </tr>\n",
       "    <tr>\n",
       "      <th>15</th>\n",
       "      <td>14</td>\n",
       "      <td>14.0</td>\n",
       "      <td>4/23/24 12:13:07</td>\n",
       "      <td>4/23/24 12:56:30</td>\n",
       "      <td>anonymous</td>\n",
       "      <td>Sonificación 1</td>\n",
       "      <td>A la izquierda</td>\n",
       "      <td>Sonificación 3</td>\n",
       "      <td>Sonificación 2</td>\n",
       "      <td>Espectro 3</td>\n",
       "      <td>...</td>\n",
       "      <td>Ninguna</td>\n",
       "      <td>Muy básica</td>\n",
       "      <td>Variada (un poco de todo)</td>\n",
       "      <td>21-30</td>\n",
       "      <td>No</td>\n",
       "      <td>España</td>\n",
       "      <td>Castellano</td>\n",
       "      <td>Sí, utilicé auriculares.</td>\n",
       "      <td>No lo sé.;</td>\n",
       "      <td>x-x</td>\n",
       "    </tr>\n",
       "    <tr>\n",
       "      <th>17</th>\n",
       "      <td>16</td>\n",
       "      <td>16.0</td>\n",
       "      <td>4/24/24 13:08:29</td>\n",
       "      <td>4/24/24 13:33:33</td>\n",
       "      <td>anonymous</td>\n",
       "      <td>Sonificación 1</td>\n",
       "      <td>A la izquierda</td>\n",
       "      <td>Sonificación 2</td>\n",
       "      <td>Sonificación 2</td>\n",
       "      <td>Espectro 2</td>\n",
       "      <td>...</td>\n",
       "      <td>Ninguna</td>\n",
       "      <td>Bastante experiencia (amateur)</td>\n",
       "      <td>Rock, Noise, Rock-Noise, Pop-Rock, Shoegaze, E...</td>\n",
       "      <td>21-30</td>\n",
       "      <td>No</td>\n",
       "      <td>España</td>\n",
       "      <td>Castellano</td>\n",
       "      <td>Sí, utilicé auriculares.</td>\n",
       "      <td>Estéreo;No lo sé.;</td>\n",
       "      <td>x-x</td>\n",
       "    </tr>\n",
       "    <tr>\n",
       "      <th>20</th>\n",
       "      <td>19</td>\n",
       "      <td>19.0</td>\n",
       "      <td>4/25/24 11:19:03</td>\n",
       "      <td>4/25/24 11:32:28</td>\n",
       "      <td>anonymous</td>\n",
       "      <td>Sonificación 2</td>\n",
       "      <td>A la izquierda</td>\n",
       "      <td>Sonificación 3</td>\n",
       "      <td>Sonificación 2</td>\n",
       "      <td>Espectro 2</td>\n",
       "      <td>...</td>\n",
       "      <td>Mucha experiencia (profesional)</td>\n",
       "      <td>Ninguna</td>\n",
       "      <td>Techno melódico</td>\n",
       "      <td>21-30</td>\n",
       "      <td>No</td>\n",
       "      <td>España</td>\n",
       "      <td>Español</td>\n",
       "      <td>Sí, utilicé auriculares.</td>\n",
       "      <td>Estéreo;Circum-aurales;</td>\n",
       "      <td>Todo mi apoyo para este proyecto tan necesario!</td>\n",
       "    </tr>\n",
       "    <tr>\n",
       "      <th>21</th>\n",
       "      <td>20</td>\n",
       "      <td>20.0</td>\n",
       "      <td>4/25/24 11:30:57</td>\n",
       "      <td>4/25/24 11:46:09</td>\n",
       "      <td>anonymous</td>\n",
       "      <td>Sonificación 1</td>\n",
       "      <td>A la izquierda</td>\n",
       "      <td>Sonificación 2</td>\n",
       "      <td>Sonificación 2</td>\n",
       "      <td>Espectro 2</td>\n",
       "      <td>...</td>\n",
       "      <td>Mucha experiencia (profesional)</td>\n",
       "      <td>Muy básica</td>\n",
       "      <td>Pop, rock, música española/latina y francesa, ...</td>\n",
       "      <td>21-30</td>\n",
       "      <td>No</td>\n",
       "      <td>España</td>\n",
       "      <td>Francés</td>\n",
       "      <td>Sí, utilicé auriculares.</td>\n",
       "      <td>Audio 3D / Gaming;</td>\n",
       "      <td>x-x</td>\n",
       "    </tr>\n",
       "    <tr>\n",
       "      <th>25</th>\n",
       "      <td>24</td>\n",
       "      <td>24.0</td>\n",
       "      <td>4/26/24 19:24:11</td>\n",
       "      <td>4/26/24 19:40:14</td>\n",
       "      <td>anonymous</td>\n",
       "      <td>Sonificación 2</td>\n",
       "      <td>A la izquierda</td>\n",
       "      <td>Sonificación 3</td>\n",
       "      <td>Sonificación 2</td>\n",
       "      <td>Espectro 2</td>\n",
       "      <td>...</td>\n",
       "      <td>Ninguna</td>\n",
       "      <td>Ninguna</td>\n",
       "      <td>Electrónica</td>\n",
       "      <td>21-30</td>\n",
       "      <td>No</td>\n",
       "      <td>España</td>\n",
       "      <td>Español</td>\n",
       "      <td>Sí, utilicé auriculares.</td>\n",
       "      <td>Estéreo;</td>\n",
       "      <td>x-x</td>\n",
       "    </tr>\n",
       "    <tr>\n",
       "      <th>28</th>\n",
       "      <td>27</td>\n",
       "      <td>27.0</td>\n",
       "      <td>4/27/24 23:28:51</td>\n",
       "      <td>4/27/24 23:58:21</td>\n",
       "      <td>anonymous</td>\n",
       "      <td>Sonificación 2</td>\n",
       "      <td>A la izquierda</td>\n",
       "      <td>Sonificación 3</td>\n",
       "      <td>Sonificación 2</td>\n",
       "      <td>Espectro 2</td>\n",
       "      <td>...</td>\n",
       "      <td>Ninguna</td>\n",
       "      <td>Ninguna</td>\n",
       "      <td>Jazz, Rock, Blues, Alternativo, Lofi, Metal.</td>\n",
       "      <td>21-30</td>\n",
       "      <td>No</td>\n",
       "      <td>México</td>\n",
       "      <td>Español</td>\n",
       "      <td>Sí, utilicé auriculares.</td>\n",
       "      <td>Audio 3D / Gaming;</td>\n",
       "      <td>x-x</td>\n",
       "    </tr>\n",
       "    <tr>\n",
       "      <th>29</th>\n",
       "      <td>28</td>\n",
       "      <td>28.0</td>\n",
       "      <td>4/29/24 11:22:35</td>\n",
       "      <td>4/29/24 11:31:38</td>\n",
       "      <td>anonymous</td>\n",
       "      <td>Sonificación 2</td>\n",
       "      <td>A la izquierda</td>\n",
       "      <td>Sonificación 2</td>\n",
       "      <td>Sonificación 2</td>\n",
       "      <td>Espectro 2</td>\n",
       "      <td>...</td>\n",
       "      <td>Mucha experiencia (profesional)</td>\n",
       "      <td>Algo de experiencia (hobby/entusiasta)</td>\n",
       "      <td>Música clásica, latino, pop-rock.</td>\n",
       "      <td>21-30</td>\n",
       "      <td>No</td>\n",
       "      <td>España</td>\n",
       "      <td>Español</td>\n",
       "      <td>Sí, utilicé auriculares.</td>\n",
       "      <td>Intra-aurales;</td>\n",
       "      <td>x-x</td>\n",
       "    </tr>\n",
       "    <tr>\n",
       "      <th>41</th>\n",
       "      <td>40</td>\n",
       "      <td>40.0</td>\n",
       "      <td>6/24/24 18:07:27</td>\n",
       "      <td>6/24/24 18:18:36</td>\n",
       "      <td>anonymous</td>\n",
       "      <td>Sonificación 2</td>\n",
       "      <td>A la izquierda</td>\n",
       "      <td>Sonificación 2</td>\n",
       "      <td>Sonificación 1</td>\n",
       "      <td>Espectro 1</td>\n",
       "      <td>...</td>\n",
       "      <td>Mucha experiencia (profesional)</td>\n",
       "      <td>Algo de experiencia (hobby/entusiasta)</td>\n",
       "      <td>Rock, Blues, Jazz</td>\n",
       "      <td>21-30</td>\n",
       "      <td>No</td>\n",
       "      <td>España</td>\n",
       "      <td>Español</td>\n",
       "      <td>Sí, utilicé auriculares.</td>\n",
       "      <td>Intra-aurales;</td>\n",
       "      <td>x-x</td>\n",
       "    </tr>\n",
       "    <tr>\n",
       "      <th>44</th>\n",
       "      <td>43</td>\n",
       "      <td>3.0</td>\n",
       "      <td>4/25/24 11:55:21</td>\n",
       "      <td>4/25/24 12:18:21</td>\n",
       "      <td>anonymous</td>\n",
       "      <td>Sonificación 1</td>\n",
       "      <td>A la izquierda</td>\n",
       "      <td>Sonificación 2</td>\n",
       "      <td>Sonificación 2</td>\n",
       "      <td>Espectro 2</td>\n",
       "      <td>...</td>\n",
       "      <td>Mucha experiencia (profesional)</td>\n",
       "      <td>Muy básica</td>\n",
       "      <td>Rock suave, reggae, hip-hop, flamenco</td>\n",
       "      <td>21-30</td>\n",
       "      <td>No</td>\n",
       "      <td>España</td>\n",
       "      <td>Euskara, Castellano</td>\n",
       "      <td>Sí, utilicé auriculares.</td>\n",
       "      <td>Audio 3D / Gaming;</td>\n",
       "      <td>Me hubiese ayudado una explicación más detalla...</td>\n",
       "    </tr>\n",
       "    <tr>\n",
       "      <th>54</th>\n",
       "      <td>53</td>\n",
       "      <td>8.0</td>\n",
       "      <td>6/23/24 15:32:58</td>\n",
       "      <td>6/23/24 16:18:51</td>\n",
       "      <td>anonymous</td>\n",
       "      <td>Sonification 1</td>\n",
       "      <td>Left</td>\n",
       "      <td>Sonification 2</td>\n",
       "      <td>Sonification 1</td>\n",
       "      <td>Spectrum 3</td>\n",
       "      <td>...</td>\n",
       "      <td>Some experienced (hobby/enthusiast)</td>\n",
       "      <td>Very basic experience</td>\n",
       "      <td>popular songs</td>\n",
       "      <td>21-30</td>\n",
       "      <td>No</td>\n",
       "      <td>中国</td>\n",
       "      <td>中文</td>\n",
       "      <td>Yes, I used headphones</td>\n",
       "      <td>Stereo;</td>\n",
       "      <td>x-x</td>\n",
       "    </tr>\n",
       "    <tr>\n",
       "      <th>55</th>\n",
       "      <td>54</td>\n",
       "      <td>9.0</td>\n",
       "      <td>6/24/24 16:27:17</td>\n",
       "      <td>6/24/24 16:46:13</td>\n",
       "      <td>anonymous</td>\n",
       "      <td>Sonification 2</td>\n",
       "      <td>Left</td>\n",
       "      <td>Sonification 4</td>\n",
       "      <td>Sonification 2</td>\n",
       "      <td>Spectrum 2</td>\n",
       "      <td>...</td>\n",
       "      <td>Very experienced (professional)</td>\n",
       "      <td>Very basic experience</td>\n",
       "      <td>rock</td>\n",
       "      <td>21-30</td>\n",
       "      <td>No</td>\n",
       "      <td>China</td>\n",
       "      <td>Chinese</td>\n",
       "      <td>No, I didn't</td>\n",
       "      <td>I don't know;</td>\n",
       "      <td>x-x</td>\n",
       "    </tr>\n",
       "    <tr>\n",
       "      <th>56</th>\n",
       "      <td>55</td>\n",
       "      <td>10.0</td>\n",
       "      <td>6/25/24 9:48:12</td>\n",
       "      <td>6/25/24 10:04:54</td>\n",
       "      <td>anonymous</td>\n",
       "      <td>Sonification 1</td>\n",
       "      <td>Left</td>\n",
       "      <td>Sonification 2</td>\n",
       "      <td>Sonification 3</td>\n",
       "      <td>Spectrum 2</td>\n",
       "      <td>...</td>\n",
       "      <td>Very experienced (professional)</td>\n",
       "      <td>Very basic experience</td>\n",
       "      <td>Chinese Ancient Music</td>\n",
       "      <td>21-30</td>\n",
       "      <td>No</td>\n",
       "      <td>China</td>\n",
       "      <td>Chinese</td>\n",
       "      <td>Yes, I used headphones</td>\n",
       "      <td>I don't know;</td>\n",
       "      <td>x-x</td>\n",
       "    </tr>\n",
       "    <tr>\n",
       "      <th>58</th>\n",
       "      <td>57</td>\n",
       "      <td>12.0</td>\n",
       "      <td>7/2/24 10:56:21</td>\n",
       "      <td>7/2/24 11:13:48</td>\n",
       "      <td>anonymous</td>\n",
       "      <td>Sonification 1</td>\n",
       "      <td>Left</td>\n",
       "      <td>Sonification 2</td>\n",
       "      <td>Sonification 3</td>\n",
       "      <td>Spectrum 2</td>\n",
       "      <td>...</td>\n",
       "      <td>Very experienced (professional)</td>\n",
       "      <td>Some experienced (hobby/enthusiast)</td>\n",
       "      <td>Electronic music / alternative rock</td>\n",
       "      <td>21-30</td>\n",
       "      <td>No</td>\n",
       "      <td>Spain</td>\n",
       "      <td>Spanish</td>\n",
       "      <td>Yes, I used headphones</td>\n",
       "      <td>Stereo;</td>\n",
       "      <td>x-x</td>\n",
       "    </tr>\n",
       "    <tr>\n",
       "      <th>60</th>\n",
       "      <td>59</td>\n",
       "      <td>14.0</td>\n",
       "      <td>7/14/24 15:25:48</td>\n",
       "      <td>7/14/24 15:51:10</td>\n",
       "      <td>anonymous</td>\n",
       "      <td>Sonification 2</td>\n",
       "      <td>Left</td>\n",
       "      <td>Sonification 3</td>\n",
       "      <td>Sonification 3</td>\n",
       "      <td>Spectrum 2</td>\n",
       "      <td>...</td>\n",
       "      <td>No experienced</td>\n",
       "      <td>Experienced (amateur)</td>\n",
       "      <td>edm, classical music, Airs of the States, pop</td>\n",
       "      <td>21-30</td>\n",
       "      <td>No</td>\n",
       "      <td>China</td>\n",
       "      <td>Chinese</td>\n",
       "      <td>Yes, I used headphones</td>\n",
       "      <td>Circum-aural;</td>\n",
       "      <td>difficult</td>\n",
       "    </tr>\n",
       "    <tr>\n",
       "      <th>61</th>\n",
       "      <td>60</td>\n",
       "      <td>15.0</td>\n",
       "      <td>7/17/24 2:20:03</td>\n",
       "      <td>7/17/24 3:10:00</td>\n",
       "      <td>anonymous</td>\n",
       "      <td>Sonification 2</td>\n",
       "      <td>Left</td>\n",
       "      <td>Sonification 3</td>\n",
       "      <td>Sonification 1</td>\n",
       "      <td>Spectrum 1</td>\n",
       "      <td>...</td>\n",
       "      <td>No experienced</td>\n",
       "      <td>Very experienced (professional)</td>\n",
       "      <td>European art music</td>\n",
       "      <td>21-30</td>\n",
       "      <td>No</td>\n",
       "      <td>China</td>\n",
       "      <td>Chinese</td>\n",
       "      <td>Yes, I used headphones</td>\n",
       "      <td>I don't know;</td>\n",
       "      <td>Fantastic work.</td>\n",
       "    </tr>\n",
       "    <tr>\n",
       "      <th>63</th>\n",
       "      <td>62</td>\n",
       "      <td>17.0</td>\n",
       "      <td>7/21/24 9:56:47</td>\n",
       "      <td>7/21/24 10:55:44</td>\n",
       "      <td>anonymous</td>\n",
       "      <td>Sonification 2</td>\n",
       "      <td>Left</td>\n",
       "      <td>Sonification 3</td>\n",
       "      <td>Sonification 2</td>\n",
       "      <td>Spectrum 2</td>\n",
       "      <td>...</td>\n",
       "      <td>Some experienced (hobby/enthusiast)</td>\n",
       "      <td>Experienced (amateur)</td>\n",
       "      <td>Classical, jazz, rock</td>\n",
       "      <td>21-30</td>\n",
       "      <td>No</td>\n",
       "      <td>China</td>\n",
       "      <td>Mandarin</td>\n",
       "      <td>Yes, I used headphones</td>\n",
       "      <td>Stereo;</td>\n",
       "      <td>x-x</td>\n",
       "    </tr>\n",
       "    <tr>\n",
       "      <th>65</th>\n",
       "      <td>64</td>\n",
       "      <td>19.0</td>\n",
       "      <td>7/29/24 10:32:28</td>\n",
       "      <td>7/29/24 10:50:09</td>\n",
       "      <td>anonymous</td>\n",
       "      <td>Sonification 2</td>\n",
       "      <td>Left</td>\n",
       "      <td>Sonification 2</td>\n",
       "      <td>Sonification 3</td>\n",
       "      <td>Spectrum 2</td>\n",
       "      <td>...</td>\n",
       "      <td>No experienced</td>\n",
       "      <td>Some experienced (hobby/enthusiast)</td>\n",
       "      <td>Pop music</td>\n",
       "      <td>21-30</td>\n",
       "      <td>No</td>\n",
       "      <td>Spain</td>\n",
       "      <td>Catalan</td>\n",
       "      <td>Yes, I used headphones</td>\n",
       "      <td>Stereo;</td>\n",
       "      <td>x-x</td>\n",
       "    </tr>\n",
       "  </tbody>\n",
       "</table>\n",
       "<p>18 rows × 32 columns</p>\n",
       "</div>"
      ],
      "text/plain": [
       "    Unnamed: 0    ID        Start time   Completion time        REF  \\\n",
       "3            2   2.0  4/18/24 14:48:33  4/18/24 15:19:46  anonymous   \n",
       "15          14  14.0  4/23/24 12:13:07  4/23/24 12:56:30  anonymous   \n",
       "17          16  16.0  4/24/24 13:08:29  4/24/24 13:33:33  anonymous   \n",
       "20          19  19.0  4/25/24 11:19:03  4/25/24 11:32:28  anonymous   \n",
       "21          20  20.0  4/25/24 11:30:57  4/25/24 11:46:09  anonymous   \n",
       "25          24  24.0  4/26/24 19:24:11  4/26/24 19:40:14  anonymous   \n",
       "28          27  27.0  4/27/24 23:28:51  4/27/24 23:58:21  anonymous   \n",
       "29          28  28.0  4/29/24 11:22:35  4/29/24 11:31:38  anonymous   \n",
       "41          40  40.0  6/24/24 18:07:27  6/24/24 18:18:36  anonymous   \n",
       "44          43   3.0  4/25/24 11:55:21  4/25/24 12:18:21  anonymous   \n",
       "54          53   8.0  6/23/24 15:32:58  6/23/24 16:18:51  anonymous   \n",
       "55          54   9.0  6/24/24 16:27:17  6/24/24 16:46:13  anonymous   \n",
       "56          55  10.0   6/25/24 9:48:12  6/25/24 10:04:54  anonymous   \n",
       "58          57  12.0   7/2/24 10:56:21   7/2/24 11:13:48  anonymous   \n",
       "60          59  14.0  7/14/24 15:25:48  7/14/24 15:51:10  anonymous   \n",
       "61          60  15.0   7/17/24 2:20:03   7/17/24 3:10:00  anonymous   \n",
       "63          62  17.0   7/21/24 9:56:47  7/21/24 10:55:44  anonymous   \n",
       "65          64  19.0  7/29/24 10:32:28  7/29/24 10:50:09  anonymous   \n",
       "\n",
       "                Q1              Q2              Q3              Q4  \\\n",
       "3   Sonificación 1  A la izquierda  Sonificación 2  Sonificación 4   \n",
       "15  Sonificación 1  A la izquierda  Sonificación 3  Sonificación 2   \n",
       "17  Sonificación 1  A la izquierda  Sonificación 2  Sonificación 2   \n",
       "20  Sonificación 2  A la izquierda  Sonificación 3  Sonificación 2   \n",
       "21  Sonificación 1  A la izquierda  Sonificación 2  Sonificación 2   \n",
       "25  Sonificación 2  A la izquierda  Sonificación 3  Sonificación 2   \n",
       "28  Sonificación 2  A la izquierda  Sonificación 3  Sonificación 2   \n",
       "29  Sonificación 2  A la izquierda  Sonificación 2  Sonificación 2   \n",
       "41  Sonificación 2  A la izquierda  Sonificación 2  Sonificación 1   \n",
       "44  Sonificación 1  A la izquierda  Sonificación 2  Sonificación 2   \n",
       "54  Sonification 1            Left  Sonification 2  Sonification 1   \n",
       "55  Sonification 2            Left  Sonification 4  Sonification 2   \n",
       "56  Sonification 1            Left  Sonification 2  Sonification 3   \n",
       "58  Sonification 1            Left  Sonification 2  Sonification 3   \n",
       "60  Sonification 2            Left  Sonification 3  Sonification 3   \n",
       "61  Sonification 2            Left  Sonification 3  Sonification 1   \n",
       "63  Sonification 2            Left  Sonification 3  Sonification 2   \n",
       "65  Sonification 2            Left  Sonification 2  Sonification 3   \n",
       "\n",
       "            Q5  ...                                     Q18  \\\n",
       "3   Espectro 1  ...  Algo de experiencia (hobby/entusiasta)   \n",
       "15  Espectro 3  ...                                 Ninguna   \n",
       "17  Espectro 2  ...                                 Ninguna   \n",
       "20  Espectro 2  ...         Mucha experiencia (profesional)   \n",
       "21  Espectro 2  ...         Mucha experiencia (profesional)   \n",
       "25  Espectro 2  ...                                 Ninguna   \n",
       "28  Espectro 2  ...                                 Ninguna   \n",
       "29  Espectro 2  ...         Mucha experiencia (profesional)   \n",
       "41  Espectro 1  ...         Mucha experiencia (profesional)   \n",
       "44  Espectro 2  ...         Mucha experiencia (profesional)   \n",
       "54  Spectrum 3  ...     Some experienced (hobby/enthusiast)   \n",
       "55  Spectrum 2  ...         Very experienced (professional)   \n",
       "56  Spectrum 2  ...         Very experienced (professional)   \n",
       "58  Spectrum 2  ...         Very experienced (professional)   \n",
       "60  Spectrum 2  ...                          No experienced   \n",
       "61  Spectrum 1  ...                          No experienced   \n",
       "63  Spectrum 2  ...     Some experienced (hobby/enthusiast)   \n",
       "65  Spectrum 2  ...                          No experienced   \n",
       "\n",
       "                                       Q19  \\\n",
       "3   Algo de experiencia (hobby/entusiasta)   \n",
       "15                              Muy básica   \n",
       "17          Bastante experiencia (amateur)   \n",
       "20                                 Ninguna   \n",
       "21                              Muy básica   \n",
       "25                                 Ninguna   \n",
       "28                                 Ninguna   \n",
       "29  Algo de experiencia (hobby/entusiasta)   \n",
       "41  Algo de experiencia (hobby/entusiasta)   \n",
       "44                              Muy básica   \n",
       "54                   Very basic experience   \n",
       "55                   Very basic experience   \n",
       "56                   Very basic experience   \n",
       "58     Some experienced (hobby/enthusiast)   \n",
       "60                   Experienced (amateur)   \n",
       "61         Very experienced (professional)   \n",
       "63                   Experienced (amateur)   \n",
       "65     Some experienced (hobby/enthusiast)   \n",
       "\n",
       "                                                  Q20    Q21 Q22     Q23  \\\n",
       "3                                               Rock   21-30  No  ESPAÑA   \n",
       "15                          Variada (un poco de todo)  21-30  No  España   \n",
       "17  Rock, Noise, Rock-Noise, Pop-Rock, Shoegaze, E...  21-30  No  España   \n",
       "20                                    Techno melódico  21-30  No  España   \n",
       "21  Pop, rock, música española/latina y francesa, ...  21-30  No  España   \n",
       "25                                        Electrónica  21-30  No  España   \n",
       "28       Jazz, Rock, Blues, Alternativo, Lofi, Metal.  21-30  No  México   \n",
       "29                  Música clásica, latino, pop-rock.  21-30  No  España   \n",
       "41                                  Rock, Blues, Jazz  21-30  No  España   \n",
       "44              Rock suave, reggae, hip-hop, flamenco  21-30  No  España   \n",
       "54                                      popular songs  21-30  No      中国   \n",
       "55                                               rock  21-30  No   China   \n",
       "56                              Chinese Ancient Music  21-30  No   China   \n",
       "58                Electronic music / alternative rock  21-30  No   Spain   \n",
       "60      edm, classical music, Airs of the States, pop  21-30  No   China   \n",
       "61                                European art music   21-30  No   China   \n",
       "63                              Classical, jazz, rock  21-30  No   China   \n",
       "65                                          Pop music  21-30  No   Spain   \n",
       "\n",
       "                    Q24                       Q25                      Q26  \\\n",
       "3               ESPAÑOL  Sí, utilicé auriculares.           Intra-aurales;   \n",
       "15           Castellano  Sí, utilicé auriculares.               No lo sé.;   \n",
       "17          Castellano   Sí, utilicé auriculares.       Estéreo;No lo sé.;   \n",
       "20              Español  Sí, utilicé auriculares.  Estéreo;Circum-aurales;   \n",
       "21             Francés   Sí, utilicé auriculares.       Audio 3D / Gaming;   \n",
       "25              Español  Sí, utilicé auriculares.                 Estéreo;   \n",
       "28              Español  Sí, utilicé auriculares.       Audio 3D / Gaming;   \n",
       "29              Español  Sí, utilicé auriculares.           Intra-aurales;   \n",
       "41              Español  Sí, utilicé auriculares.           Intra-aurales;   \n",
       "44  Euskara, Castellano  Sí, utilicé auriculares.       Audio 3D / Gaming;   \n",
       "54                   中文    Yes, I used headphones                  Stereo;   \n",
       "55              Chinese              No, I didn't            I don't know;   \n",
       "56              Chinese    Yes, I used headphones            I don't know;   \n",
       "58              Spanish    Yes, I used headphones                  Stereo;   \n",
       "60              Chinese    Yes, I used headphones            Circum-aural;   \n",
       "61              Chinese    Yes, I used headphones            I don't know;   \n",
       "63             Mandarin    Yes, I used headphones                  Stereo;   \n",
       "65              Catalan    Yes, I used headphones                  Stereo;   \n",
       "\n",
       "                                                  Q27  \n",
       "3                                                 x-x  \n",
       "15                                                x-x  \n",
       "17                                                x-x  \n",
       "20    Todo mi apoyo para este proyecto tan necesario!  \n",
       "21                                                x-x  \n",
       "25                                                x-x  \n",
       "28                                                x-x  \n",
       "29                                                x-x  \n",
       "41                                                x-x  \n",
       "44  Me hubiese ayudado una explicación más detalla...  \n",
       "54                                                x-x  \n",
       "55                                                x-x  \n",
       "56                                                x-x  \n",
       "58                                                x-x  \n",
       "60                                          difficult  \n",
       "61                                    Fantastic work.  \n",
       "63                                                x-x  \n",
       "65                                                x-x  \n",
       "\n",
       "[18 rows x 32 columns]"
      ]
     },
     "execution_count": 32,
     "metadata": {},
     "output_type": "execute_result"
    }
   ],
   "source": [
    "G21_30_list = []\n",
    "G21_30_index = []\n",
    "G21_30_counter = 0\n",
    "for i in range(len(data)):\n",
    "    if (\"21-30\" in data.Q21[i]):\n",
    "        G21_30_counter += 1\n",
    "        current_row = data.iloc[i]\n",
    "        G21_30_list.append(current_row)\n",
    "        G21_30_index.append(i)\n",
    "        \n",
    "print(\"Number of participants in G21_30:\", G21_30_counter)\n",
    "G21_30_df = pd.DataFrame(G21_30_list)\n",
    "G21_30_df"
   ]
  },
  {
   "cell_type": "code",
   "execution_count": 33,
   "id": "1aec0d3b",
   "metadata": {},
   "outputs": [
    {
     "data": {
      "text/plain": [
       "array([ 8, 18,  6,  8, 13, 11, 10, 13, 10,  5,  8, 10])"
      ]
     },
     "execution_count": 33,
     "metadata": {},
     "output_type": "execute_result"
    }
   ],
   "source": [
    "Q1_21_30 = len([i for i in range(len(G21_30_df)) if ((G21_30_df.Q1[G21_30_index[i]] == data.Q1[0]) or (G21_30_df.Q1[G21_30_index[i]] == data.Q1[1]))])\n",
    "Q2_21_30 = len([i for i in range(len(G21_30_df)) if ((G21_30_df.Q2[G21_30_index[i]] == data.Q2[0]) or (G21_30_df.Q2[G21_30_index[i]] == data.Q2[1]))])\n",
    "Q3_21_30 = len([i for i in range(len(G21_30_df)) if ((G21_30_df.Q3[G21_30_index[i]] == data.Q3[0]) or (G21_30_df.Q3[G21_30_index[i]] == data.Q3[1]))])\n",
    "Q4_21_30 = len([i for i in range(len(G21_30_df)) if ((G21_30_df.Q4[G21_30_index[i]] == data.Q4[0]) or (G21_30_df.Q4[G21_30_index[i]] == data.Q4[1]))])\n",
    "Q5_21_30 = len([i for i in range(len(G21_30_df)) if ((G21_30_df.Q5[G21_30_index[i]] == data.Q5[0]) or (G21_30_df.Q5[G21_30_index[i]] == data.Q5[1]))])\n",
    "Q6_21_30 = len([i for i in range(len(G21_30_df)) if ((G21_30_df.Q6[G21_30_index[i]] == data.Q6[0]) or (G21_30_df.Q6[G21_30_index[i]] == data.Q6[1]))])\n",
    "Q7_21_30 = len([i for i in range(len(G21_30_df)) if ((G21_30_df.Q7[G21_30_index[i]] == data.Q7[0]) or (G21_30_df.Q7[G21_30_index[i]] == data.Q7[1]))])\n",
    "Q8_21_30 = len([i for i in range(len(G21_30_df)) if ((G21_30_df.Q8[G21_30_index[i]] == data.Q8[0]) or (G21_30_df.Q8[G21_30_index[i]] == data.Q8[1]))])\n",
    "Q9_21_30 = len([i for i in range(len(G21_30_df)) if ((G21_30_df.Q9[G21_30_index[i]] == data.Q9[0]) or (G21_30_df.Q9[G21_30_index[i]] == data.Q9[1]))])\n",
    "Q10_21_30 = len([i for i in range(len(G21_30_df)) if ((G21_30_df.Q10[G21_30_index[i]] == data.Q10[0]) or (G21_30_df.Q10[G21_30_index[i]] == data.Q10[1]))])\n",
    "Q11_21_30 = len([i for i in range(len(G21_30_df)) if ((G21_30_df.Q11[G21_30_index[i]] == data.Q11[0]) or (G21_30_df.Q11[G21_30_index[i]] == data.Q11[1]))])\n",
    "Q12_21_30 = len([i for i in range(len(G21_30_df)) if ((G21_30_df.Q12[G21_30_index[i]] == data.Q12[0]) or (G21_30_df.Q12[G21_30_index[i]] == data.Q12[1]))])\n",
    "\n",
    "G21_30_correct = [Q1_21_30,Q2_21_30,Q3_21_30,Q4_21_30,Q5_21_30,Q6_21_30,Q7_21_30,Q8_21_30,Q9_21_30,Q10_21_30,Q11_21_30,Q12_21_30]\n",
    "G21_30_correct = np.array(G21_30_correct, int)\n",
    "G21_30_correct #12 Single response correct results"
   ]
  },
  {
   "cell_type": "code",
   "execution_count": 34,
   "id": "29e765d1",
   "metadata": {},
   "outputs": [
    {
     "name": "stdout",
     "output_type": "stream",
     "text": [
      "Total responses:  18\n",
      "G_21_30 success mean: 0.5555555555555556\n",
      "Jeffreys confidence interval:  [0.52156643 0.5890317 ]\n"
     ]
    }
   ],
   "source": [
    "G21_30_total_responses = len(G21_30_df)\n",
    "mean_G21_30_correct = np.mean(G21_30_correct)\n",
    "print(\"Total responses: \", G21_30_total_responses)\n",
    "print(\"G_21_30 success mean:\", mean_G21_30_correct/G21_30_total_responses)\n",
    "\n",
    "success_G21_30_correct = np.sum(G21_30_correct)\n",
    "attempts_G21_30_correct = 12* G21_30_total_responses\n",
    "conf_G21_30_correct = astropy.stats.binom_conf_interval(success_G21_30_correct, attempts_G21_30_correct, confidence_level=0.68269, interval='jeffreys')\n",
    "print(\"Jeffreys confidence interval: \", conf_G21_30_correct) # Correct answers interval"
   ]
  },
  {
   "cell_type": "code",
   "execution_count": 35,
   "id": "48fba2db",
   "metadata": {},
   "outputs": [
    {
     "data": {
      "text/plain": [
       "count    12.000000\n",
       "mean      0.555556\n",
       "std       0.195344\n",
       "min       0.277778\n",
       "25%       0.444444\n",
       "50%       0.555556\n",
       "75%       0.638889\n",
       "max       1.000000\n",
       "dtype: float64"
      ]
     },
     "execution_count": 35,
     "metadata": {},
     "output_type": "execute_result"
    }
   ],
   "source": [
    "G21_30 = pd.Series(G21_30_correct/G21_30_total_responses)\n",
    "G21_30.describe()"
   ]
  },
  {
   "cell_type": "code",
   "execution_count": 36,
   "id": "6d1eaf00",
   "metadata": {},
   "outputs": [
    {
     "data": {
      "text/plain": [
       "array([2, 1])"
      ]
     },
     "execution_count": 36,
     "metadata": {},
     "output_type": "execute_result"
    }
   ],
   "source": [
    "Q13_21_30 = len([i for i in range(len(G21_30_df)) if ((check_1 in G21_30_df.Q13[G21_30_index[i]]) and (check_2 in G21_30_df.Q13[G21_30_index[i]]) and (check_3 in G21_30_df.Q13[G21_30_index[i]])) or ((check_4 in G21_30_df.Q13[G21_30_index[i]]) and (check_5 in G21_30_df.Q13[G21_30_index[i]]) and (check_6 in G21_30_df.Q13[G21_30_index[i]]))])\n",
    "Q14_21_30 = len([i for i in range(len(G21_30_df)) if ((check_7 in G21_30_df.Q14[G21_30_index[i]]) and (check_8 in G21_30_df.Q14[G21_30_index[i]]) and (check_9 in G21_30_df.Q14[G21_30_index[i]])) or ((check_10 in G21_30_df.Q14[G21_30_index[i]]) and (check_11 in G21_30_df.Q14[G21_30_index[i]]) and (check_12 in G21_30_df.Q14[G21_30_index[i]]))])\n",
    "\n",
    "G21_30_combined_correct = [Q13_21_30,Q14_21_30]\n",
    "G21_30_combined_correct = np.array(G21_30_combined_correct, int)\n",
    "\n",
    "G21_30_combined_correct"
   ]
  },
  {
   "cell_type": "code",
   "execution_count": 37,
   "id": "5d36fe5b",
   "metadata": {},
   "outputs": [
    {
     "name": "stdout",
     "output_type": "stream",
     "text": [
      "G_21_30 success mean (Combined questions): 0.08333333333333333\n",
      "Jeffreys confidence interval:  [0.04834216 0.14115867]\n"
     ]
    }
   ],
   "source": [
    "mean_G21_30_combined_correct = np.mean(G21_30_combined_correct)\n",
    "print(\"G_21_30 success mean (Combined questions):\", mean_G21_30_combined_correct/G21_30_total_responses)\n",
    "success_G21_30_combined_correct = np.sum(G21_30_combined_correct)\n",
    "attempts_G21_30_combined_correct = 2* G21_30_total_responses\n",
    "conf_G21_30_combined_correct = astropy.stats.binom_conf_interval(success_G21_30_combined_correct, attempts_G21_30_combined_correct, confidence_level=0.68269, interval='jeffreys')\n",
    "print(\"Jeffreys confidence interval: \", conf_G21_30_combined_correct) # Correct answers interval"
   ]
  },
  {
   "cell_type": "code",
   "execution_count": 38,
   "id": "e1cf948f",
   "metadata": {},
   "outputs": [
    {
     "data": {
      "text/plain": [
       "count    2.000000\n",
       "mean     0.083333\n",
       "std      0.039284\n",
       "min      0.055556\n",
       "25%      0.069444\n",
       "50%      0.083333\n",
       "75%      0.097222\n",
       "max      0.111111\n",
       "dtype: float64"
      ]
     },
     "execution_count": 38,
     "metadata": {},
     "output_type": "execute_result"
    }
   ],
   "source": [
    "G21_30_combined = pd.Series(G21_30_combined_correct/G21_30_total_responses)\n",
    "G21_30_combined.describe()"
   ]
  },
  {
   "cell_type": "markdown",
   "id": "c3d339c7",
   "metadata": {},
   "source": [
    "### Qualitative"
   ]
  },
  {
   "cell_type": "code",
   "execution_count": 39,
   "id": "eab4c6bd",
   "metadata": {},
   "outputs": [
    {
     "name": "stdout",
     "output_type": "stream",
     "text": [
      "Interactivity 'good' or 'very good': 7\n",
      "(%) 77.77777777777779\n",
      "Interactivity 'acceptable': 1\n",
      "(%) 11.11111111111111\n",
      "Interactivity 'bad' or 'very bad': 1\n",
      "(%) 11.11111111111111\n",
      "Participants that couldn't test the application in person: 9\n",
      "(%) 50.0\n"
     ]
    }
   ],
   "source": [
    "# Interactivity\n",
    "Q15_21_30_good = len([i for i in range(len(G21_30_df)) if ((\"Buena\" in G21_30_df.Q15[G21_30_index[i]]) or (\"Muy buena\" in G21_30_df.Q15[G21_30_index[i]]) or (\"Good\" in G21_30_df.Q15[G21_30_index[i]]) or (\"Very good\" in G21_30_df.Q15[G21_30_index[i]]))])\n",
    "Q15_21_30_acc = len([i for i in range(len(G21_30_df)) if ((\"Aceptable\" in G21_30_df.Q15[G21_30_index[i]]) or (\"Acceptable\" in G21_30_df.Q15[G21_30_index[i]]))])\n",
    "Q15_21_30_bad = len([i for i in range(len(G21_30_df)) if ((\"Mala\" in G21_30_df.Q15[G21_30_index[i]]) or (\"Muy mala\" in G21_30_df.Q15[G21_30_index[i]]) or (\"Bad\" in G21_30_df.Q15[G21_30_index[i]]) or (\"Very bad\" in G21_30_df.Q15[G21_30_index[i]]))])\n",
    "Q15_21_30_xxx = len([i for i in range(len(G21_30_df)) if ((\"XXX\" in G21_30_df.Q15[G21_30_index[i]]))])\n",
    "print(\"Interactivity 'good' or 'very good':\", Q15_21_30_good) #Lack of this question in the first version of the survey (1 participant)\n",
    "print(\"(%)\", percentage_sub(Q15_21_30_good, G21_30_counter - Q15_21_30_xxx))\n",
    "print(\"Interactivity 'acceptable':\", Q15_21_30_acc)\n",
    "print(\"(%)\", percentage_sub(Q15_21_30_acc, G21_30_counter - Q15_21_30_xxx))\n",
    "print(\"Interactivity 'bad' or 'very bad':\", Q15_21_30_bad)\n",
    "print(\"(%)\", percentage_sub(Q15_21_30_bad, G21_30_counter - Q15_21_30_xxx))\n",
    "print(\"Participants that couldn't test the application in person:\", Q15_21_30_xxx)\n",
    "print(\"(%)\", percentage_sub(Q15_21_30_xxx, G21_30_counter))"
   ]
  },
  {
   "cell_type": "code",
   "execution_count": 40,
   "id": "c40f7753",
   "metadata": {},
   "outputs": [
    {
     "name": "stdout",
     "output_type": "stream",
     "text": [
      "Participants finding it 'useful' or 'very useful': 14\n",
      "(%) 77.77777777777779\n",
      "Participants finding it 'Doubtedly useful' or 'useless': 4\n",
      "(%) 22.22222222222222\n"
     ]
    }
   ],
   "source": [
    "# Usefulness\n",
    "Q16_21_30_good = len([i for i in range(len(G21_30_df)) if ((\"Útil\" in G21_30_df.Q16[G21_30_index[i]]) or (\"Muy útil\" in G21_30_df.Q16[G21_30_index[i]]) or (\"Useful\" in G21_30_df.Q16[G21_30_index[i]]) or (\"Very useful\" in G21_30_df.Q16[G21_30_index[i]]))])\n",
    "Q16_21_30_bad = len([i for i in range(len(G21_30_df)) if ((\"dudosa\" in G21_30_df.Q16[G21_30_index[i]]) or (\"Doubtedly\" in G21_30_df.Q16[G21_30_index[i]]) or (\"Doubtely\" in G21_30_df.Q16[G21_30_index[i]]) or (\"Inútil\" in G21_30_df.Q16[G21_30_index[i]]) or (\"Useless\" in G21_30_df.Q16[G21_30_index[i]]))])\n",
    "print(\"Participants finding it 'useful' or 'very useful':\", Q16_21_30_good)\n",
    "print(\"(%)\", percentage_sub(Q16_21_30_good, G21_30_counter))\n",
    "print(\"Participants finding it 'Doubtedly useful' or 'useless':\", Q16_21_30_bad)\n",
    "print(\"(%)\", percentage_sub(Q16_21_30_bad, G21_30_counter))"
   ]
  },
  {
   "cell_type": "code",
   "execution_count": 41,
   "id": "8ba7be8c",
   "metadata": {},
   "outputs": [
    {
     "name": "stdout",
     "output_type": "stream",
     "text": [
      "Sound Quality 'good' or 'very good': 10\n",
      "(%) 55.55555555555556\n",
      "Sound Quality 'acceptable': 8\n",
      "(%) 12.307692307692308\n",
      "Sound Quality 'bad' or 'very bad': 0\n",
      "(%) 0.0\n"
     ]
    }
   ],
   "source": [
    "# Quality of sound\n",
    "Q17_21_30_good = len([i for i in range(len(G21_30_df)) if ((\"Buen\" in G21_30_df.Q17[G21_30_index[i]]) or (\"Muy buen\" in G21_30_df.Q17[G21_30_index[i]]) or (\"Good\" in G21_30_df.Q17[G21_30_index[i]]) or (\"Nice\" in G21_30_df.Q17[G21_30_index[i]]))])\n",
    "Q17_21_30_acc = len([i for i in range(len(G21_30_df)) if ((\"Aceptable\" in G21_30_df.Q17[G21_30_index[i]]) or (\"Acceptable\" in G21_30_df.Q17[G21_30_index[i]]))])\n",
    "Q17_21_30_bad = len([i for i in range(len(G21_30_df)) if ((\"Mal\" in G21_30_df.Q17[G21_30_index[i]]) or (\"Insoportable\" in G21_30_df.Q17[G21_30_index[i]]) or (\"Bad\" in G21_30_df.Q17[G21_30_index[i]]) or (\"Intolerable\" in G21_30_df.Q17[G21_30_index[i]]))])\n",
    "print(\"Sound Quality 'good' or 'very good':\", Q17_21_30_good)\n",
    "print(\"(%)\", percentage_sub(Q17_21_30_good, G21_30_counter))\n",
    "print(\"Sound Quality 'acceptable':\", Q17_21_30_acc)\n",
    "print(\"(%)\", percentage(Q17_21_30_acc))\n",
    "print(\"Sound Quality 'bad' or 'very bad':\", Q17_21_30_bad)\n",
    "print(\"(%)\", percentage_sub(Q17_21_30_bad, G21_30_counter))"
   ]
  },
  {
   "cell_type": "code",
   "execution_count": 42,
   "id": "595e953e",
   "metadata": {},
   "outputs": [],
   "source": [
    "participants_list.append(G21_30_counter)\n",
    "success_list.append(G21_30.describe()[\"mean\"])\n",
    "Jeff_low_list.append(conf_G21_30_correct[0])\n",
    "Jeff_high_list.append(conf_G21_30_correct[1])\n",
    "std_list.append(G21_30.describe()[\"std\"])\n",
    "comb_success_list.append(G21_30_combined.describe()[\"mean\"])\n",
    "comb_Jeff_low_list.append(conf_G21_30_combined_correct[0])\n",
    "comb_Jeff_high_list.append(conf_G21_30_combined_correct[1])\n",
    "comb_std_list.append(G21_30_combined.describe()[\"std\"])\n",
    "interactivity_list.append(percentage_sub(Q15_21_30_good, G21_30_counter - Q15_21_30_xxx))\n",
    "useful_list.append(percentage_sub(Q16_21_30_good, G21_30_counter))\n",
    "sound_list.append(percentage_sub(Q17_21_30_good, G21_30_counter))"
   ]
  },
  {
   "cell_type": "markdown",
   "id": "2769dc66",
   "metadata": {},
   "source": [
    "### G31_40"
   ]
  },
  {
   "cell_type": "code",
   "execution_count": 43,
   "id": "c2a0867a",
   "metadata": {
    "scrolled": true
   },
   "outputs": [
    {
     "name": "stdout",
     "output_type": "stream",
     "text": [
      "Number of participants in G31_40: 9\n"
     ]
    },
    {
     "data": {
      "text/html": [
       "<div>\n",
       "<style scoped>\n",
       "    .dataframe tbody tr th:only-of-type {\n",
       "        vertical-align: middle;\n",
       "    }\n",
       "\n",
       "    .dataframe tbody tr th {\n",
       "        vertical-align: top;\n",
       "    }\n",
       "\n",
       "    .dataframe thead th {\n",
       "        text-align: right;\n",
       "    }\n",
       "</style>\n",
       "<table border=\"1\" class=\"dataframe\">\n",
       "  <thead>\n",
       "    <tr style=\"text-align: right;\">\n",
       "      <th></th>\n",
       "      <th>Unnamed: 0</th>\n",
       "      <th>ID</th>\n",
       "      <th>Start time</th>\n",
       "      <th>Completion time</th>\n",
       "      <th>REF</th>\n",
       "      <th>Q1</th>\n",
       "      <th>Q2</th>\n",
       "      <th>Q3</th>\n",
       "      <th>Q4</th>\n",
       "      <th>Q5</th>\n",
       "      <th>...</th>\n",
       "      <th>Q18</th>\n",
       "      <th>Q19</th>\n",
       "      <th>Q20</th>\n",
       "      <th>Q21</th>\n",
       "      <th>Q22</th>\n",
       "      <th>Q23</th>\n",
       "      <th>Q24</th>\n",
       "      <th>Q25</th>\n",
       "      <th>Q26</th>\n",
       "      <th>Q27</th>\n",
       "    </tr>\n",
       "  </thead>\n",
       "  <tbody>\n",
       "    <tr>\n",
       "      <th>2</th>\n",
       "      <td>1</td>\n",
       "      <td>1.0</td>\n",
       "      <td>4/18/24 10:01:49</td>\n",
       "      <td>4/18/24 10:26:12</td>\n",
       "      <td>anonymous</td>\n",
       "      <td>Sonificación 2</td>\n",
       "      <td>A la izquierda</td>\n",
       "      <td>Sonificación 2</td>\n",
       "      <td>Sonificación 2</td>\n",
       "      <td>Espectro 1</td>\n",
       "      <td>...</td>\n",
       "      <td>Mucha experiencia (profesional)</td>\n",
       "      <td>Ninguna</td>\n",
       "      <td>Blues</td>\n",
       "      <td>31-40</td>\n",
       "      <td>No</td>\n",
       "      <td>España</td>\n",
       "      <td>Español</td>\n",
       "      <td>Sí, utilicé auriculares.</td>\n",
       "      <td>Audio 3D / Gaming;</td>\n",
       "      <td>Gran trabajo!</td>\n",
       "    </tr>\n",
       "    <tr>\n",
       "      <th>14</th>\n",
       "      <td>13</td>\n",
       "      <td>13.0</td>\n",
       "      <td>4/22/24 22:03:27</td>\n",
       "      <td>4/22/24 22:09:19</td>\n",
       "      <td>anonymous</td>\n",
       "      <td>Sonificación 2</td>\n",
       "      <td>A la derecha</td>\n",
       "      <td>Sonificación 1</td>\n",
       "      <td>Sonificación 3</td>\n",
       "      <td>Espectro 3</td>\n",
       "      <td>...</td>\n",
       "      <td>Ninguna</td>\n",
       "      <td>Algo de experiencia (hobby/entusiasta)</td>\n",
       "      <td>el Fary</td>\n",
       "      <td>31-40</td>\n",
       "      <td>No</td>\n",
       "      <td>España</td>\n",
       "      <td>Castellano</td>\n",
       "      <td>No, no lo hice.</td>\n",
       "      <td>Estéreo;</td>\n",
       "      <td>x-x</td>\n",
       "    </tr>\n",
       "    <tr>\n",
       "      <th>30</th>\n",
       "      <td>29</td>\n",
       "      <td>29.0</td>\n",
       "      <td>4/30/24 11:11:36</td>\n",
       "      <td>4/30/24 11:37:53</td>\n",
       "      <td>anonymous</td>\n",
       "      <td>Sonificación 1</td>\n",
       "      <td>A la izquierda</td>\n",
       "      <td>Sonificación 2</td>\n",
       "      <td>Sonificación 2</td>\n",
       "      <td>Espectro 2</td>\n",
       "      <td>...</td>\n",
       "      <td>Ninguna</td>\n",
       "      <td>Mucha experiencia (professional)</td>\n",
       "      <td>Rock psicodelico, Jazz, Reggae, Electronica</td>\n",
       "      <td>31-40</td>\n",
       "      <td>No</td>\n",
       "      <td>España</td>\n",
       "      <td>Castellano</td>\n",
       "      <td>Sí, utilicé auriculares.</td>\n",
       "      <td>Estéreo;Intra-aurales;</td>\n",
       "      <td>x-x</td>\n",
       "    </tr>\n",
       "    <tr>\n",
       "      <th>31</th>\n",
       "      <td>30</td>\n",
       "      <td>30.0</td>\n",
       "      <td>5/2/24 14:19:24</td>\n",
       "      <td>5/2/24 14:47:41</td>\n",
       "      <td>anonymous</td>\n",
       "      <td>Sonificación 2</td>\n",
       "      <td>A la derecha</td>\n",
       "      <td>Sonificación 3</td>\n",
       "      <td>Sonificación 2</td>\n",
       "      <td>Espectro 2</td>\n",
       "      <td>...</td>\n",
       "      <td>Ninguna</td>\n",
       "      <td>Algo de experiencia (hobby/entusiasta)</td>\n",
       "      <td>R&amp;B, jazz, indie, pop, electrónica</td>\n",
       "      <td>31-40</td>\n",
       "      <td>No</td>\n",
       "      <td>España</td>\n",
       "      <td>Español</td>\n",
       "      <td>Sí, utilicé auriculares.</td>\n",
       "      <td>Estéreo;</td>\n",
       "      <td>Buen trabajo!</td>\n",
       "    </tr>\n",
       "    <tr>\n",
       "      <th>33</th>\n",
       "      <td>32</td>\n",
       "      <td>32.0</td>\n",
       "      <td>5/3/24 12:31:43</td>\n",
       "      <td>5/3/24 13:15:07</td>\n",
       "      <td>anonymous</td>\n",
       "      <td>Sonificación 2</td>\n",
       "      <td>A la izquierda</td>\n",
       "      <td>Sonificación 2</td>\n",
       "      <td>Sonificación 2</td>\n",
       "      <td>Espectro 2</td>\n",
       "      <td>...</td>\n",
       "      <td>Algo de experiencia (hobby/entusiasta)</td>\n",
       "      <td>Algo de experiencia (hobby/entusiasta)</td>\n",
       "      <td>Experimental</td>\n",
       "      <td>31-40</td>\n",
       "      <td>No</td>\n",
       "      <td>España</td>\n",
       "      <td>Castellano</td>\n",
       "      <td>Sí, utilicé auriculares.</td>\n",
       "      <td>Estéreo;Circum-aurales;</td>\n",
       "      <td>x-x</td>\n",
       "    </tr>\n",
       "    <tr>\n",
       "      <th>48</th>\n",
       "      <td>47</td>\n",
       "      <td>2.0</td>\n",
       "      <td>4/17/24 11:32:00</td>\n",
       "      <td>4/17/24 12:09:06</td>\n",
       "      <td>anonymous</td>\n",
       "      <td>Sonification 1</td>\n",
       "      <td>Left</td>\n",
       "      <td>Sonification 2</td>\n",
       "      <td>Sonification 2</td>\n",
       "      <td>Spectrum 1</td>\n",
       "      <td>...</td>\n",
       "      <td>Very experienced (professional)</td>\n",
       "      <td>Not experienced</td>\n",
       "      <td>Rock, trash, grunge, metal</td>\n",
       "      <td>31-40</td>\n",
       "      <td>No</td>\n",
       "      <td>Spain</td>\n",
       "      <td>Spanish</td>\n",
       "      <td>Yes, I used headphones</td>\n",
       "      <td>x-x</td>\n",
       "      <td>x-x</td>\n",
       "    </tr>\n",
       "    <tr>\n",
       "      <th>49</th>\n",
       "      <td>48</td>\n",
       "      <td>3.0</td>\n",
       "      <td>4/26/24 4:40:27</td>\n",
       "      <td>4/26/24 5:03:39</td>\n",
       "      <td>anonymous</td>\n",
       "      <td>Sonification 1</td>\n",
       "      <td>Right</td>\n",
       "      <td>Sonification 2</td>\n",
       "      <td>Sonification 1</td>\n",
       "      <td>Spectrum 2</td>\n",
       "      <td>...</td>\n",
       "      <td>Very experienced (professional)</td>\n",
       "      <td>Experienced (amateur)</td>\n",
       "      <td>Rock, folk, jazz</td>\n",
       "      <td>31-40</td>\n",
       "      <td>No</td>\n",
       "      <td>Spain</td>\n",
       "      <td>Greek</td>\n",
       "      <td>Yes, I used headphones</td>\n",
       "      <td>Intra-aural;</td>\n",
       "      <td>The localization was not very easy to distinct...</td>\n",
       "    </tr>\n",
       "    <tr>\n",
       "      <th>57</th>\n",
       "      <td>56</td>\n",
       "      <td>11.0</td>\n",
       "      <td>6/26/24 6:39:03</td>\n",
       "      <td>6/26/24 7:09:03</td>\n",
       "      <td>anonymous</td>\n",
       "      <td>Sonification 2</td>\n",
       "      <td>Left</td>\n",
       "      <td>Sonification 2</td>\n",
       "      <td>Sonification 2</td>\n",
       "      <td>Spectrum 2</td>\n",
       "      <td>...</td>\n",
       "      <td>Some experienced (hobby/enthusiast)</td>\n",
       "      <td>Some experienced (hobby/enthusiast)</td>\n",
       "      <td>Alternative rock &amp; Japanese pop</td>\n",
       "      <td>31-40</td>\n",
       "      <td>No</td>\n",
       "      <td>Japan</td>\n",
       "      <td>Chinese</td>\n",
       "      <td>Yes, I used headphones</td>\n",
       "      <td>I don't know;</td>\n",
       "      <td>I am not sure the use of this tool.  It is not...</td>\n",
       "    </tr>\n",
       "    <tr>\n",
       "      <th>66</th>\n",
       "      <td>66</td>\n",
       "      <td>1.0</td>\n",
       "      <td>5/13/24 11:17:19</td>\n",
       "      <td>5/13/24 11:33:10</td>\n",
       "      <td>anonymous</td>\n",
       "      <td>Sonification 2</td>\n",
       "      <td>Left</td>\n",
       "      <td>Sonification 2</td>\n",
       "      <td>Sonification 2</td>\n",
       "      <td>Spectrum 2</td>\n",
       "      <td>...</td>\n",
       "      <td>Very experienced (professional)</td>\n",
       "      <td>Experienced (amateur)</td>\n",
       "      <td>Electronic</td>\n",
       "      <td>31-40</td>\n",
       "      <td>No</td>\n",
       "      <td>United Kingdom</td>\n",
       "      <td>English</td>\n",
       "      <td>Yes, I used headphones</td>\n",
       "      <td>Stereo;</td>\n",
       "      <td>x-x</td>\n",
       "    </tr>\n",
       "  </tbody>\n",
       "</table>\n",
       "<p>9 rows × 32 columns</p>\n",
       "</div>"
      ],
      "text/plain": [
       "    Unnamed: 0    ID        Start time   Completion time        REF  \\\n",
       "2            1   1.0  4/18/24 10:01:49  4/18/24 10:26:12  anonymous   \n",
       "14          13  13.0  4/22/24 22:03:27  4/22/24 22:09:19  anonymous   \n",
       "30          29  29.0  4/30/24 11:11:36  4/30/24 11:37:53  anonymous   \n",
       "31          30  30.0   5/2/24 14:19:24   5/2/24 14:47:41  anonymous   \n",
       "33          32  32.0   5/3/24 12:31:43   5/3/24 13:15:07  anonymous   \n",
       "48          47   2.0  4/17/24 11:32:00  4/17/24 12:09:06  anonymous   \n",
       "49          48   3.0   4/26/24 4:40:27   4/26/24 5:03:39  anonymous   \n",
       "57          56  11.0   6/26/24 6:39:03   6/26/24 7:09:03  anonymous   \n",
       "66          66   1.0  5/13/24 11:17:19  5/13/24 11:33:10  anonymous   \n",
       "\n",
       "                Q1              Q2              Q3              Q4  \\\n",
       "2   Sonificación 2  A la izquierda  Sonificación 2  Sonificación 2   \n",
       "14  Sonificación 2    A la derecha  Sonificación 1  Sonificación 3   \n",
       "30  Sonificación 1  A la izquierda  Sonificación 2  Sonificación 2   \n",
       "31  Sonificación 2    A la derecha  Sonificación 3  Sonificación 2   \n",
       "33  Sonificación 2  A la izquierda  Sonificación 2  Sonificación 2   \n",
       "48  Sonification 1            Left  Sonification 2  Sonification 2   \n",
       "49  Sonification 1           Right  Sonification 2  Sonification 1   \n",
       "57  Sonification 2            Left  Sonification 2  Sonification 2   \n",
       "66  Sonification 2            Left  Sonification 2  Sonification 2   \n",
       "\n",
       "            Q5  ...                                     Q18  \\\n",
       "2   Espectro 1  ...         Mucha experiencia (profesional)   \n",
       "14  Espectro 3  ...                                 Ninguna   \n",
       "30  Espectro 2  ...                                 Ninguna   \n",
       "31  Espectro 2  ...                                 Ninguna   \n",
       "33  Espectro 2  ...  Algo de experiencia (hobby/entusiasta)   \n",
       "48  Spectrum 1  ...         Very experienced (professional)   \n",
       "49  Spectrum 2  ...         Very experienced (professional)   \n",
       "57  Spectrum 2  ...     Some experienced (hobby/enthusiast)   \n",
       "66  Spectrum 2  ...         Very experienced (professional)   \n",
       "\n",
       "                                       Q19  \\\n",
       "2                                  Ninguna   \n",
       "14  Algo de experiencia (hobby/entusiasta)   \n",
       "30        Mucha experiencia (professional)   \n",
       "31  Algo de experiencia (hobby/entusiasta)   \n",
       "33  Algo de experiencia (hobby/entusiasta)   \n",
       "48                         Not experienced   \n",
       "49                   Experienced (amateur)   \n",
       "57     Some experienced (hobby/enthusiast)   \n",
       "66                   Experienced (amateur)   \n",
       "\n",
       "                                            Q20    Q21 Q22              Q23  \\\n",
       "2                                         Blues  31-40  No           España   \n",
       "14                                      el Fary  31-40  No           España   \n",
       "30  Rock psicodelico, Jazz, Reggae, Electronica  31-40  No           España   \n",
       "31           R&B, jazz, indie, pop, electrónica  31-40  No           España   \n",
       "33                                 Experimental  31-40  No           España   \n",
       "48                   Rock, trash, grunge, metal  31-40  No            Spain   \n",
       "49                             Rock, folk, jazz  31-40  No            Spain   \n",
       "57              Alternative rock & Japanese pop  31-40  No            Japan   \n",
       "66                                   Electronic  31-40  No  United Kingdom    \n",
       "\n",
       "           Q24                       Q25                      Q26  \\\n",
       "2      Español  Sí, utilicé auriculares.       Audio 3D / Gaming;   \n",
       "14  Castellano           No, no lo hice.                 Estéreo;   \n",
       "30  Castellano  Sí, utilicé auriculares.   Estéreo;Intra-aurales;   \n",
       "31     Español  Sí, utilicé auriculares.                 Estéreo;   \n",
       "33  Castellano  Sí, utilicé auriculares.  Estéreo;Circum-aurales;   \n",
       "48     Spanish    Yes, I used headphones                      x-x   \n",
       "49       Greek    Yes, I used headphones             Intra-aural;   \n",
       "57     Chinese    Yes, I used headphones            I don't know;   \n",
       "66     English    Yes, I used headphones                  Stereo;   \n",
       "\n",
       "                                                  Q27  \n",
       "2                                       Gran trabajo!  \n",
       "14                                                x-x  \n",
       "30                                                x-x  \n",
       "31                                      Buen trabajo!  \n",
       "33                                                x-x  \n",
       "48                                                x-x  \n",
       "49  The localization was not very easy to distinct...  \n",
       "57  I am not sure the use of this tool.  It is not...  \n",
       "66                                                x-x  \n",
       "\n",
       "[9 rows x 32 columns]"
      ]
     },
     "execution_count": 43,
     "metadata": {},
     "output_type": "execute_result"
    }
   ],
   "source": [
    "G31_40_list = []\n",
    "G31_40_index = []\n",
    "G31_40_counter = 0\n",
    "for i in range(len(data)):\n",
    "    if (\"31-40\" in data.Q21[i]):\n",
    "        G31_40_counter += 1\n",
    "        current_row = data.iloc[i]\n",
    "        G31_40_list.append(current_row)\n",
    "        G31_40_index.append(i)\n",
    "        \n",
    "print(\"Number of participants in G31_40:\", G31_40_counter)\n",
    "G31_40_df = pd.DataFrame(G31_40_list)\n",
    "G31_40_df"
   ]
  },
  {
   "cell_type": "code",
   "execution_count": 44,
   "id": "5e6a65dd",
   "metadata": {},
   "outputs": [
    {
     "data": {
      "text/plain": [
       "array([3, 6, 3, 4, 6, 7, 7, 8, 3, 3, 2, 3])"
      ]
     },
     "execution_count": 44,
     "metadata": {},
     "output_type": "execute_result"
    }
   ],
   "source": [
    "Q1_31_40 = len([i for i in range(len(G31_40_df)) if ((G31_40_df.Q1[G31_40_index[i]] == data.Q1[0]) or (G31_40_df.Q1[G31_40_index[i]] == data.Q1[1]))])\n",
    "Q2_31_40 = len([i for i in range(len(G31_40_df)) if ((G31_40_df.Q2[G31_40_index[i]] == data.Q2[0]) or (G31_40_df.Q2[G31_40_index[i]] == data.Q2[1]))])\n",
    "Q3_31_40 = len([i for i in range(len(G31_40_df)) if ((G31_40_df.Q3[G31_40_index[i]] == data.Q3[0]) or (G31_40_df.Q3[G31_40_index[i]] == data.Q3[1]))])\n",
    "Q4_31_40 = len([i for i in range(len(G31_40_df)) if ((G31_40_df.Q4[G31_40_index[i]] == data.Q4[0]) or (G31_40_df.Q4[G31_40_index[i]] == data.Q4[1]))])\n",
    "Q5_31_40 = len([i for i in range(len(G31_40_df)) if ((G31_40_df.Q5[G31_40_index[i]] == data.Q5[0]) or (G31_40_df.Q5[G31_40_index[i]] == data.Q5[1]))])\n",
    "Q6_31_40 = len([i for i in range(len(G31_40_df)) if ((G31_40_df.Q6[G31_40_index[i]] == data.Q6[0]) or (G31_40_df.Q6[G31_40_index[i]] == data.Q6[1]))])\n",
    "Q7_31_40 = len([i for i in range(len(G31_40_df)) if ((G31_40_df.Q7[G31_40_index[i]] == data.Q7[0]) or (G31_40_df.Q7[G31_40_index[i]] == data.Q7[1]))])\n",
    "Q8_31_40 = len([i for i in range(len(G31_40_df)) if ((G31_40_df.Q8[G31_40_index[i]] == data.Q8[0]) or (G31_40_df.Q8[G31_40_index[i]] == data.Q8[1]))])\n",
    "Q9_31_40 = len([i for i in range(len(G31_40_df)) if ((G31_40_df.Q9[G31_40_index[i]] == data.Q9[0]) or (G31_40_df.Q9[G31_40_index[i]] == data.Q9[1]))])\n",
    "Q10_31_40 = len([i for i in range(len(G31_40_df)) if ((G31_40_df.Q10[G31_40_index[i]] == data.Q10[0]) or (G31_40_df.Q10[G31_40_index[i]] == data.Q10[1]))])\n",
    "Q11_31_40 = len([i for i in range(len(G31_40_df)) if ((G31_40_df.Q11[G31_40_index[i]] == data.Q11[0]) or (G31_40_df.Q11[G31_40_index[i]] == data.Q11[1]))])\n",
    "Q12_31_40 = len([i for i in range(len(G31_40_df)) if ((G31_40_df.Q12[G31_40_index[i]] == data.Q12[0]) or (G31_40_df.Q12[G31_40_index[i]] == data.Q12[1]))])\n",
    "\n",
    "G31_40_correct = [Q1_31_40,Q2_31_40,Q3_31_40,Q4_31_40,Q5_31_40,Q6_31_40,Q7_31_40,Q8_31_40,Q9_31_40,Q10_31_40,Q11_31_40,Q12_31_40]\n",
    "G31_40_correct = np.array(G31_40_correct, int)\n",
    "G31_40_correct #12 Single response correct results"
   ]
  },
  {
   "cell_type": "code",
   "execution_count": 45,
   "id": "dada990a",
   "metadata": {},
   "outputs": [
    {
     "name": "stdout",
     "output_type": "stream",
     "text": [
      "Total responses:  9\n",
      "G_21_30 success mean: 0.5092592592592592\n",
      "Jeffreys confidence interval:  [0.4612913 0.5570567]\n"
     ]
    }
   ],
   "source": [
    "G31_40_total_responses = len(G31_40_df)\n",
    "mean_G31_40_correct = np.mean(G31_40_correct)\n",
    "print(\"Total responses: \", G31_40_total_responses)\n",
    "print(\"G_21_30 success mean:\", mean_G31_40_correct/G31_40_total_responses)\n",
    "\n",
    "success_G31_40_correct = np.sum(G31_40_correct)\n",
    "attempts_G31_40_correct = 12* G31_40_total_responses\n",
    "conf_G31_40_correct = astropy.stats.binom_conf_interval(success_G31_40_correct, attempts_G31_40_correct, confidence_level=0.68269, interval='jeffreys')\n",
    "print(\"Jeffreys confidence interval: \", conf_G31_40_correct) # Correct answers interval"
   ]
  },
  {
   "cell_type": "code",
   "execution_count": 46,
   "id": "acd1b468",
   "metadata": {},
   "outputs": [
    {
     "data": {
      "text/plain": [
       "count    12.000000\n",
       "mean      0.509259\n",
       "std       0.229469\n",
       "min       0.222222\n",
       "25%       0.333333\n",
       "50%       0.388889\n",
       "75%       0.694444\n",
       "max       0.888889\n",
       "dtype: float64"
      ]
     },
     "execution_count": 46,
     "metadata": {},
     "output_type": "execute_result"
    }
   ],
   "source": [
    "G31_40 = pd.Series(G31_40_correct/G31_40_total_responses)\n",
    "G31_40.describe()"
   ]
  },
  {
   "cell_type": "code",
   "execution_count": 47,
   "id": "4c1ad94e",
   "metadata": {},
   "outputs": [
    {
     "data": {
      "text/plain": [
       "array([1, 2])"
      ]
     },
     "execution_count": 47,
     "metadata": {},
     "output_type": "execute_result"
    }
   ],
   "source": [
    "Q13_31_40 = len([i for i in range(len(G31_40_df)) if ((check_1 in G31_40_df.Q13[G31_40_index[i]]) and (check_2 in G31_40_df.Q13[G31_40_index[i]]) and (check_3 in G31_40_df.Q13[G31_40_index[i]])) or ((check_4 in G31_40_df.Q13[G31_40_index[i]]) and (check_5 in G31_40_df.Q13[G31_40_index[i]]) and (check_6 in G31_40_df.Q13[G31_40_index[i]]))])\n",
    "Q14_31_40 = len([i for i in range(len(G31_40_df)) if ((check_7 in G31_40_df.Q14[G31_40_index[i]]) and (check_8 in G31_40_df.Q14[G31_40_index[i]]) and (check_9 in G31_40_df.Q14[G31_40_index[i]])) or ((check_10 in G31_40_df.Q14[G31_40_index[i]]) and (check_11 in G31_40_df.Q14[G31_40_index[i]]) and (check_12 in G31_40_df.Q14[G31_40_index[i]]))])\n",
    "\n",
    "G31_40_combined_correct = [Q13_31_40,Q14_31_40]\n",
    "G31_40_combined_correct = np.array(G31_40_combined_correct, int)\n",
    "\n",
    "G31_40_combined_correct"
   ]
  },
  {
   "cell_type": "code",
   "execution_count": 48,
   "id": "1e0e9f8b",
   "metadata": {},
   "outputs": [
    {
     "name": "stdout",
     "output_type": "stream",
     "text": [
      "G_31_40 success mean (Combined questions): 0.16666666666666666\n",
      "Jeffreys confidence interval:  [0.09785526 0.27136606]\n"
     ]
    }
   ],
   "source": [
    "mean_G31_40_combined_correct = np.mean(G31_40_combined_correct)\n",
    "print(\"G_31_40 success mean (Combined questions):\", mean_G31_40_combined_correct/G31_40_total_responses)\n",
    "success_G31_40_combined_correct = np.sum(G31_40_combined_correct)\n",
    "attempts_G31_40_combined_correct = 2* G31_40_total_responses\n",
    "conf_G31_40_combined_correct = astropy.stats.binom_conf_interval(success_G31_40_combined_correct, attempts_G31_40_combined_correct, confidence_level=0.68269, interval='jeffreys')\n",
    "print(\"Jeffreys confidence interval: \", conf_G31_40_combined_correct) # Correct answers interval"
   ]
  },
  {
   "cell_type": "code",
   "execution_count": 49,
   "id": "6b9b4905",
   "metadata": {},
   "outputs": [
    {
     "data": {
      "text/plain": [
       "count    2.000000\n",
       "mean     0.166667\n",
       "std      0.078567\n",
       "min      0.111111\n",
       "25%      0.138889\n",
       "50%      0.166667\n",
       "75%      0.194444\n",
       "max      0.222222\n",
       "dtype: float64"
      ]
     },
     "execution_count": 49,
     "metadata": {},
     "output_type": "execute_result"
    }
   ],
   "source": [
    "G31_40_combined = pd.Series(G31_40_combined_correct/G31_40_total_responses)\n",
    "G31_40_combined.describe()"
   ]
  },
  {
   "cell_type": "code",
   "execution_count": 50,
   "id": "54ce4a50",
   "metadata": {},
   "outputs": [
    {
     "name": "stdout",
     "output_type": "stream",
     "text": [
      "Interactivity 'good' or 'very good': 4\n",
      "(%) 80.0\n",
      "Interactivity 'acceptable': 1\n",
      "(%) 20.0\n",
      "Interactivity 'bad' or 'very bad': 0\n",
      "(%) 0.0\n",
      "Participants that couldn't test the application in person: 4\n",
      "(%) 44.44444444444444\n"
     ]
    }
   ],
   "source": [
    "# Interactivity\n",
    "Q15_31_40_good = len([i for i in range(len(G31_40_df)) if ((\"Buena\" in G31_40_df.Q15[G31_40_index[i]]) or (\"Muy buena\" in G31_40_df.Q15[G31_40_index[i]]) or (\"Good\" in G31_40_df.Q15[G31_40_index[i]]) or (\"Very good\" in G31_40_df.Q15[G31_40_index[i]]))])\n",
    "Q15_31_40_acc = len([i for i in range(len(G31_40_df)) if ((\"Aceptable\" in G31_40_df.Q15[G31_40_index[i]]) or (\"Acceptable\" in G31_40_df.Q15[G31_40_index[i]]))])\n",
    "Q15_31_40_bad = len([i for i in range(len(G31_40_df)) if ((\"Mala\" in G31_40_df.Q15[G31_40_index[i]]) or (\"Muy mala\" in G31_40_df.Q15[G31_40_index[i]]) or (\"Bad\" in G31_40_df.Q15[G31_40_index[i]]) or (\"Very bad\" in G31_40_df.Q15[G31_40_index[i]]))])\n",
    "Q15_31_40_xxx = len([i for i in range(len(G31_40_df)) if ((\"XXX\" in G31_40_df.Q15[G31_40_index[i]]))])\n",
    "print(\"Interactivity 'good' or 'very good':\", Q15_31_40_good) #Lack of this question in the first version of the survey (1 participant)\n",
    "print(\"(%)\", percentage_sub(Q15_31_40_good, G31_40_counter - Q15_31_40_xxx))\n",
    "print(\"Interactivity 'acceptable':\", Q15_31_40_acc)\n",
    "print(\"(%)\", percentage_sub(Q15_31_40_acc, G31_40_counter - Q15_31_40_xxx))\n",
    "print(\"Interactivity 'bad' or 'very bad':\", Q15_31_40_bad)\n",
    "print(\"(%)\", percentage_sub(Q15_31_40_bad, G31_40_counter - Q15_31_40_xxx))\n",
    "print(\"Participants that couldn't test the application in person:\", Q15_31_40_xxx)\n",
    "print(\"(%)\", percentage_sub(Q15_31_40_xxx, G31_40_counter))"
   ]
  },
  {
   "cell_type": "code",
   "execution_count": 51,
   "id": "b2b9bb7b",
   "metadata": {},
   "outputs": [
    {
     "name": "stdout",
     "output_type": "stream",
     "text": [
      "Participants finding it 'useful' or 'very useful': 7\n",
      "(%) 77.77777777777779\n",
      "Participants finding it 'Doubtedly useful' or 'useless': 2\n",
      "(%) 22.22222222222222\n"
     ]
    }
   ],
   "source": [
    "# Usefulness\n",
    "Q16_31_40_good = len([i for i in range(len(G31_40_df)) if ((\"Útil\" in G31_40_df.Q16[G31_40_index[i]]) or (\"Muy útil\" in G31_40_df.Q16[G31_40_index[i]]) or (\"Useful\" in G31_40_df.Q16[G31_40_index[i]]) or (\"Very useful\" in G31_40_df.Q16[G31_40_index[i]]))])\n",
    "Q16_31_40_bad = len([i for i in range(len(G31_40_df)) if ((\"dudosa\" in G31_40_df.Q16[G31_40_index[i]]) or (\"Doubtedly\" in G31_40_df.Q16[G31_40_index[i]]) or (\"Doubtely\" in G31_40_df.Q16[G31_40_index[i]]) or (\"Inútil\" in G31_40_df.Q16[G31_40_index[i]]) or (\"Useless\" in G31_40_df.Q16[G31_40_index[i]]))])\n",
    "print(\"Participants finding it 'useful' or 'very useful':\", Q16_31_40_good)\n",
    "print(\"(%)\", percentage_sub(Q16_31_40_good, G31_40_counter))\n",
    "print(\"Participants finding it 'Doubtedly useful' or 'useless':\", Q16_31_40_bad)\n",
    "print(\"(%)\", percentage_sub(Q16_31_40_bad, G31_40_counter))"
   ]
  },
  {
   "cell_type": "code",
   "execution_count": 52,
   "id": "8793b475",
   "metadata": {},
   "outputs": [
    {
     "name": "stdout",
     "output_type": "stream",
     "text": [
      "Sound Quality 'good' or 'very good': 4\n",
      "(%) 44.44444444444444\n",
      "Sound Quality 'acceptable': 3\n",
      "(%) 4.615384615384616\n",
      "Sound Quality 'bad' or 'very bad': 2\n",
      "(%) 22.22222222222222\n"
     ]
    }
   ],
   "source": [
    "# Quality of sound\n",
    "Q17_31_40_good = len([i for i in range(len(G31_40_df)) if ((\"Buen\" in G31_40_df.Q17[G31_40_index[i]]) or (\"Muy buen\" in G31_40_df.Q17[G31_40_index[i]]) or (\"Good\" in G31_40_df.Q17[G31_40_index[i]]) or (\"Nice\" in G31_40_df.Q17[G31_40_index[i]]))])\n",
    "Q17_31_40_acc = len([i for i in range(len(G31_40_df)) if ((\"Aceptable\" in G31_40_df.Q17[G31_40_index[i]]) or (\"Acceptable\" in G31_40_df.Q17[G31_40_index[i]]))])\n",
    "Q17_31_40_bad = len([i for i in range(len(G31_40_df)) if ((\"Mal\" in G31_40_df.Q17[G31_40_index[i]]) or (\"Insoportable\" in G31_40_df.Q17[G31_40_index[i]]) or (\"Bad\" in G31_40_df.Q17[G31_40_index[i]]) or (\"Intolerable\" in G31_40_df.Q17[G31_40_index[i]]))])\n",
    "print(\"Sound Quality 'good' or 'very good':\", Q17_31_40_good)\n",
    "print(\"(%)\", percentage_sub(Q17_31_40_good, G31_40_counter))\n",
    "print(\"Sound Quality 'acceptable':\", Q17_31_40_acc)\n",
    "print(\"(%)\", percentage(Q17_31_40_acc))\n",
    "print(\"Sound Quality 'bad' or 'very bad':\", Q17_31_40_bad)\n",
    "print(\"(%)\", percentage_sub(Q17_31_40_bad, G31_40_counter))"
   ]
  },
  {
   "cell_type": "code",
   "execution_count": 53,
   "id": "8f5e794a",
   "metadata": {},
   "outputs": [],
   "source": [
    "participants_list.append(G31_40_counter)\n",
    "success_list.append(G31_40.describe()[\"mean\"])\n",
    "Jeff_low_list.append(conf_G31_40_correct[0])\n",
    "Jeff_high_list.append(conf_G31_40_correct[1])\n",
    "std_list.append(G31_40.describe()[\"std\"])\n",
    "comb_success_list.append(G31_40_combined.describe()[\"mean\"])\n",
    "comb_Jeff_low_list.append(conf_G31_40_combined_correct[0])\n",
    "comb_Jeff_high_list.append(conf_G31_40_combined_correct[1])\n",
    "comb_std_list.append(G31_40_combined.describe()[\"std\"])\n",
    "interactivity_list.append(percentage_sub(Q15_31_40_good, G31_40_counter - Q15_31_40_xxx))\n",
    "useful_list.append(percentage_sub(Q16_31_40_good, G31_40_counter))\n",
    "sound_list.append(percentage_sub(Q17_31_40_good, G31_40_counter))"
   ]
  },
  {
   "cell_type": "markdown",
   "id": "cd296030",
   "metadata": {},
   "source": [
    "### G41_50"
   ]
  },
  {
   "cell_type": "code",
   "execution_count": 54,
   "id": "04c321b2",
   "metadata": {
    "scrolled": true
   },
   "outputs": [
    {
     "name": "stdout",
     "output_type": "stream",
     "text": [
      "Number of participants in G41_50: 19\n"
     ]
    },
    {
     "data": {
      "text/html": [
       "<div>\n",
       "<style scoped>\n",
       "    .dataframe tbody tr th:only-of-type {\n",
       "        vertical-align: middle;\n",
       "    }\n",
       "\n",
       "    .dataframe tbody tr th {\n",
       "        vertical-align: top;\n",
       "    }\n",
       "\n",
       "    .dataframe thead th {\n",
       "        text-align: right;\n",
       "    }\n",
       "</style>\n",
       "<table border=\"1\" class=\"dataframe\">\n",
       "  <thead>\n",
       "    <tr style=\"text-align: right;\">\n",
       "      <th></th>\n",
       "      <th>Unnamed: 0</th>\n",
       "      <th>ID</th>\n",
       "      <th>Start time</th>\n",
       "      <th>Completion time</th>\n",
       "      <th>REF</th>\n",
       "      <th>Q1</th>\n",
       "      <th>Q2</th>\n",
       "      <th>Q3</th>\n",
       "      <th>Q4</th>\n",
       "      <th>Q5</th>\n",
       "      <th>...</th>\n",
       "      <th>Q18</th>\n",
       "      <th>Q19</th>\n",
       "      <th>Q20</th>\n",
       "      <th>Q21</th>\n",
       "      <th>Q22</th>\n",
       "      <th>Q23</th>\n",
       "      <th>Q24</th>\n",
       "      <th>Q25</th>\n",
       "      <th>Q26</th>\n",
       "      <th>Q27</th>\n",
       "    </tr>\n",
       "  </thead>\n",
       "  <tbody>\n",
       "    <tr>\n",
       "      <th>16</th>\n",
       "      <td>15</td>\n",
       "      <td>15.0</td>\n",
       "      <td>4/23/24 12:44:04</td>\n",
       "      <td>4/23/24 13:08:00</td>\n",
       "      <td>anonymous</td>\n",
       "      <td>Sonificación 1</td>\n",
       "      <td>A la izquierda</td>\n",
       "      <td>Sonificación 2</td>\n",
       "      <td>Sonificación 2</td>\n",
       "      <td>Espectro 1</td>\n",
       "      <td>...</td>\n",
       "      <td>Mucha experiencia (profesional)</td>\n",
       "      <td>Bastante experiencia (amateur)</td>\n",
       "      <td>Clasica, Jazz, Cantautores</td>\n",
       "      <td>41-50</td>\n",
       "      <td>No</td>\n",
       "      <td>España</td>\n",
       "      <td>Italiano</td>\n",
       "      <td>Sí, utilicé auriculares.</td>\n",
       "      <td>Estéreo;</td>\n",
       "      <td>x-x</td>\n",
       "    </tr>\n",
       "    <tr>\n",
       "      <th>18</th>\n",
       "      <td>17</td>\n",
       "      <td>17.0</td>\n",
       "      <td>4/24/24 20:09:26</td>\n",
       "      <td>4/24/24 20:17:02</td>\n",
       "      <td>anonymous</td>\n",
       "      <td>Sonificación 2</td>\n",
       "      <td>A la izquierda</td>\n",
       "      <td>Sonificación 3</td>\n",
       "      <td>Sonificación 3</td>\n",
       "      <td>Espectro 1</td>\n",
       "      <td>...</td>\n",
       "      <td>Ninguna</td>\n",
       "      <td>Muy básica</td>\n",
       "      <td>Todo tipo</td>\n",
       "      <td>41-50</td>\n",
       "      <td>No</td>\n",
       "      <td>España</td>\n",
       "      <td>Español</td>\n",
       "      <td>Sí, utilicé auriculares.</td>\n",
       "      <td>Estéreo;Circum-aurales;</td>\n",
       "      <td>x-x</td>\n",
       "    </tr>\n",
       "    <tr>\n",
       "      <th>22</th>\n",
       "      <td>21</td>\n",
       "      <td>21.0</td>\n",
       "      <td>4/25/24 14:36:30</td>\n",
       "      <td>4/25/24 15:03:00</td>\n",
       "      <td>anonymous</td>\n",
       "      <td>Sonificación 2</td>\n",
       "      <td>A la izquierda</td>\n",
       "      <td>Sonificación 2</td>\n",
       "      <td>Sonificación 2</td>\n",
       "      <td>Espectro 2</td>\n",
       "      <td>...</td>\n",
       "      <td>Mucha experiencia (profesional)</td>\n",
       "      <td>Algo de experiencia (hobby/entusiasta)</td>\n",
       "      <td>jazz, clásica</td>\n",
       "      <td>41-50</td>\n",
       "      <td>No</td>\n",
       "      <td>españa</td>\n",
       "      <td>español</td>\n",
       "      <td>Sí, utilicé auriculares.</td>\n",
       "      <td>Circum-aurales;</td>\n",
       "      <td>x-x</td>\n",
       "    </tr>\n",
       "    <tr>\n",
       "      <th>27</th>\n",
       "      <td>26</td>\n",
       "      <td>26.0</td>\n",
       "      <td>4/26/24 19:53:36</td>\n",
       "      <td>4/27/24 0:52:27</td>\n",
       "      <td>anonymous</td>\n",
       "      <td>Sonificación 2</td>\n",
       "      <td>A la izquierda</td>\n",
       "      <td>Sonificación 2</td>\n",
       "      <td>Sonificación 2</td>\n",
       "      <td>Espectro 2</td>\n",
       "      <td>...</td>\n",
       "      <td>Ninguna</td>\n",
       "      <td>Muy básica</td>\n",
       "      <td>Jazz</td>\n",
       "      <td>41-50</td>\n",
       "      <td>No</td>\n",
       "      <td>España</td>\n",
       "      <td>Mallorquín</td>\n",
       "      <td>Sí, utilicé auriculares.</td>\n",
       "      <td>Estéreo;</td>\n",
       "      <td>x-x</td>\n",
       "    </tr>\n",
       "    <tr>\n",
       "      <th>32</th>\n",
       "      <td>31</td>\n",
       "      <td>31.0</td>\n",
       "      <td>5/2/24 18:31:56</td>\n",
       "      <td>5/2/24 18:51:31</td>\n",
       "      <td>anonymous</td>\n",
       "      <td>Sonificación 1</td>\n",
       "      <td>A la izquierda</td>\n",
       "      <td>Sonificación 3</td>\n",
       "      <td>Sonificación 2</td>\n",
       "      <td>Espectro 2</td>\n",
       "      <td>...</td>\n",
       "      <td>Mucha experiencia (profesional)</td>\n",
       "      <td>Bastante experiencia (amateur)</td>\n",
       "      <td>Jazz</td>\n",
       "      <td>41-50</td>\n",
       "      <td>No</td>\n",
       "      <td>España</td>\n",
       "      <td>Español</td>\n",
       "      <td>Sí, utilicé auriculares.</td>\n",
       "      <td>Estéreo;</td>\n",
       "      <td>La diferencia entre zona con formación estelar...</td>\n",
       "    </tr>\n",
       "    <tr>\n",
       "      <th>34</th>\n",
       "      <td>33</td>\n",
       "      <td>33.0</td>\n",
       "      <td>5/5/24 23:19:51</td>\n",
       "      <td>5/5/24 23:38:24</td>\n",
       "      <td>anonymous</td>\n",
       "      <td>Sonificación 2</td>\n",
       "      <td>A la izquierda</td>\n",
       "      <td>Sonificación 2</td>\n",
       "      <td>Sonificación 2</td>\n",
       "      <td>Espectro 2</td>\n",
       "      <td>...</td>\n",
       "      <td>Ninguna</td>\n",
       "      <td>Bastante experiencia (amateur)</td>\n",
       "      <td>Jazz, rock, clásica, blues</td>\n",
       "      <td>41-50</td>\n",
       "      <td>No</td>\n",
       "      <td>España</td>\n",
       "      <td>Español</td>\n",
       "      <td>Sí, utilicé auriculares.</td>\n",
       "      <td>Circum-aurales;</td>\n",
       "      <td>La reverberación no se aprecia claramente cuan...</td>\n",
       "    </tr>\n",
       "    <tr>\n",
       "      <th>37</th>\n",
       "      <td>36</td>\n",
       "      <td>36.0</td>\n",
       "      <td>5/24/24 1:59:41</td>\n",
       "      <td>5/24/24 4:34:47</td>\n",
       "      <td>anonymous</td>\n",
       "      <td>Sonificación 2</td>\n",
       "      <td>A la izquierda</td>\n",
       "      <td>Sonificación 2</td>\n",
       "      <td>Sonificación 2</td>\n",
       "      <td>Espectro 2</td>\n",
       "      <td>...</td>\n",
       "      <td>Mucha experiencia (profesional)</td>\n",
       "      <td>Algo de experiencia (hobby/entusiasta)</td>\n",
       "      <td>Clásica, Rock, Electrónica, un poco de todo</td>\n",
       "      <td>41-50</td>\n",
       "      <td>No</td>\n",
       "      <td>España</td>\n",
       "      <td>español</td>\n",
       "      <td>Sí, utilicé auriculares.</td>\n",
       "      <td>Estéreo;</td>\n",
       "      <td>Un trabajo muy interesante. Enhorabuena</td>\n",
       "    </tr>\n",
       "    <tr>\n",
       "      <th>38</th>\n",
       "      <td>37</td>\n",
       "      <td>37.0</td>\n",
       "      <td>5/25/24 11:00:56</td>\n",
       "      <td>5/25/24 11:10:50</td>\n",
       "      <td>anonymous</td>\n",
       "      <td>Sonificación 1</td>\n",
       "      <td>A la izquierda</td>\n",
       "      <td>Sonificación 2</td>\n",
       "      <td>Sonificación 2</td>\n",
       "      <td>Espectro 2</td>\n",
       "      <td>...</td>\n",
       "      <td>Algo de experiencia (hobby/entusiasta)</td>\n",
       "      <td>Mucha experiencia (professional)</td>\n",
       "      <td>Todo tipo de música</td>\n",
       "      <td>41-50</td>\n",
       "      <td>No</td>\n",
       "      <td>España</td>\n",
       "      <td>Español</td>\n",
       "      <td>Sí, utilicé auriculares.</td>\n",
       "      <td>Estéreo;</td>\n",
       "      <td>x-x</td>\n",
       "    </tr>\n",
       "    <tr>\n",
       "      <th>39</th>\n",
       "      <td>38</td>\n",
       "      <td>38.0</td>\n",
       "      <td>5/26/24 21:53:07</td>\n",
       "      <td>5/26/24 22:10:15</td>\n",
       "      <td>anonymous</td>\n",
       "      <td>Sonificación 2</td>\n",
       "      <td>A la derecha</td>\n",
       "      <td>Sonificación 1</td>\n",
       "      <td>Sonificación 2</td>\n",
       "      <td>Espectro 1</td>\n",
       "      <td>...</td>\n",
       "      <td>Mucha experiencia (profesional)</td>\n",
       "      <td>Bastante experiencia (amateur)</td>\n",
       "      <td>Rock</td>\n",
       "      <td>41-50</td>\n",
       "      <td>No</td>\n",
       "      <td>España</td>\n",
       "      <td>Español</td>\n",
       "      <td>No, no lo hice.</td>\n",
       "      <td>No lo sé.;</td>\n",
       "      <td>x-x</td>\n",
       "    </tr>\n",
       "    <tr>\n",
       "      <th>40</th>\n",
       "      <td>39</td>\n",
       "      <td>39.0</td>\n",
       "      <td>6/14/24 12:39:07</td>\n",
       "      <td>6/14/24 19:32:03</td>\n",
       "      <td>anonymous</td>\n",
       "      <td>Sonificación 1</td>\n",
       "      <td>A la izquierda</td>\n",
       "      <td>Sonificación 2</td>\n",
       "      <td>Sonificación 3</td>\n",
       "      <td>Espectro 2</td>\n",
       "      <td>...</td>\n",
       "      <td>Mucha experiencia (profesional)</td>\n",
       "      <td>Muy básica</td>\n",
       "      <td>Rock</td>\n",
       "      <td>41-50</td>\n",
       "      <td>No</td>\n",
       "      <td>España</td>\n",
       "      <td>italiano</td>\n",
       "      <td>Sí, utilicé auriculares.</td>\n",
       "      <td>Estéreo;</td>\n",
       "      <td>x-x</td>\n",
       "    </tr>\n",
       "    <tr>\n",
       "      <th>42</th>\n",
       "      <td>41</td>\n",
       "      <td>1.0</td>\n",
       "      <td>4/25/24 9:19:19</td>\n",
       "      <td>4/25/24 9:23:16</td>\n",
       "      <td>anonymous</td>\n",
       "      <td>Sonificación 2</td>\n",
       "      <td>A la izquierda</td>\n",
       "      <td>Sonificación 2</td>\n",
       "      <td>Sonificación 2</td>\n",
       "      <td>Espectro 3</td>\n",
       "      <td>...</td>\n",
       "      <td>Mucha experiencia (profesional)</td>\n",
       "      <td>Muy básica</td>\n",
       "      <td>Toda</td>\n",
       "      <td>41-50</td>\n",
       "      <td>No</td>\n",
       "      <td>España</td>\n",
       "      <td>Español</td>\n",
       "      <td>No, no lo hice.</td>\n",
       "      <td>No lo sé.;</td>\n",
       "      <td>x-x</td>\n",
       "    </tr>\n",
       "    <tr>\n",
       "      <th>43</th>\n",
       "      <td>42</td>\n",
       "      <td>2.0</td>\n",
       "      <td>4/25/24 9:45:02</td>\n",
       "      <td>4/25/24 12:17:33</td>\n",
       "      <td>anonymous</td>\n",
       "      <td>Sonificación 2</td>\n",
       "      <td>A la izquierda</td>\n",
       "      <td>Sonificación 3</td>\n",
       "      <td>Sonificación 2</td>\n",
       "      <td>Espectro 2</td>\n",
       "      <td>...</td>\n",
       "      <td>Mucha experiencia (profesional)</td>\n",
       "      <td>Algo de experiencia (hobby/entusiasta)</td>\n",
       "      <td>Música clásica</td>\n",
       "      <td>41-50</td>\n",
       "      <td>No</td>\n",
       "      <td>Spain</td>\n",
       "      <td>Catalan</td>\n",
       "      <td>Sí, utilicé auriculares.</td>\n",
       "      <td>Estéreo;Circum-aurales;</td>\n",
       "      <td>x-x</td>\n",
       "    </tr>\n",
       "    <tr>\n",
       "      <th>45</th>\n",
       "      <td>44</td>\n",
       "      <td>4.0</td>\n",
       "      <td>4/26/24 23:27:16</td>\n",
       "      <td>4/27/24 0:15:56</td>\n",
       "      <td>anonymous</td>\n",
       "      <td>Sonificación 2</td>\n",
       "      <td>A la izquierda</td>\n",
       "      <td>Sonificación 1</td>\n",
       "      <td>Sonificación 4</td>\n",
       "      <td>Espectro 1</td>\n",
       "      <td>...</td>\n",
       "      <td>Mucha experiencia (profesional)</td>\n",
       "      <td>Ninguna</td>\n",
       "      <td>Rock</td>\n",
       "      <td>41-50</td>\n",
       "      <td>No</td>\n",
       "      <td>España</td>\n",
       "      <td>Español</td>\n",
       "      <td>No, no lo hice.</td>\n",
       "      <td>No lo sé.;</td>\n",
       "      <td>x-x</td>\n",
       "    </tr>\n",
       "    <tr>\n",
       "      <th>47</th>\n",
       "      <td>46</td>\n",
       "      <td>1.0</td>\n",
       "      <td>4/17/24 9:12:01</td>\n",
       "      <td>4/17/24 9:28:15</td>\n",
       "      <td>anonymous</td>\n",
       "      <td>Sonification 2</td>\n",
       "      <td>Left</td>\n",
       "      <td>Sonification 3</td>\n",
       "      <td>Sonification 3</td>\n",
       "      <td>Spectrum 2</td>\n",
       "      <td>...</td>\n",
       "      <td>No experienced</td>\n",
       "      <td>Very experienced (professional)</td>\n",
       "      <td>Early music</td>\n",
       "      <td>41-50</td>\n",
       "      <td>No</td>\n",
       "      <td>Spain</td>\n",
       "      <td>Spanish</td>\n",
       "      <td>Yes, I used headphones</td>\n",
       "      <td>x-x</td>\n",
       "      <td>x-x</td>\n",
       "    </tr>\n",
       "    <tr>\n",
       "      <th>50</th>\n",
       "      <td>49</td>\n",
       "      <td>4.0</td>\n",
       "      <td>5/2/24 17:18:28</td>\n",
       "      <td>5/2/24 17:35:06</td>\n",
       "      <td>anonymous</td>\n",
       "      <td>Sonification 1</td>\n",
       "      <td>Left</td>\n",
       "      <td>Sonification 2</td>\n",
       "      <td>Sonification 4</td>\n",
       "      <td>Spectrum 2</td>\n",
       "      <td>...</td>\n",
       "      <td>Very experienced (professional)</td>\n",
       "      <td>Experienced (amateur)</td>\n",
       "      <td>classical, indie</td>\n",
       "      <td>41-50</td>\n",
       "      <td>No</td>\n",
       "      <td>Canada</td>\n",
       "      <td>Swedish</td>\n",
       "      <td>Yes, I used headphones</td>\n",
       "      <td>Intra-aural;I don't know;</td>\n",
       "      <td>It was fairly easy in the beginning, but I had...</td>\n",
       "    </tr>\n",
       "    <tr>\n",
       "      <th>52</th>\n",
       "      <td>51</td>\n",
       "      <td>6.0</td>\n",
       "      <td>5/27/24 2:29:28</td>\n",
       "      <td>5/27/24 2:57:48</td>\n",
       "      <td>anonymous</td>\n",
       "      <td>Sonification 2</td>\n",
       "      <td>Left</td>\n",
       "      <td>Sonification 3</td>\n",
       "      <td>Sonification 2</td>\n",
       "      <td>Spectrum 1</td>\n",
       "      <td>...</td>\n",
       "      <td>No experienced</td>\n",
       "      <td>Not experienced</td>\n",
       "      <td>Jazz and Pops</td>\n",
       "      <td>41-50</td>\n",
       "      <td>No</td>\n",
       "      <td>Japan</td>\n",
       "      <td>Japanese</td>\n",
       "      <td>Yes, I used headphones</td>\n",
       "      <td>Stereo;</td>\n",
       "      <td>The age of the stellar was rather difficult fo...</td>\n",
       "    </tr>\n",
       "    <tr>\n",
       "      <th>53</th>\n",
       "      <td>52</td>\n",
       "      <td>7.0</td>\n",
       "      <td>6/1/24 10:16:23</td>\n",
       "      <td>6/1/24 10:29:00</td>\n",
       "      <td>anonymous</td>\n",
       "      <td>Sonification 1</td>\n",
       "      <td>Left</td>\n",
       "      <td>Sonification 2</td>\n",
       "      <td>Sonification 2</td>\n",
       "      <td>Spectrum 2</td>\n",
       "      <td>...</td>\n",
       "      <td>Very experienced (professional)</td>\n",
       "      <td>Experienced (amateur)</td>\n",
       "      <td>Classical but also rock</td>\n",
       "      <td>41-50</td>\n",
       "      <td>No</td>\n",
       "      <td>Germany</td>\n",
       "      <td>Spanish</td>\n",
       "      <td>Yes, I used headphones</td>\n",
       "      <td>Stereo;</td>\n",
       "      <td>x-x</td>\n",
       "    </tr>\n",
       "    <tr>\n",
       "      <th>59</th>\n",
       "      <td>58</td>\n",
       "      <td>13.0</td>\n",
       "      <td>7/2/24 16:31:37</td>\n",
       "      <td>7/2/24 16:55:08</td>\n",
       "      <td>anonymous</td>\n",
       "      <td>Sonification 1</td>\n",
       "      <td>Left</td>\n",
       "      <td>Sonification 2</td>\n",
       "      <td>Sonification 1</td>\n",
       "      <td>Spectrum 2</td>\n",
       "      <td>...</td>\n",
       "      <td>Very experienced (professional)</td>\n",
       "      <td>Not experienced</td>\n",
       "      <td>Pop</td>\n",
       "      <td>41-50</td>\n",
       "      <td>No</td>\n",
       "      <td>Spain</td>\n",
       "      <td>Persian</td>\n",
       "      <td>Yes, I used headphones</td>\n",
       "      <td>Stereo;</td>\n",
       "      <td>x-x</td>\n",
       "    </tr>\n",
       "    <tr>\n",
       "      <th>62</th>\n",
       "      <td>61</td>\n",
       "      <td>16.0</td>\n",
       "      <td>7/18/24 16:24:37</td>\n",
       "      <td>7/18/24 16:39:13</td>\n",
       "      <td>anonymous</td>\n",
       "      <td>Sonification 1</td>\n",
       "      <td>Left</td>\n",
       "      <td>Sonification 3</td>\n",
       "      <td>Sonification 2</td>\n",
       "      <td>Spectrum 3</td>\n",
       "      <td>...</td>\n",
       "      <td>Very experienced (professional)</td>\n",
       "      <td>Very experienced (professional)</td>\n",
       "      <td>Electronic Music, Jazz, Classical, Folk, Rock</td>\n",
       "      <td>41-50</td>\n",
       "      <td>No</td>\n",
       "      <td>Malta</td>\n",
       "      <td>English</td>\n",
       "      <td>Yes, I used headphones</td>\n",
       "      <td>Stereo;</td>\n",
       "      <td>x-x</td>\n",
       "    </tr>\n",
       "  </tbody>\n",
       "</table>\n",
       "<p>19 rows × 32 columns</p>\n",
       "</div>"
      ],
      "text/plain": [
       "    Unnamed: 0    ID        Start time   Completion time        REF  \\\n",
       "16          15  15.0  4/23/24 12:44:04  4/23/24 13:08:00  anonymous   \n",
       "18          17  17.0  4/24/24 20:09:26  4/24/24 20:17:02  anonymous   \n",
       "22          21  21.0  4/25/24 14:36:30  4/25/24 15:03:00  anonymous   \n",
       "27          26  26.0  4/26/24 19:53:36   4/27/24 0:52:27  anonymous   \n",
       "32          31  31.0   5/2/24 18:31:56   5/2/24 18:51:31  anonymous   \n",
       "34          33  33.0   5/5/24 23:19:51   5/5/24 23:38:24  anonymous   \n",
       "37          36  36.0   5/24/24 1:59:41   5/24/24 4:34:47  anonymous   \n",
       "38          37  37.0  5/25/24 11:00:56  5/25/24 11:10:50  anonymous   \n",
       "39          38  38.0  5/26/24 21:53:07  5/26/24 22:10:15  anonymous   \n",
       "40          39  39.0  6/14/24 12:39:07  6/14/24 19:32:03  anonymous   \n",
       "42          41   1.0   4/25/24 9:19:19   4/25/24 9:23:16  anonymous   \n",
       "43          42   2.0   4/25/24 9:45:02  4/25/24 12:17:33  anonymous   \n",
       "45          44   4.0  4/26/24 23:27:16   4/27/24 0:15:56  anonymous   \n",
       "47          46   1.0   4/17/24 9:12:01   4/17/24 9:28:15  anonymous   \n",
       "50          49   4.0   5/2/24 17:18:28   5/2/24 17:35:06  anonymous   \n",
       "52          51   6.0   5/27/24 2:29:28   5/27/24 2:57:48  anonymous   \n",
       "53          52   7.0   6/1/24 10:16:23   6/1/24 10:29:00  anonymous   \n",
       "59          58  13.0   7/2/24 16:31:37   7/2/24 16:55:08  anonymous   \n",
       "62          61  16.0  7/18/24 16:24:37  7/18/24 16:39:13  anonymous   \n",
       "\n",
       "                Q1              Q2              Q3              Q4  \\\n",
       "16  Sonificación 1  A la izquierda  Sonificación 2  Sonificación 2   \n",
       "18  Sonificación 2  A la izquierda  Sonificación 3  Sonificación 3   \n",
       "22  Sonificación 2  A la izquierda  Sonificación 2  Sonificación 2   \n",
       "27  Sonificación 2  A la izquierda  Sonificación 2  Sonificación 2   \n",
       "32  Sonificación 1  A la izquierda  Sonificación 3  Sonificación 2   \n",
       "34  Sonificación 2  A la izquierda  Sonificación 2  Sonificación 2   \n",
       "37  Sonificación 2  A la izquierda  Sonificación 2  Sonificación 2   \n",
       "38  Sonificación 1  A la izquierda  Sonificación 2  Sonificación 2   \n",
       "39  Sonificación 2    A la derecha  Sonificación 1  Sonificación 2   \n",
       "40  Sonificación 1  A la izquierda  Sonificación 2  Sonificación 3   \n",
       "42  Sonificación 2  A la izquierda  Sonificación 2  Sonificación 2   \n",
       "43  Sonificación 2  A la izquierda  Sonificación 3  Sonificación 2   \n",
       "45  Sonificación 2  A la izquierda  Sonificación 1  Sonificación 4   \n",
       "47  Sonification 2            Left  Sonification 3  Sonification 3   \n",
       "50  Sonification 1            Left  Sonification 2  Sonification 4   \n",
       "52  Sonification 2            Left  Sonification 3  Sonification 2   \n",
       "53  Sonification 1            Left  Sonification 2  Sonification 2   \n",
       "59  Sonification 1            Left  Sonification 2  Sonification 1   \n",
       "62  Sonification 1            Left  Sonification 3  Sonification 2   \n",
       "\n",
       "            Q5  ...                                     Q18  \\\n",
       "16  Espectro 1  ...         Mucha experiencia (profesional)   \n",
       "18  Espectro 1  ...                                 Ninguna   \n",
       "22  Espectro 2  ...         Mucha experiencia (profesional)   \n",
       "27  Espectro 2  ...                                 Ninguna   \n",
       "32  Espectro 2  ...         Mucha experiencia (profesional)   \n",
       "34  Espectro 2  ...                                 Ninguna   \n",
       "37  Espectro 2  ...         Mucha experiencia (profesional)   \n",
       "38  Espectro 2  ...  Algo de experiencia (hobby/entusiasta)   \n",
       "39  Espectro 1  ...         Mucha experiencia (profesional)   \n",
       "40  Espectro 2  ...         Mucha experiencia (profesional)   \n",
       "42  Espectro 3  ...         Mucha experiencia (profesional)   \n",
       "43  Espectro 2  ...         Mucha experiencia (profesional)   \n",
       "45  Espectro 1  ...         Mucha experiencia (profesional)   \n",
       "47  Spectrum 2  ...                          No experienced   \n",
       "50  Spectrum 2  ...         Very experienced (professional)   \n",
       "52  Spectrum 1  ...                          No experienced   \n",
       "53  Spectrum 2  ...         Very experienced (professional)   \n",
       "59  Spectrum 2  ...         Very experienced (professional)   \n",
       "62  Spectrum 3  ...         Very experienced (professional)   \n",
       "\n",
       "                                       Q19  \\\n",
       "16          Bastante experiencia (amateur)   \n",
       "18                              Muy básica   \n",
       "22  Algo de experiencia (hobby/entusiasta)   \n",
       "27                              Muy básica   \n",
       "32          Bastante experiencia (amateur)   \n",
       "34          Bastante experiencia (amateur)   \n",
       "37  Algo de experiencia (hobby/entusiasta)   \n",
       "38        Mucha experiencia (professional)   \n",
       "39          Bastante experiencia (amateur)   \n",
       "40                              Muy básica   \n",
       "42                              Muy básica   \n",
       "43  Algo de experiencia (hobby/entusiasta)   \n",
       "45                                 Ninguna   \n",
       "47         Very experienced (professional)   \n",
       "50                   Experienced (amateur)   \n",
       "52                         Not experienced   \n",
       "53                   Experienced (amateur)   \n",
       "59                         Not experienced   \n",
       "62         Very experienced (professional)   \n",
       "\n",
       "                                               Q20    Q21 Q22      Q23  \\\n",
       "16                      Clasica, Jazz, Cantautores  41-50  No   España   \n",
       "18                                       Todo tipo  41-50  No   España   \n",
       "22                                   jazz, clásica  41-50  No   españa   \n",
       "27                                            Jazz  41-50  No   España   \n",
       "32                                            Jazz  41-50  No   España   \n",
       "34                      Jazz, rock, clásica, blues  41-50  No   España   \n",
       "37     Clásica, Rock, Electrónica, un poco de todo  41-50  No   España   \n",
       "38                             Todo tipo de música  41-50  No   España   \n",
       "39                                            Rock  41-50  No   España   \n",
       "40                                            Rock  41-50  No   España   \n",
       "42                                            Toda  41-50  No   España   \n",
       "43                                  Música clásica  41-50  No    Spain   \n",
       "45                                            Rock  41-50  No   España   \n",
       "47                                    Early music   41-50  No    Spain   \n",
       "50                                classical, indie  41-50  No   Canada   \n",
       "52                                   Jazz and Pops  41-50  No    Japan   \n",
       "53                         Classical but also rock  41-50  No  Germany   \n",
       "59                                             Pop  41-50  No    Spain   \n",
       "62  Electronic Music, Jazz, Classical, Folk, Rock   41-50  No    Malta   \n",
       "\n",
       "           Q24                       Q25                        Q26  \\\n",
       "16    Italiano  Sí, utilicé auriculares.                   Estéreo;   \n",
       "18     Español  Sí, utilicé auriculares.    Estéreo;Circum-aurales;   \n",
       "22     español  Sí, utilicé auriculares.            Circum-aurales;   \n",
       "27  Mallorquín  Sí, utilicé auriculares.                   Estéreo;   \n",
       "32     Español  Sí, utilicé auriculares.                   Estéreo;   \n",
       "34     Español  Sí, utilicé auriculares.            Circum-aurales;   \n",
       "37     español  Sí, utilicé auriculares.                   Estéreo;   \n",
       "38     Español  Sí, utilicé auriculares.                   Estéreo;   \n",
       "39     Español           No, no lo hice.                 No lo sé.;   \n",
       "40    italiano  Sí, utilicé auriculares.                   Estéreo;   \n",
       "42     Español           No, no lo hice.                 No lo sé.;   \n",
       "43    Catalan   Sí, utilicé auriculares.    Estéreo;Circum-aurales;   \n",
       "45     Español           No, no lo hice.                 No lo sé.;   \n",
       "47     Spanish    Yes, I used headphones                        x-x   \n",
       "50     Swedish    Yes, I used headphones  Intra-aural;I don't know;   \n",
       "52    Japanese    Yes, I used headphones                    Stereo;   \n",
       "53     Spanish    Yes, I used headphones                    Stereo;   \n",
       "59     Persian    Yes, I used headphones                    Stereo;   \n",
       "62     English    Yes, I used headphones                    Stereo;   \n",
       "\n",
       "                                                  Q27  \n",
       "16                                                x-x  \n",
       "18                                                x-x  \n",
       "22                                                x-x  \n",
       "27                                                x-x  \n",
       "32  La diferencia entre zona con formación estelar...  \n",
       "34  La reverberación no se aprecia claramente cuan...  \n",
       "37            Un trabajo muy interesante. Enhorabuena  \n",
       "38                                                x-x  \n",
       "39                                                x-x  \n",
       "40                                                x-x  \n",
       "42                                                x-x  \n",
       "43                                                x-x  \n",
       "45                                                x-x  \n",
       "47                                                x-x  \n",
       "50  It was fairly easy in the beginning, but I had...  \n",
       "52  The age of the stellar was rather difficult fo...  \n",
       "53                                                x-x  \n",
       "59                                                x-x  \n",
       "62                                                x-x  \n",
       "\n",
       "[19 rows x 32 columns]"
      ]
     },
     "execution_count": 54,
     "metadata": {},
     "output_type": "execute_result"
    }
   ],
   "source": [
    "G41_50_list = []\n",
    "G41_50_index = []\n",
    "G41_50_counter = 0\n",
    "for i in range(len(data)):\n",
    "    if (\"41-50\" in data.Q21[i]):\n",
    "        G41_50_counter += 1\n",
    "        current_row = data.iloc[i]\n",
    "        G41_50_list.append(current_row)\n",
    "        G41_50_index.append(i)\n",
    "        \n",
    "print(\"Number of participants in G41_50:\", G41_50_counter)\n",
    "G41_50_df = pd.DataFrame(G41_50_list)\n",
    "G41_50_df"
   ]
  },
  {
   "cell_type": "code",
   "execution_count": 55,
   "id": "61fb275d",
   "metadata": {},
   "outputs": [
    {
     "data": {
      "text/plain": [
       "array([ 8, 18,  8, 10, 12, 12, 11, 14, 10,  4,  9, 11])"
      ]
     },
     "execution_count": 55,
     "metadata": {},
     "output_type": "execute_result"
    }
   ],
   "source": [
    "Q1_41_50 = len([i for i in range(len(G41_50_df)) if ((G41_50_df.Q1[G41_50_index[i]] == data.Q1[0]) or (G41_50_df.Q1[G41_50_index[i]] == data.Q1[1]))])\n",
    "Q2_41_50 = len([i for i in range(len(G41_50_df)) if ((G41_50_df.Q2[G41_50_index[i]] == data.Q2[0]) or (G41_50_df.Q2[G41_50_index[i]] == data.Q2[1]))])\n",
    "Q3_41_50 = len([i for i in range(len(G41_50_df)) if ((G41_50_df.Q3[G41_50_index[i]] == data.Q3[0]) or (G41_50_df.Q3[G41_50_index[i]] == data.Q3[1]))])\n",
    "Q4_41_50 = len([i for i in range(len(G41_50_df)) if ((G41_50_df.Q4[G41_50_index[i]] == data.Q4[0]) or (G41_50_df.Q4[G41_50_index[i]] == data.Q4[1]))])\n",
    "Q5_41_50 = len([i for i in range(len(G41_50_df)) if ((G41_50_df.Q5[G41_50_index[i]] == data.Q5[0]) or (G41_50_df.Q5[G41_50_index[i]] == data.Q5[1]))])\n",
    "Q6_41_50 = len([i for i in range(len(G41_50_df)) if ((G41_50_df.Q6[G41_50_index[i]] == data.Q6[0]) or (G41_50_df.Q6[G41_50_index[i]] == data.Q6[1]))])\n",
    "Q7_41_50 = len([i for i in range(len(G41_50_df)) if ((G41_50_df.Q7[G41_50_index[i]] == data.Q7[0]) or (G41_50_df.Q7[G41_50_index[i]] == data.Q7[1]))])\n",
    "Q8_41_50 = len([i for i in range(len(G41_50_df)) if ((G41_50_df.Q8[G41_50_index[i]] == data.Q8[0]) or (G41_50_df.Q8[G41_50_index[i]] == data.Q8[1]))])\n",
    "Q9_41_50 = len([i for i in range(len(G41_50_df)) if ((G41_50_df.Q9[G41_50_index[i]] == data.Q9[0]) or (G41_50_df.Q9[G41_50_index[i]] == data.Q9[1]))])\n",
    "Q10_41_50 = len([i for i in range(len(G41_50_df)) if ((G41_50_df.Q10[G41_50_index[i]] == data.Q10[0]) or (G41_50_df.Q10[G41_50_index[i]] == data.Q10[1]))])\n",
    "Q11_41_50 = len([i for i in range(len(G41_50_df)) if ((G41_50_df.Q11[G41_50_index[i]] == data.Q11[0]) or (G41_50_df.Q11[G41_50_index[i]] == data.Q11[1]))])\n",
    "Q12_41_50 = len([i for i in range(len(G41_50_df)) if ((G41_50_df.Q12[G41_50_index[i]] == data.Q12[0]) or (G41_50_df.Q12[G41_50_index[i]] == data.Q12[1]))])\n",
    "\n",
    "G41_50_correct = [Q1_41_50,Q2_41_50,Q3_41_50,Q4_41_50,Q5_41_50,Q6_41_50,Q7_41_50,Q8_41_50,Q9_41_50,Q10_41_50,Q11_41_50,Q12_41_50]\n",
    "G41_50_correct = np.array(G41_50_correct, int)\n",
    "G41_50_correct #12 Single response correct results"
   ]
  },
  {
   "cell_type": "code",
   "execution_count": 56,
   "id": "8a699b59",
   "metadata": {},
   "outputs": [
    {
     "name": "stdout",
     "output_type": "stream",
     "text": [
      "Total responses:  19\n",
      "G_41_50 success mean: 0.5570175438596492\n",
      "Jeffreys confidence interval:  [0.52394214 0.58959411]\n"
     ]
    }
   ],
   "source": [
    "G41_50_total_responses = len(G41_50_df)\n",
    "mean_G41_50_correct = np.mean(G41_50_correct)\n",
    "print(\"Total responses: \", G41_50_total_responses)\n",
    "print(\"G_41_50 success mean:\", mean_G41_50_correct/G41_50_total_responses)\n",
    "\n",
    "success_G41_50_correct = np.sum(G41_50_correct)\n",
    "attempts_G41_50_correct = 12* G41_50_total_responses\n",
    "conf_G41_50_correct = astropy.stats.binom_conf_interval(success_G41_50_correct, attempts_G41_50_correct, confidence_level=0.68269, interval='jeffreys')\n",
    "print(\"Jeffreys confidence interval: \", conf_G41_50_correct) # Correct answers interval"
   ]
  },
  {
   "cell_type": "code",
   "execution_count": 57,
   "id": "c57db646",
   "metadata": {},
   "outputs": [
    {
     "data": {
      "text/plain": [
       "count    12.000000\n",
       "mean      0.557018\n",
       "std       0.181571\n",
       "min       0.210526\n",
       "25%       0.460526\n",
       "50%       0.552632\n",
       "75%       0.631579\n",
       "max       0.947368\n",
       "dtype: float64"
      ]
     },
     "execution_count": 57,
     "metadata": {},
     "output_type": "execute_result"
    }
   ],
   "source": [
    "G41_50 = pd.Series(G41_50_correct/G41_50_total_responses)\n",
    "G41_50.describe()"
   ]
  },
  {
   "cell_type": "code",
   "execution_count": 58,
   "id": "e9581a63",
   "metadata": {},
   "outputs": [
    {
     "data": {
      "text/plain": [
       "array([5, 4])"
      ]
     },
     "execution_count": 58,
     "metadata": {},
     "output_type": "execute_result"
    }
   ],
   "source": [
    "Q13_41_50 = len([i for i in range(len(G41_50_df)) if ((check_1 in G41_50_df.Q13[G41_50_index[i]]) and (check_2 in G41_50_df.Q13[G41_50_index[i]]) and (check_3 in G41_50_df.Q13[G41_50_index[i]])) or ((check_4 in G41_50_df.Q13[G41_50_index[i]]) and (check_5 in G41_50_df.Q13[G41_50_index[i]]) and (check_6 in G41_50_df.Q13[G41_50_index[i]]))])\n",
    "Q14_41_50 = len([i for i in range(len(G41_50_df)) if ((check_7 in G41_50_df.Q14[G41_50_index[i]]) and (check_8 in G41_50_df.Q14[G41_50_index[i]]) and (check_9 in G41_50_df.Q14[G41_50_index[i]])) or ((check_10 in G41_50_df.Q14[G41_50_index[i]]) and (check_11 in G41_50_df.Q14[G41_50_index[i]]) and (check_12 in G41_50_df.Q14[G41_50_index[i]]))])\n",
    "\n",
    "G41_50_combined_correct = [Q13_41_50,Q14_41_50]\n",
    "G41_50_combined_correct = np.array(G41_50_combined_correct, int)\n",
    "\n",
    "G41_50_combined_correct"
   ]
  },
  {
   "cell_type": "code",
   "execution_count": 59,
   "id": "d6b45587",
   "metadata": {},
   "outputs": [
    {
     "name": "stdout",
     "output_type": "stream",
     "text": [
      "G_41_50 success mean (Combined questions): 0.23684210526315788\n",
      "Jeffreys confidence interval:  [0.17536025 0.31196435]\n"
     ]
    }
   ],
   "source": [
    "mean_G41_50_combined_correct = np.mean(G41_50_combined_correct)\n",
    "print(\"G_41_50 success mean (Combined questions):\", mean_G41_50_combined_correct/G41_50_total_responses)\n",
    "success_G41_50_combined_correct = np.sum(G41_50_combined_correct)\n",
    "attempts_G41_50_combined_correct = 2* G41_50_total_responses\n",
    "conf_G41_50_combined_correct = astropy.stats.binom_conf_interval(success_G41_50_combined_correct, attempts_G41_50_combined_correct, confidence_level=0.68269, interval='jeffreys')\n",
    "print(\"Jeffreys confidence interval: \", conf_G41_50_combined_correct) # Correct answers interval"
   ]
  },
  {
   "cell_type": "code",
   "execution_count": 60,
   "id": "d0fcd4e7",
   "metadata": {},
   "outputs": [
    {
     "data": {
      "text/plain": [
       "count    2.000000\n",
       "mean     0.236842\n",
       "std      0.037216\n",
       "min      0.210526\n",
       "25%      0.223684\n",
       "50%      0.236842\n",
       "75%      0.250000\n",
       "max      0.263158\n",
       "dtype: float64"
      ]
     },
     "execution_count": 60,
     "metadata": {},
     "output_type": "execute_result"
    }
   ],
   "source": [
    "G41_50_combined = pd.Series(G41_50_combined_correct/G41_50_total_responses)\n",
    "G41_50_combined.describe()"
   ]
  },
  {
   "cell_type": "markdown",
   "id": "8e407070",
   "metadata": {},
   "source": [
    "### Qualitative"
   ]
  },
  {
   "cell_type": "code",
   "execution_count": 61,
   "id": "d6bbc864",
   "metadata": {},
   "outputs": [
    {
     "name": "stdout",
     "output_type": "stream",
     "text": [
      "Interactivity 'good' or 'very good': 12\n",
      "(%) 80.0\n",
      "Interactivity 'acceptable': 2\n",
      "(%) 13.333333333333334\n",
      "Interactivity 'bad' or 'very bad': 1\n",
      "(%) 6.666666666666667\n",
      "Participants that couldn't test the application in person: 4\n",
      "(%) 21.052631578947366\n"
     ]
    }
   ],
   "source": [
    "# Interactivity\n",
    "Q15_41_50_good = len([i for i in range(len(G41_50_df)) if ((\"Buena\" in G41_50_df.Q15[G41_50_index[i]]) or (\"Muy buena\" in G41_50_df.Q15[G41_50_index[i]]) or (\"Good\" in G41_50_df.Q15[G41_50_index[i]]) or (\"Very good\" in G41_50_df.Q15[G41_50_index[i]]))])\n",
    "Q15_41_50_acc = len([i for i in range(len(G41_50_df)) if ((\"Aceptable\" in G41_50_df.Q15[G41_50_index[i]]) or (\"Acceptable\" in G41_50_df.Q15[G41_50_index[i]]))])\n",
    "Q15_41_50_bad = len([i for i in range(len(G41_50_df)) if ((\"Mala\" in G41_50_df.Q15[G41_50_index[i]]) or (\"Muy mala\" in G41_50_df.Q15[G41_50_index[i]]) or (\"Bad\" in G41_50_df.Q15[G41_50_index[i]]) or (\"Very bad\" in G41_50_df.Q15[G41_50_index[i]]))])\n",
    "Q15_41_50_xxx = len([i for i in range(len(G41_50_df)) if ((\"XXX\" in G41_50_df.Q15[G41_50_index[i]]))])\n",
    "print(\"Interactivity 'good' or 'very good':\", Q15_41_50_good) #Lack of this question in the first version of the survey (1 participant)\n",
    "print(\"(%)\", percentage_sub(Q15_41_50_good, G41_50_counter - Q15_41_50_xxx))\n",
    "print(\"Interactivity 'acceptable':\", Q15_41_50_acc)\n",
    "print(\"(%)\", percentage_sub(Q15_41_50_acc, G41_50_counter - Q15_41_50_xxx))\n",
    "print(\"Interactivity 'bad' or 'very bad':\", Q15_41_50_bad)\n",
    "print(\"(%)\", percentage_sub(Q15_41_50_bad, G41_50_counter - Q15_41_50_xxx))\n",
    "print(\"Participants that couldn't test the application in person:\", Q15_41_50_xxx)\n",
    "print(\"(%)\", percentage_sub(Q15_41_50_xxx, G41_50_counter))"
   ]
  },
  {
   "cell_type": "code",
   "execution_count": 62,
   "id": "ea4fb3b8",
   "metadata": {},
   "outputs": [
    {
     "name": "stdout",
     "output_type": "stream",
     "text": [
      "Participants finding it 'useful' or 'very useful': 15\n",
      "(%) 78.94736842105263\n",
      "Participants finding it 'Doubtedly useful' or 'useless': 4\n",
      "(%) 21.052631578947366\n"
     ]
    }
   ],
   "source": [
    "# Usefulness\n",
    "Q16_41_50_good = len([i for i in range(len(G41_50_df)) if ((\"Útil\" in G41_50_df.Q16[G41_50_index[i]]) or (\"Muy útil\" in G41_50_df.Q16[G41_50_index[i]]) or (\"Useful\" in G41_50_df.Q16[G41_50_index[i]]) or (\"Very useful\" in G41_50_df.Q16[G41_50_index[i]]))])\n",
    "Q16_41_50_bad = len([i for i in range(len(G41_50_df)) if ((\"dudosa\" in G41_50_df.Q16[G41_50_index[i]]) or (\"Doubtedly\" in G41_50_df.Q16[G41_50_index[i]]) or (\"Doubtely\" in G41_50_df.Q16[G41_50_index[i]]) or (\"Inútil\" in G41_50_df.Q16[G41_50_index[i]]) or (\"Useless\" in G41_50_df.Q16[G41_50_index[i]]))])\n",
    "print(\"Participants finding it 'useful' or 'very useful':\", Q16_41_50_good)\n",
    "print(\"(%)\", percentage_sub(Q16_41_50_good, G41_50_counter))\n",
    "print(\"Participants finding it 'Doubtedly useful' or 'useless':\", Q16_41_50_bad)\n",
    "print(\"(%)\", percentage_sub(Q16_41_50_bad, G41_50_counter))"
   ]
  },
  {
   "cell_type": "code",
   "execution_count": 63,
   "id": "5f1230a2",
   "metadata": {},
   "outputs": [
    {
     "name": "stdout",
     "output_type": "stream",
     "text": [
      "Sound Quality 'good' or 'very good': 9\n",
      "(%) 47.368421052631575\n",
      "Sound Quality 'acceptable': 7\n",
      "(%) 10.76923076923077\n",
      "Sound Quality 'bad' or 'very bad': 3\n",
      "(%) 15.789473684210526\n"
     ]
    }
   ],
   "source": [
    "# Quality of sound\n",
    "Q17_41_50_good = len([i for i in range(len(G41_50_df)) if ((\"Buen\" in G41_50_df.Q17[G41_50_index[i]]) or (\"Muy buen\" in G41_50_df.Q17[G41_50_index[i]]) or (\"Good\" in G41_50_df.Q17[G41_50_index[i]]) or (\"Nice\" in G41_50_df.Q17[G41_50_index[i]]))])\n",
    "Q17_41_50_acc = len([i for i in range(len(G41_50_df)) if ((\"Aceptable\" in G41_50_df.Q17[G41_50_index[i]]) or (\"Acceptable\" in G41_50_df.Q17[G41_50_index[i]]))])\n",
    "Q17_41_50_bad = len([i for i in range(len(G41_50_df)) if ((\"Mal\" in G41_50_df.Q17[G41_50_index[i]]) or (\"Insoportable\" in G41_50_df.Q17[G41_50_index[i]]) or (\"Bad\" in G41_50_df.Q17[G41_50_index[i]]) or (\"Intolerable\" in G41_50_df.Q17[G41_50_index[i]]))])\n",
    "print(\"Sound Quality 'good' or 'very good':\", Q17_41_50_good)\n",
    "print(\"(%)\", percentage_sub(Q17_41_50_good, G41_50_counter))\n",
    "print(\"Sound Quality 'acceptable':\", Q17_41_50_acc)\n",
    "print(\"(%)\", percentage(Q17_41_50_acc))\n",
    "print(\"Sound Quality 'bad' or 'very bad':\", Q17_41_50_bad)\n",
    "print(\"(%)\", percentage_sub(Q17_41_50_bad, G41_50_counter))"
   ]
  },
  {
   "cell_type": "code",
   "execution_count": 64,
   "id": "6d8d11bd",
   "metadata": {},
   "outputs": [],
   "source": [
    "participants_list.append(G41_50_counter)\n",
    "success_list.append(G41_50.describe()[\"mean\"])\n",
    "Jeff_low_list.append(conf_G41_50_correct[0])\n",
    "Jeff_high_list.append(conf_G41_50_correct[1])\n",
    "std_list.append(G41_50.describe()[\"std\"])\n",
    "comb_success_list.append(G41_50_combined.describe()[\"mean\"])\n",
    "comb_Jeff_low_list.append(conf_G41_50_combined_correct[0])\n",
    "comb_Jeff_high_list.append(conf_G41_50_combined_correct[1])\n",
    "comb_std_list.append(G41_50_combined.describe()[\"std\"])\n",
    "interactivity_list.append(percentage_sub(Q15_41_50_good, G41_50_counter - Q15_41_50_xxx))\n",
    "useful_list.append(percentage_sub(Q16_41_50_good, G41_50_counter))\n",
    "sound_list.append(percentage_sub(Q17_41_50_good, G41_50_counter))"
   ]
  },
  {
   "cell_type": "markdown",
   "id": "dd660e66",
   "metadata": {},
   "source": [
    "## G51_60"
   ]
  },
  {
   "cell_type": "code",
   "execution_count": 65,
   "id": "eb7cf78c",
   "metadata": {},
   "outputs": [
    {
     "name": "stdout",
     "output_type": "stream",
     "text": [
      "Number of participants in G51_60: 6\n"
     ]
    },
    {
     "data": {
      "text/html": [
       "<div>\n",
       "<style scoped>\n",
       "    .dataframe tbody tr th:only-of-type {\n",
       "        vertical-align: middle;\n",
       "    }\n",
       "\n",
       "    .dataframe tbody tr th {\n",
       "        vertical-align: top;\n",
       "    }\n",
       "\n",
       "    .dataframe thead th {\n",
       "        text-align: right;\n",
       "    }\n",
       "</style>\n",
       "<table border=\"1\" class=\"dataframe\">\n",
       "  <thead>\n",
       "    <tr style=\"text-align: right;\">\n",
       "      <th></th>\n",
       "      <th>Unnamed: 0</th>\n",
       "      <th>ID</th>\n",
       "      <th>Start time</th>\n",
       "      <th>Completion time</th>\n",
       "      <th>REF</th>\n",
       "      <th>Q1</th>\n",
       "      <th>Q2</th>\n",
       "      <th>Q3</th>\n",
       "      <th>Q4</th>\n",
       "      <th>Q5</th>\n",
       "      <th>...</th>\n",
       "      <th>Q18</th>\n",
       "      <th>Q19</th>\n",
       "      <th>Q20</th>\n",
       "      <th>Q21</th>\n",
       "      <th>Q22</th>\n",
       "      <th>Q23</th>\n",
       "      <th>Q24</th>\n",
       "      <th>Q25</th>\n",
       "      <th>Q26</th>\n",
       "      <th>Q27</th>\n",
       "    </tr>\n",
       "  </thead>\n",
       "  <tbody>\n",
       "    <tr>\n",
       "      <th>5</th>\n",
       "      <td>4</td>\n",
       "      <td>4.0</td>\n",
       "      <td>4/18/24 16:09:19</td>\n",
       "      <td>4/18/24 17:34:52</td>\n",
       "      <td>anonymous</td>\n",
       "      <td>Sonificación 2</td>\n",
       "      <td>A la izquierda</td>\n",
       "      <td>Sonificación 3</td>\n",
       "      <td>Sonificación 3</td>\n",
       "      <td>Espectro 1</td>\n",
       "      <td>...</td>\n",
       "      <td>Mucha experiencia (profesional)</td>\n",
       "      <td>Muy básica</td>\n",
       "      <td>clásica</td>\n",
       "      <td>51-60</td>\n",
       "      <td>No</td>\n",
       "      <td>España</td>\n",
       "      <td>Castellano</td>\n",
       "      <td>Sí, utilicé auriculares.</td>\n",
       "      <td>Audio 3D / Gaming;</td>\n",
       "      <td>x-x</td>\n",
       "    </tr>\n",
       "    <tr>\n",
       "      <th>9</th>\n",
       "      <td>8</td>\n",
       "      <td>8.0</td>\n",
       "      <td>4/18/24 21:31:33</td>\n",
       "      <td>4/18/24 21:43:57</td>\n",
       "      <td>anonymous</td>\n",
       "      <td>Sonificación 2</td>\n",
       "      <td>A la izquierda</td>\n",
       "      <td>Sonificación 4</td>\n",
       "      <td>Sonificación 1</td>\n",
       "      <td>Espectro 1</td>\n",
       "      <td>...</td>\n",
       "      <td>Algo de experiencia (hobby/entusiasta)</td>\n",
       "      <td>Ninguna</td>\n",
       "      <td>Clásica</td>\n",
       "      <td>51-60</td>\n",
       "      <td>No</td>\n",
       "      <td>España</td>\n",
       "      <td>Español</td>\n",
       "      <td>No, no lo hice.</td>\n",
       "      <td>No lo sé.;</td>\n",
       "      <td>x-x</td>\n",
       "    </tr>\n",
       "    <tr>\n",
       "      <th>10</th>\n",
       "      <td>9</td>\n",
       "      <td>9.0</td>\n",
       "      <td>4/18/24 23:02:44</td>\n",
       "      <td>4/18/24 23:17:20</td>\n",
       "      <td>anonymous</td>\n",
       "      <td>Sonificación 1</td>\n",
       "      <td>A la derecha</td>\n",
       "      <td>Sonificación 3</td>\n",
       "      <td>Sonificación 4</td>\n",
       "      <td>Espectro 2</td>\n",
       "      <td>...</td>\n",
       "      <td>Ninguna</td>\n",
       "      <td>Ninguna</td>\n",
       "      <td>Pop</td>\n",
       "      <td>51-60</td>\n",
       "      <td>No</td>\n",
       "      <td>España</td>\n",
       "      <td>Español</td>\n",
       "      <td>Sí, utilicé auriculares.</td>\n",
       "      <td>Circum-aurales;</td>\n",
       "      <td>x-x</td>\n",
       "    </tr>\n",
       "    <tr>\n",
       "      <th>24</th>\n",
       "      <td>23</td>\n",
       "      <td>23.0</td>\n",
       "      <td>4/26/24 12:04:50</td>\n",
       "      <td>4/26/24 12:17:55</td>\n",
       "      <td>anonymous</td>\n",
       "      <td>Sonificación 1</td>\n",
       "      <td>A la derecha</td>\n",
       "      <td>Sonificación 1</td>\n",
       "      <td>Sonificación 3</td>\n",
       "      <td>Espectro 2</td>\n",
       "      <td>...</td>\n",
       "      <td>Ninguna</td>\n",
       "      <td>Ninguna</td>\n",
       "      <td>Clasica</td>\n",
       "      <td>51-60</td>\n",
       "      <td>No</td>\n",
       "      <td>España</td>\n",
       "      <td>Castellano</td>\n",
       "      <td>Sí, utilicé auriculares.</td>\n",
       "      <td>Estéreo;</td>\n",
       "      <td>x-x</td>\n",
       "    </tr>\n",
       "    <tr>\n",
       "      <th>35</th>\n",
       "      <td>34</td>\n",
       "      <td>34.0</td>\n",
       "      <td>5/6/24 11:21:54</td>\n",
       "      <td>5/6/24 11:42:11</td>\n",
       "      <td>anonymous</td>\n",
       "      <td>Sonificación 2</td>\n",
       "      <td>A la derecha</td>\n",
       "      <td>Sonificación 2</td>\n",
       "      <td>Sonificación 2</td>\n",
       "      <td>Espectro 2</td>\n",
       "      <td>...</td>\n",
       "      <td>Mucha experiencia (profesional)</td>\n",
       "      <td>Bastante experiencia (amateur)</td>\n",
       "      <td>Clásica y pop</td>\n",
       "      <td>51-60</td>\n",
       "      <td>No</td>\n",
       "      <td>España</td>\n",
       "      <td>Español</td>\n",
       "      <td>Sí, utilicé auriculares.</td>\n",
       "      <td>Estéreo;</td>\n",
       "      <td>Salvo la posición de los sonidos, las demás ca...</td>\n",
       "    </tr>\n",
       "    <tr>\n",
       "      <th>36</th>\n",
       "      <td>35</td>\n",
       "      <td>35.0</td>\n",
       "      <td>5/8/24 22:32:24</td>\n",
       "      <td>5/8/24 22:47:20</td>\n",
       "      <td>anonymous</td>\n",
       "      <td>Sonificación 2</td>\n",
       "      <td>A la izquierda</td>\n",
       "      <td>Sonificación 3</td>\n",
       "      <td>Sonificación 2</td>\n",
       "      <td>Espectro 1</td>\n",
       "      <td>...</td>\n",
       "      <td>Ninguna</td>\n",
       "      <td>Bastante experiencia (amateur)</td>\n",
       "      <td>The todo</td>\n",
       "      <td>51-60</td>\n",
       "      <td>No</td>\n",
       "      <td>España</td>\n",
       "      <td>Castellano</td>\n",
       "      <td>Sí, utilicé auriculares.</td>\n",
       "      <td>Estéreo;</td>\n",
       "      <td>x-x</td>\n",
       "    </tr>\n",
       "  </tbody>\n",
       "</table>\n",
       "<p>6 rows × 32 columns</p>\n",
       "</div>"
      ],
      "text/plain": [
       "    Unnamed: 0    ID        Start time   Completion time        REF  \\\n",
       "5            4   4.0  4/18/24 16:09:19  4/18/24 17:34:52  anonymous   \n",
       "9            8   8.0  4/18/24 21:31:33  4/18/24 21:43:57  anonymous   \n",
       "10           9   9.0  4/18/24 23:02:44  4/18/24 23:17:20  anonymous   \n",
       "24          23  23.0  4/26/24 12:04:50  4/26/24 12:17:55  anonymous   \n",
       "35          34  34.0   5/6/24 11:21:54   5/6/24 11:42:11  anonymous   \n",
       "36          35  35.0   5/8/24 22:32:24   5/8/24 22:47:20  anonymous   \n",
       "\n",
       "                Q1              Q2              Q3              Q4  \\\n",
       "5   Sonificación 2  A la izquierda  Sonificación 3  Sonificación 3   \n",
       "9   Sonificación 2  A la izquierda  Sonificación 4  Sonificación 1   \n",
       "10  Sonificación 1    A la derecha  Sonificación 3  Sonificación 4   \n",
       "24  Sonificación 1    A la derecha  Sonificación 1  Sonificación 3   \n",
       "35  Sonificación 2    A la derecha  Sonificación 2  Sonificación 2   \n",
       "36  Sonificación 2  A la izquierda  Sonificación 3  Sonificación 2   \n",
       "\n",
       "            Q5  ...                                     Q18  \\\n",
       "5   Espectro 1  ...         Mucha experiencia (profesional)   \n",
       "9   Espectro 1  ...  Algo de experiencia (hobby/entusiasta)   \n",
       "10  Espectro 2  ...                                 Ninguna   \n",
       "24  Espectro 2  ...                                 Ninguna   \n",
       "35  Espectro 2  ...         Mucha experiencia (profesional)   \n",
       "36  Espectro 1  ...                                 Ninguna   \n",
       "\n",
       "                               Q19            Q20    Q21 Q22      Q23  \\\n",
       "5                       Muy básica        clásica  51-60  No   España   \n",
       "9                          Ninguna       Clásica   51-60  No   España   \n",
       "10                         Ninguna            Pop  51-60  No  España    \n",
       "24                         Ninguna        Clasica  51-60  No  España    \n",
       "35  Bastante experiencia (amateur)  Clásica y pop  51-60  No   España   \n",
       "36  Bastante experiencia (amateur)       The todo  51-60  No   España   \n",
       "\n",
       "            Q24                       Q25                 Q26  \\\n",
       "5    Castellano  Sí, utilicé auriculares.  Audio 3D / Gaming;   \n",
       "9      Español            No, no lo hice.          No lo sé.;   \n",
       "10     Español   Sí, utilicé auriculares.     Circum-aurales;   \n",
       "24  Castellano   Sí, utilicé auriculares.            Estéreo;   \n",
       "35      Español  Sí, utilicé auriculares.            Estéreo;   \n",
       "36  Castellano   Sí, utilicé auriculares.            Estéreo;   \n",
       "\n",
       "                                                  Q27  \n",
       "5                                                 x-x  \n",
       "9                                                 x-x  \n",
       "10                                                x-x  \n",
       "24                                                x-x  \n",
       "35  Salvo la posición de los sonidos, las demás ca...  \n",
       "36                                                x-x  \n",
       "\n",
       "[6 rows x 32 columns]"
      ]
     },
     "execution_count": 65,
     "metadata": {},
     "output_type": "execute_result"
    }
   ],
   "source": [
    "G51_60_list = []\n",
    "G51_60_index = []\n",
    "G51_60_counter = 0\n",
    "for i in range(len(data)):\n",
    "    if (\"51-60\" in data.Q21[i]):\n",
    "        G51_60_counter += 1\n",
    "        current_row = data.iloc[i]\n",
    "        G51_60_list.append(current_row)\n",
    "        G51_60_index.append(i)\n",
    "        \n",
    "print(\"Number of participants in G51_60:\", G51_60_counter)\n",
    "G51_60_df = pd.DataFrame(G51_60_list)\n",
    "G51_60_df"
   ]
  },
  {
   "cell_type": "code",
   "execution_count": 66,
   "id": "bada4855",
   "metadata": {},
   "outputs": [
    {
     "data": {
      "text/plain": [
       "array([2, 3, 1, 2, 3, 4, 1, 3, 5, 1, 3, 4])"
      ]
     },
     "execution_count": 66,
     "metadata": {},
     "output_type": "execute_result"
    }
   ],
   "source": [
    "Q1_51_60 = len([i for i in range(len(G51_60_df)) if ((G51_60_df.Q1[G51_60_index[i]] == data.Q1[0]) or (G51_60_df.Q1[G51_60_index[i]] == data.Q1[1]))])\n",
    "Q2_51_60 = len([i for i in range(len(G51_60_df)) if ((G51_60_df.Q2[G51_60_index[i]] == data.Q2[0]) or (G51_60_df.Q2[G51_60_index[i]] == data.Q2[1]))])\n",
    "Q3_51_60 = len([i for i in range(len(G51_60_df)) if ((G51_60_df.Q3[G51_60_index[i]] == data.Q3[0]) or (G51_60_df.Q3[G51_60_index[i]] == data.Q3[1]))])\n",
    "Q4_51_60 = len([i for i in range(len(G51_60_df)) if ((G51_60_df.Q4[G51_60_index[i]] == data.Q4[0]) or (G51_60_df.Q4[G51_60_index[i]] == data.Q4[1]))])\n",
    "Q5_51_60 = len([i for i in range(len(G51_60_df)) if ((G51_60_df.Q5[G51_60_index[i]] == data.Q5[0]) or (G51_60_df.Q5[G51_60_index[i]] == data.Q5[1]))])\n",
    "Q6_51_60 = len([i for i in range(len(G51_60_df)) if ((G51_60_df.Q6[G51_60_index[i]] == data.Q6[0]) or (G51_60_df.Q6[G51_60_index[i]] == data.Q6[1]))])\n",
    "Q7_51_60 = len([i for i in range(len(G51_60_df)) if ((G51_60_df.Q7[G51_60_index[i]] == data.Q7[0]) or (G51_60_df.Q7[G51_60_index[i]] == data.Q7[1]))])\n",
    "Q8_51_60 = len([i for i in range(len(G51_60_df)) if ((G51_60_df.Q8[G51_60_index[i]] == data.Q8[0]) or (G51_60_df.Q8[G51_60_index[i]] == data.Q8[1]))])\n",
    "Q9_51_60 = len([i for i in range(len(G51_60_df)) if ((G51_60_df.Q9[G51_60_index[i]] == data.Q9[0]) or (G51_60_df.Q9[G51_60_index[i]] == data.Q9[1]))])\n",
    "Q10_51_60 = len([i for i in range(len(G51_60_df)) if ((G51_60_df.Q10[G51_60_index[i]] == data.Q10[0]) or (G51_60_df.Q10[G51_60_index[i]] == data.Q10[1]))])\n",
    "Q11_51_60 = len([i for i in range(len(G51_60_df)) if ((G51_60_df.Q11[G51_60_index[i]] == data.Q11[0]) or (G51_60_df.Q11[G51_60_index[i]] == data.Q11[1]))])\n",
    "Q12_51_60 = len([i for i in range(len(G51_60_df)) if ((G51_60_df.Q12[G51_60_index[i]] == data.Q12[0]) or (G51_60_df.Q12[G51_60_index[i]] == data.Q12[1]))])\n",
    "\n",
    "G51_60_correct = [Q1_51_60,Q2_51_60,Q3_51_60,Q4_51_60,Q5_51_60,Q6_51_60,Q7_51_60,Q8_51_60,Q9_51_60,Q10_51_60,Q11_51_60,Q12_51_60]\n",
    "G51_60_correct = np.array(G51_60_correct, int)\n",
    "G51_60_correct #12 Single response correct results"
   ]
  },
  {
   "cell_type": "code",
   "execution_count": 67,
   "id": "0573c069",
   "metadata": {},
   "outputs": [
    {
     "name": "stdout",
     "output_type": "stream",
     "text": [
      "Total responses:  6\n",
      "G_51_60 success mean: 0.4444444444444444\n",
      "Jeffreys confidence interval:  [0.38704938 0.50336992]\n"
     ]
    }
   ],
   "source": [
    "G51_60_total_responses = len(G51_60_df)\n",
    "mean_G51_60_correct = np.mean(G51_60_correct)\n",
    "print(\"Total responses: \", G51_60_total_responses)\n",
    "print(\"G_51_60 success mean:\", mean_G51_60_correct/G51_60_total_responses)\n",
    "\n",
    "success_G51_60_correct = np.sum(G51_60_correct)\n",
    "attempts_G51_60_correct = 12* G51_60_total_responses\n",
    "conf_G51_60_correct = astropy.stats.binom_conf_interval(success_G51_60_correct, attempts_G51_60_correct, confidence_level=0.68269, interval='jeffreys')\n",
    "print(\"Jeffreys confidence interval: \", conf_G51_60_correct) # Correct answers interval"
   ]
  },
  {
   "cell_type": "code",
   "execution_count": 68,
   "id": "ec7dd126",
   "metadata": {},
   "outputs": [
    {
     "data": {
      "text/plain": [
       "count    12.000000\n",
       "mean      0.444444\n",
       "std       0.217113\n",
       "min       0.166667\n",
       "25%       0.291667\n",
       "50%       0.500000\n",
       "75%       0.541667\n",
       "max       0.833333\n",
       "dtype: float64"
      ]
     },
     "execution_count": 68,
     "metadata": {},
     "output_type": "execute_result"
    }
   ],
   "source": [
    "G51_60 = pd.Series(G51_60_correct/G51_60_total_responses)\n",
    "G51_60.describe()"
   ]
  },
  {
   "cell_type": "code",
   "execution_count": 69,
   "id": "ede03b78",
   "metadata": {},
   "outputs": [
    {
     "data": {
      "text/plain": [
       "array([2, 2])"
      ]
     },
     "execution_count": 69,
     "metadata": {},
     "output_type": "execute_result"
    }
   ],
   "source": [
    "Q13_51_60 = len([i for i in range(len(G51_60_df)) if ((check_1 in G51_60_df.Q13[G51_60_index[i]]) and (check_2 in G51_60_df.Q13[G51_60_index[i]]) and (check_3 in G51_60_df.Q13[G51_60_index[i]])) or ((check_4 in G51_60_df.Q13[G51_60_index[i]]) and (check_5 in G51_60_df.Q13[G51_60_index[i]]) and (check_6 in G51_60_df.Q13[G51_60_index[i]]))])\n",
    "Q14_51_60 = len([i for i in range(len(G51_60_df)) if ((check_7 in G51_60_df.Q14[G51_60_index[i]]) and (check_8 in G51_60_df.Q14[G51_60_index[i]]) and (check_9 in G51_60_df.Q14[G51_60_index[i]])) or ((check_10 in G51_60_df.Q14[G51_60_index[i]]) and (check_11 in G51_60_df.Q14[G51_60_index[i]]) and (check_12 in G51_60_df.Q14[G51_60_index[i]]))])\n",
    "\n",
    "G51_60_combined_correct = [Q13_51_60,Q14_51_60]\n",
    "G51_60_combined_correct = np.array(G51_60_combined_correct, int)\n",
    "\n",
    "G51_60_combined_correct"
   ]
  },
  {
   "cell_type": "code",
   "execution_count": 70,
   "id": "9e29feaf",
   "metadata": {},
   "outputs": [
    {
     "name": "stdout",
     "output_type": "stream",
     "text": [
      "G_51_60 success mean (Combined questions): 0.3333333333333333\n",
      "Jeffreys confidence interval:  [0.21544486 0.47764946]\n"
     ]
    }
   ],
   "source": [
    "mean_G51_60_combined_correct = np.mean(G51_60_combined_correct)\n",
    "print(\"G_51_60 success mean (Combined questions):\", mean_G51_60_combined_correct/G51_60_total_responses)\n",
    "success_G51_60_combined_correct = np.sum(G51_60_combined_correct)\n",
    "attempts_G51_60_combined_correct = 2* G51_60_total_responses\n",
    "conf_G51_60_combined_correct = astropy.stats.binom_conf_interval(success_G51_60_combined_correct, attempts_G51_60_combined_correct, confidence_level=0.68269, interval='jeffreys')\n",
    "print(\"Jeffreys confidence interval: \", conf_G51_60_combined_correct) # Correct answers interval"
   ]
  },
  {
   "cell_type": "code",
   "execution_count": 71,
   "id": "73ceac13",
   "metadata": {
    "scrolled": true
   },
   "outputs": [
    {
     "data": {
      "text/plain": [
       "count    2.000000\n",
       "mean     0.333333\n",
       "std      0.000000\n",
       "min      0.333333\n",
       "25%      0.333333\n",
       "50%      0.333333\n",
       "75%      0.333333\n",
       "max      0.333333\n",
       "dtype: float64"
      ]
     },
     "execution_count": 71,
     "metadata": {},
     "output_type": "execute_result"
    }
   ],
   "source": [
    "G51_60_combined = pd.Series(G51_60_combined_correct/G51_60_total_responses)\n",
    "G51_60_combined.describe()"
   ]
  },
  {
   "cell_type": "code",
   "execution_count": 72,
   "id": "01888b19",
   "metadata": {},
   "outputs": [
    {
     "name": "stdout",
     "output_type": "stream",
     "text": [
      "Interactivity 'good' or 'very good': 4\n",
      "(%) 80.0\n",
      "Interactivity 'acceptable': 1\n",
      "(%) 20.0\n",
      "Interactivity 'bad' or 'very bad': 0\n",
      "(%) 0.0\n",
      "Participants that couldn't test the application in person: 1\n",
      "(%) 16.666666666666664\n"
     ]
    }
   ],
   "source": [
    "# Interactivity\n",
    "Q15_51_60_good = len([i for i in range(len(G51_60_df)) if ((\"Buena\" in G51_60_df.Q15[G51_60_index[i]]) or (\"Muy buena\" in G51_60_df.Q15[G51_60_index[i]]) or (\"Good\" in G51_60_df.Q15[G51_60_index[i]]) or (\"Very good\" in G51_60_df.Q15[G51_60_index[i]]))])\n",
    "Q15_51_60_acc = len([i for i in range(len(G51_60_df)) if ((\"Aceptable\" in G51_60_df.Q15[G51_60_index[i]]) or (\"Acceptable\" in G51_60_df.Q15[G51_60_index[i]]))])\n",
    "Q15_51_60_bad = len([i for i in range(len(G51_60_df)) if ((\"Mala\" in G51_60_df.Q15[G51_60_index[i]]) or (\"Muy mala\" in G51_60_df.Q15[G51_60_index[i]]) or (\"Bad\" in G51_60_df.Q15[G51_60_index[i]]) or (\"Very bad\" in G51_60_df.Q15[G51_60_index[i]]))])\n",
    "Q15_51_60_xxx = len([i for i in range(len(G51_60_df)) if ((\"XXX\" in G51_60_df.Q15[G51_60_index[i]]))])\n",
    "print(\"Interactivity 'good' or 'very good':\", Q15_51_60_good) #Lack of this question in the first version of the survey (1 participant)\n",
    "print(\"(%)\", percentage_sub(Q15_51_60_good, G51_60_counter - Q15_51_60_xxx))\n",
    "print(\"Interactivity 'acceptable':\", Q15_51_60_acc)\n",
    "print(\"(%)\", percentage_sub(Q15_51_60_acc, G51_60_counter - Q15_51_60_xxx))\n",
    "print(\"Interactivity 'bad' or 'very bad':\", Q15_51_60_bad)\n",
    "print(\"(%)\", percentage_sub(Q15_51_60_bad, G51_60_counter - Q15_51_60_xxx))\n",
    "print(\"Participants that couldn't test the application in person:\", Q15_51_60_xxx)\n",
    "print(\"(%)\", percentage_sub(Q15_51_60_xxx, G51_60_counter))"
   ]
  },
  {
   "cell_type": "code",
   "execution_count": 73,
   "id": "a8c91915",
   "metadata": {},
   "outputs": [
    {
     "name": "stdout",
     "output_type": "stream",
     "text": [
      "Participants finding it 'useful' or 'very useful': 4\n",
      "(%) 66.66666666666666\n",
      "Participants finding it 'Doubtedly useful' or 'useless': 2\n",
      "(%) 33.33333333333333\n"
     ]
    }
   ],
   "source": [
    "# Usefulness\n",
    "Q16_51_60_good = len([i for i in range(len(G51_60_df)) if ((\"Útil\" in G51_60_df.Q16[G51_60_index[i]]) or (\"Muy útil\" in G51_60_df.Q16[G51_60_index[i]]) or (\"Useful\" in G51_60_df.Q16[G51_60_index[i]]) or (\"Very useful\" in G51_60_df.Q16[G51_60_index[i]]))])\n",
    "Q16_51_60_bad = len([i for i in range(len(G51_60_df)) if ((\"dudosa\" in G51_60_df.Q16[G51_60_index[i]]) or (\"Doubtedly\" in G51_60_df.Q16[G51_60_index[i]]) or (\"Doubtely\" in G51_60_df.Q16[G51_60_index[i]]) or (\"Inútil\" in G51_60_df.Q16[G51_60_index[i]]) or (\"Useless\" in G51_60_df.Q16[G51_60_index[i]]))])\n",
    "print(\"Participants finding it 'useful' or 'very useful':\", Q16_51_60_good)\n",
    "print(\"(%)\", percentage_sub(Q16_51_60_good, G51_60_counter))\n",
    "print(\"Participants finding it 'Doubtedly useful' or 'useless':\", Q16_51_60_bad)\n",
    "print(\"(%)\", percentage_sub(Q16_51_60_bad, G51_60_counter))"
   ]
  },
  {
   "cell_type": "code",
   "execution_count": 74,
   "id": "08d50471",
   "metadata": {},
   "outputs": [
    {
     "name": "stdout",
     "output_type": "stream",
     "text": [
      "Sound Quality 'good' or 'very good': 5\n",
      "(%) 83.33333333333334\n",
      "Sound Quality 'acceptable': 1\n",
      "(%) 1.5384615384615385\n",
      "Sound Quality 'bad' or 'very bad': 0\n",
      "(%) 0.0\n"
     ]
    }
   ],
   "source": [
    "# Quality of sound\n",
    "Q17_51_60_good = len([i for i in range(len(G51_60_df)) if ((\"Buen\" in G51_60_df.Q17[G51_60_index[i]]) or (\"Muy buen\" in G51_60_df.Q17[G51_60_index[i]]) or (\"Good\" in G51_60_df.Q17[G51_60_index[i]]) or (\"Nice\" in G51_60_df.Q17[G51_60_index[i]]))])\n",
    "Q17_51_60_acc = len([i for i in range(len(G51_60_df)) if ((\"Aceptable\" in G51_60_df.Q17[G51_60_index[i]]) or (\"Acceptable\" in G51_60_df.Q17[G51_60_index[i]]))])\n",
    "Q17_51_60_bad = len([i for i in range(len(G51_60_df)) if ((\"Mal\" in G51_60_df.Q17[G51_60_index[i]]) or (\"Insoportable\" in G51_60_df.Q17[G51_60_index[i]]) or (\"Bad\" in G51_60_df.Q17[G51_60_index[i]]) or (\"Intolerable\" in G51_60_df.Q17[G51_60_index[i]]))])\n",
    "print(\"Sound Quality 'good' or 'very good':\", Q17_51_60_good)\n",
    "print(\"(%)\", percentage_sub(Q17_51_60_good, G51_60_counter))\n",
    "print(\"Sound Quality 'acceptable':\", Q17_51_60_acc)\n",
    "print(\"(%)\", percentage(Q17_51_60_acc))\n",
    "print(\"Sound Quality 'bad' or 'very bad':\", Q17_51_60_bad)\n",
    "print(\"(%)\", percentage_sub(Q17_51_60_bad, G51_60_counter))"
   ]
  },
  {
   "cell_type": "code",
   "execution_count": 75,
   "id": "0cef33ec",
   "metadata": {},
   "outputs": [],
   "source": [
    "participants_list.append(G51_60_counter)\n",
    "success_list.append(G51_60.describe()[\"mean\"])\n",
    "Jeff_low_list.append(conf_G51_60_correct[0])\n",
    "Jeff_high_list.append(conf_G51_60_correct[1])\n",
    "std_list.append(G51_60.describe()[\"std\"])\n",
    "comb_success_list.append(G51_60_combined.describe()[\"mean\"])\n",
    "comb_Jeff_low_list.append(conf_G51_60_combined_correct[0])\n",
    "comb_Jeff_high_list.append(conf_G51_60_combined_correct[1])\n",
    "comb_std_list.append(G51_60_combined.describe()[\"std\"])\n",
    "interactivity_list.append(percentage_sub(Q15_51_60_good, G51_60_counter - Q15_51_60_xxx))\n",
    "useful_list.append(percentage_sub(Q16_51_60_good, G51_60_counter))\n",
    "sound_list.append(percentage_sub(Q17_51_60_good, G51_60_counter))"
   ]
  },
  {
   "cell_type": "markdown",
   "id": "261eaa6b",
   "metadata": {},
   "source": [
    "## G>60"
   ]
  },
  {
   "cell_type": "code",
   "execution_count": 76,
   "id": "f18edea0",
   "metadata": {},
   "outputs": [
    {
     "name": "stdout",
     "output_type": "stream",
     "text": [
      "Number of participants in G_60: 10\n"
     ]
    },
    {
     "data": {
      "text/html": [
       "<div>\n",
       "<style scoped>\n",
       "    .dataframe tbody tr th:only-of-type {\n",
       "        vertical-align: middle;\n",
       "    }\n",
       "\n",
       "    .dataframe tbody tr th {\n",
       "        vertical-align: top;\n",
       "    }\n",
       "\n",
       "    .dataframe thead th {\n",
       "        text-align: right;\n",
       "    }\n",
       "</style>\n",
       "<table border=\"1\" class=\"dataframe\">\n",
       "  <thead>\n",
       "    <tr style=\"text-align: right;\">\n",
       "      <th></th>\n",
       "      <th>Unnamed: 0</th>\n",
       "      <th>ID</th>\n",
       "      <th>Start time</th>\n",
       "      <th>Completion time</th>\n",
       "      <th>REF</th>\n",
       "      <th>Q1</th>\n",
       "      <th>Q2</th>\n",
       "      <th>Q3</th>\n",
       "      <th>Q4</th>\n",
       "      <th>Q5</th>\n",
       "      <th>...</th>\n",
       "      <th>Q18</th>\n",
       "      <th>Q19</th>\n",
       "      <th>Q20</th>\n",
       "      <th>Q21</th>\n",
       "      <th>Q22</th>\n",
       "      <th>Q23</th>\n",
       "      <th>Q24</th>\n",
       "      <th>Q25</th>\n",
       "      <th>Q26</th>\n",
       "      <th>Q27</th>\n",
       "    </tr>\n",
       "  </thead>\n",
       "  <tbody>\n",
       "    <tr>\n",
       "      <th>6</th>\n",
       "      <td>5</td>\n",
       "      <td>5.0</td>\n",
       "      <td>4/18/24 21:15:36</td>\n",
       "      <td>4/18/24 21:19:42</td>\n",
       "      <td>anonymous</td>\n",
       "      <td>Sonificación 1</td>\n",
       "      <td>A la izquierda</td>\n",
       "      <td>Sonificación 2</td>\n",
       "      <td>Sonificación 3</td>\n",
       "      <td>Espectro 2</td>\n",
       "      <td>...</td>\n",
       "      <td>Ninguna</td>\n",
       "      <td>Muy básica</td>\n",
       "      <td>Música del mundo</td>\n",
       "      <td>Más de 60</td>\n",
       "      <td>No</td>\n",
       "      <td>Canada</td>\n",
       "      <td>español</td>\n",
       "      <td>Sí, utilicé auriculares.</td>\n",
       "      <td>Estéreo;</td>\n",
       "      <td>muy interesante</td>\n",
       "    </tr>\n",
       "    <tr>\n",
       "      <th>7</th>\n",
       "      <td>6</td>\n",
       "      <td>6.0</td>\n",
       "      <td>4/18/24 18:10:42</td>\n",
       "      <td>4/18/24 21:23:00</td>\n",
       "      <td>anonymous</td>\n",
       "      <td>Sonificación 1</td>\n",
       "      <td>A la izquierda</td>\n",
       "      <td>Sonificación 2</td>\n",
       "      <td>Sonificación 4</td>\n",
       "      <td>Espectro 1</td>\n",
       "      <td>...</td>\n",
       "      <td>Ninguna</td>\n",
       "      <td>Muy básica</td>\n",
       "      <td>Clásica</td>\n",
       "      <td>Más de 60</td>\n",
       "      <td>No</td>\n",
       "      <td>España</td>\n",
       "      <td>Español</td>\n",
       "      <td>Sí, utilicé auriculares.</td>\n",
       "      <td>Estéreo;</td>\n",
       "      <td>Muy interesante</td>\n",
       "    </tr>\n",
       "    <tr>\n",
       "      <th>8</th>\n",
       "      <td>7</td>\n",
       "      <td>7.0</td>\n",
       "      <td>4/18/24 21:09:34</td>\n",
       "      <td>4/18/24 21:41:59</td>\n",
       "      <td>anonymous</td>\n",
       "      <td>Sonificación 2</td>\n",
       "      <td>A la derecha</td>\n",
       "      <td>Sonificación 2</td>\n",
       "      <td>Sonificación 3</td>\n",
       "      <td>Espectro 3</td>\n",
       "      <td>...</td>\n",
       "      <td>Algo de experiencia (hobby/entusiasta)</td>\n",
       "      <td>Algo de experiencia (hobby/entusiasta)</td>\n",
       "      <td>Clasica</td>\n",
       "      <td>Más de 60</td>\n",
       "      <td>No</td>\n",
       "      <td>España</td>\n",
       "      <td>Española</td>\n",
       "      <td>Sí, utilicé auriculares.</td>\n",
       "      <td>No lo sé.;Estéreo;</td>\n",
       "      <td>x-x</td>\n",
       "    </tr>\n",
       "    <tr>\n",
       "      <th>12</th>\n",
       "      <td>11</td>\n",
       "      <td>11.0</td>\n",
       "      <td>4/19/24 10:07:08</td>\n",
       "      <td>4/19/24 10:14:43</td>\n",
       "      <td>anonymous</td>\n",
       "      <td>Sonificación 1</td>\n",
       "      <td>A la izquierda</td>\n",
       "      <td>Sonificación 2</td>\n",
       "      <td>Sonificación 3</td>\n",
       "      <td>Espectro 3</td>\n",
       "      <td>...</td>\n",
       "      <td>Algo de experiencia (hobby/entusiasta)</td>\n",
       "      <td>Muy básica</td>\n",
       "      <td>Boleros</td>\n",
       "      <td>Más de 60</td>\n",
       "      <td>No</td>\n",
       "      <td>España</td>\n",
       "      <td>Español</td>\n",
       "      <td>Sí, utilicé auriculares.</td>\n",
       "      <td>No lo sé.;</td>\n",
       "      <td>x-x</td>\n",
       "    </tr>\n",
       "    <tr>\n",
       "      <th>13</th>\n",
       "      <td>12</td>\n",
       "      <td>12.0</td>\n",
       "      <td>4/20/24 12:25:14</td>\n",
       "      <td>4/20/24 12:34:51</td>\n",
       "      <td>anonymous</td>\n",
       "      <td>Sonificación 2</td>\n",
       "      <td>A la izquierda</td>\n",
       "      <td>Sonificación 2</td>\n",
       "      <td>Sonificación 3</td>\n",
       "      <td>Espectro 2</td>\n",
       "      <td>...</td>\n",
       "      <td>Ninguna</td>\n",
       "      <td>Muy básica</td>\n",
       "      <td>clasica</td>\n",
       "      <td>Más de 60</td>\n",
       "      <td>No</td>\n",
       "      <td>España</td>\n",
       "      <td>Español</td>\n",
       "      <td>Sí, utilicé auriculares.</td>\n",
       "      <td>Circum-aurales;</td>\n",
       "      <td>x-x</td>\n",
       "    </tr>\n",
       "    <tr>\n",
       "      <th>19</th>\n",
       "      <td>18</td>\n",
       "      <td>18.0</td>\n",
       "      <td>4/24/24 21:49:28</td>\n",
       "      <td>4/24/24 22:03:07</td>\n",
       "      <td>anonymous</td>\n",
       "      <td>Sonificación 1</td>\n",
       "      <td>A la izquierda</td>\n",
       "      <td>Sonificación 1</td>\n",
       "      <td>Sonificación 4</td>\n",
       "      <td>Espectro 3</td>\n",
       "      <td>...</td>\n",
       "      <td>Ninguna</td>\n",
       "      <td>Muy básica</td>\n",
       "      <td>Sobre todo clasica</td>\n",
       "      <td>Más de 60</td>\n",
       "      <td>No</td>\n",
       "      <td>España</td>\n",
       "      <td>Español</td>\n",
       "      <td>No, no lo hice.</td>\n",
       "      <td>No lo sé.;</td>\n",
       "      <td>x-x</td>\n",
       "    </tr>\n",
       "    <tr>\n",
       "      <th>23</th>\n",
       "      <td>22</td>\n",
       "      <td>22.0</td>\n",
       "      <td>4/25/24 16:04:38</td>\n",
       "      <td>4/25/24 16:19:51</td>\n",
       "      <td>anonymous</td>\n",
       "      <td>Sonificación 1</td>\n",
       "      <td>A la izquierda</td>\n",
       "      <td>Sonificación 2</td>\n",
       "      <td>Sonificación 3</td>\n",
       "      <td>Espectro 1</td>\n",
       "      <td>...</td>\n",
       "      <td>Ninguna</td>\n",
       "      <td>Ninguna</td>\n",
       "      <td>Clásica</td>\n",
       "      <td>Más de 60</td>\n",
       "      <td>No</td>\n",
       "      <td>ESPAÑA</td>\n",
       "      <td>ESPAÑOLA</td>\n",
       "      <td>Sí, utilicé auriculares.</td>\n",
       "      <td>No lo sé.;</td>\n",
       "      <td>Me parece un trabajo extraordinario</td>\n",
       "    </tr>\n",
       "    <tr>\n",
       "      <th>26</th>\n",
       "      <td>25</td>\n",
       "      <td>25.0</td>\n",
       "      <td>4/26/24 21:38:11</td>\n",
       "      <td>4/26/24 21:55:22</td>\n",
       "      <td>anonymous</td>\n",
       "      <td>Sonificación 1</td>\n",
       "      <td>A la izquierda</td>\n",
       "      <td>Sonificación 3</td>\n",
       "      <td>Sonificación 3</td>\n",
       "      <td>Espectro 1</td>\n",
       "      <td>...</td>\n",
       "      <td>Ninguna</td>\n",
       "      <td>Ninguna</td>\n",
       "      <td>Rock and roll</td>\n",
       "      <td>Más de 60</td>\n",
       "      <td>No</td>\n",
       "      <td>España</td>\n",
       "      <td>Español</td>\n",
       "      <td>Sí, utilicé auriculares.</td>\n",
       "      <td>No lo sé.;</td>\n",
       "      <td>x-x</td>\n",
       "    </tr>\n",
       "    <tr>\n",
       "      <th>46</th>\n",
       "      <td>45</td>\n",
       "      <td>5.0</td>\n",
       "      <td>4/27/24 10:16:07</td>\n",
       "      <td>4/27/24 10:37:46</td>\n",
       "      <td>anonymous</td>\n",
       "      <td>Sonificación 1</td>\n",
       "      <td>A la izquierda</td>\n",
       "      <td>Sonificación 3</td>\n",
       "      <td>Sonificación 2</td>\n",
       "      <td>Espectro 2</td>\n",
       "      <td>...</td>\n",
       "      <td>Mucha experiencia (profesional)</td>\n",
       "      <td>Bastante experiencia (amateur)</td>\n",
       "      <td>Clásica</td>\n",
       "      <td>Más de 60</td>\n",
       "      <td>No</td>\n",
       "      <td>España</td>\n",
       "      <td>Español</td>\n",
       "      <td>Sí, utilicé auriculares.</td>\n",
       "      <td>Intra-aurales;Estéreo;</td>\n",
       "      <td>x-x</td>\n",
       "    </tr>\n",
       "    <tr>\n",
       "      <th>51</th>\n",
       "      <td>50</td>\n",
       "      <td>5.0</td>\n",
       "      <td>5/2/24 20:11:15</td>\n",
       "      <td>5/2/24 20:28:04</td>\n",
       "      <td>anonymous</td>\n",
       "      <td>Sonification 1</td>\n",
       "      <td>Left</td>\n",
       "      <td>Sonification 3</td>\n",
       "      <td>Sonification 2</td>\n",
       "      <td>Spectrum 2</td>\n",
       "      <td>...</td>\n",
       "      <td>Very experienced (professional)</td>\n",
       "      <td>Some experienced (hobby/enthusiast)</td>\n",
       "      <td>Classical. Rock</td>\n",
       "      <td>Over 60</td>\n",
       "      <td>No</td>\n",
       "      <td>United States</td>\n",
       "      <td>English</td>\n",
       "      <td>Yes, I used headphones</td>\n",
       "      <td>Stereo;</td>\n",
       "      <td>Use the word Pitch instead of Reverberation --...</td>\n",
       "    </tr>\n",
       "  </tbody>\n",
       "</table>\n",
       "<p>10 rows × 32 columns</p>\n",
       "</div>"
      ],
      "text/plain": [
       "    Unnamed: 0    ID        Start time   Completion time        REF  \\\n",
       "6            5   5.0  4/18/24 21:15:36  4/18/24 21:19:42  anonymous   \n",
       "7            6   6.0  4/18/24 18:10:42  4/18/24 21:23:00  anonymous   \n",
       "8            7   7.0  4/18/24 21:09:34  4/18/24 21:41:59  anonymous   \n",
       "12          11  11.0  4/19/24 10:07:08  4/19/24 10:14:43  anonymous   \n",
       "13          12  12.0  4/20/24 12:25:14  4/20/24 12:34:51  anonymous   \n",
       "19          18  18.0  4/24/24 21:49:28  4/24/24 22:03:07  anonymous   \n",
       "23          22  22.0  4/25/24 16:04:38  4/25/24 16:19:51  anonymous   \n",
       "26          25  25.0  4/26/24 21:38:11  4/26/24 21:55:22  anonymous   \n",
       "46          45   5.0  4/27/24 10:16:07  4/27/24 10:37:46  anonymous   \n",
       "51          50   5.0   5/2/24 20:11:15   5/2/24 20:28:04  anonymous   \n",
       "\n",
       "                Q1              Q2              Q3              Q4  \\\n",
       "6   Sonificación 1  A la izquierda  Sonificación 2  Sonificación 3   \n",
       "7   Sonificación 1  A la izquierda  Sonificación 2  Sonificación 4   \n",
       "8   Sonificación 2    A la derecha  Sonificación 2  Sonificación 3   \n",
       "12  Sonificación 1  A la izquierda  Sonificación 2  Sonificación 3   \n",
       "13  Sonificación 2  A la izquierda  Sonificación 2  Sonificación 3   \n",
       "19  Sonificación 1  A la izquierda  Sonificación 1  Sonificación 4   \n",
       "23  Sonificación 1  A la izquierda  Sonificación 2  Sonificación 3   \n",
       "26  Sonificación 1  A la izquierda  Sonificación 3  Sonificación 3   \n",
       "46  Sonificación 1  A la izquierda  Sonificación 3  Sonificación 2   \n",
       "51  Sonification 1            Left  Sonification 3  Sonification 2   \n",
       "\n",
       "            Q5  ...                                     Q18  \\\n",
       "6   Espectro 2  ...                                 Ninguna   \n",
       "7   Espectro 1  ...                                 Ninguna   \n",
       "8   Espectro 3  ...  Algo de experiencia (hobby/entusiasta)   \n",
       "12  Espectro 3  ...  Algo de experiencia (hobby/entusiasta)   \n",
       "13  Espectro 2  ...                                 Ninguna   \n",
       "19  Espectro 3  ...                                 Ninguna   \n",
       "23  Espectro 1  ...                                 Ninguna   \n",
       "26  Espectro 1  ...                                 Ninguna   \n",
       "46  Espectro 2  ...         Mucha experiencia (profesional)   \n",
       "51  Spectrum 2  ...         Very experienced (professional)   \n",
       "\n",
       "                                       Q19                 Q20        Q21 Q22  \\\n",
       "6                               Muy básica    Música del mundo  Más de 60  No   \n",
       "7                               Muy básica             Clásica  Más de 60  No   \n",
       "8   Algo de experiencia (hobby/entusiasta)             Clasica  Más de 60  No   \n",
       "12                              Muy básica             Boleros  Más de 60  No   \n",
       "13                              Muy básica             clasica  Más de 60  No   \n",
       "19                              Muy básica  Sobre todo clasica  Más de 60  No   \n",
       "23                                 Ninguna            Clásica   Más de 60  No   \n",
       "26                                 Ninguna       Rock and roll  Más de 60  No   \n",
       "46          Bastante experiencia (amateur)            Clásica   Más de 60  No   \n",
       "51     Some experienced (hobby/enthusiast)     Classical. Rock    Over 60  No   \n",
       "\n",
       "              Q23        Q24                       Q25  \\\n",
       "6          Canada    español  Sí, utilicé auriculares.   \n",
       "7          España    Español  Sí, utilicé auriculares.   \n",
       "8          España   Española  Sí, utilicé auriculares.   \n",
       "12         España    Español  Sí, utilicé auriculares.   \n",
       "13         España    Español  Sí, utilicé auriculares.   \n",
       "19         España    Español           No, no lo hice.   \n",
       "23         ESPAÑA  ESPAÑOLA   Sí, utilicé auriculares.   \n",
       "26        España     Español  Sí, utilicé auriculares.   \n",
       "46        España     Español  Sí, utilicé auriculares.   \n",
       "51  United States    English    Yes, I used headphones   \n",
       "\n",
       "                       Q26                                                Q27  \n",
       "6                 Estéreo;                                    muy interesante  \n",
       "7                 Estéreo;                                    Muy interesante  \n",
       "8       No lo sé.;Estéreo;                                                x-x  \n",
       "12              No lo sé.;                                                x-x  \n",
       "13         Circum-aurales;                                                x-x  \n",
       "19              No lo sé.;                                                x-x  \n",
       "23              No lo sé.;               Me parece un trabajo extraordinario   \n",
       "26              No lo sé.;                                                x-x  \n",
       "46  Intra-aurales;Estéreo;                                                x-x  \n",
       "51                 Stereo;  Use the word Pitch instead of Reverberation --...  \n",
       "\n",
       "[10 rows x 32 columns]"
      ]
     },
     "execution_count": 76,
     "metadata": {},
     "output_type": "execute_result"
    }
   ],
   "source": [
    "G_60_list = []\n",
    "G_60_index = []\n",
    "G_60_counter = 0\n",
    "for i in range(len(data)):\n",
    "    if ((\"Más\" in data.Q21[i]) or (\"Over\" in data.Q21[i])):\n",
    "        G_60_counter += 1\n",
    "        current_row = data.iloc[i]\n",
    "        G_60_list.append(current_row)\n",
    "        G_60_index.append(i)\n",
    "        \n",
    "print(\"Number of participants in G_60:\", G_60_counter)\n",
    "G_60_df = pd.DataFrame(G_60_list)\n",
    "G_60_df"
   ]
  },
  {
   "cell_type": "code",
   "execution_count": 77,
   "id": "19971167",
   "metadata": {},
   "outputs": [
    {
     "data": {
      "text/plain": [
       "array([8, 9, 6, 1, 4, 6, 4, 5, 1, 3, 3, 4])"
      ]
     },
     "execution_count": 77,
     "metadata": {},
     "output_type": "execute_result"
    }
   ],
   "source": [
    "Q1_60 = len([i for i in range(len(G_60_df)) if ((G_60_df.Q1[G_60_index[i]] == data.Q1[0]) or (G_60_df.Q1[G_60_index[i]] == data.Q1[1]))])\n",
    "Q2_60 = len([i for i in range(len(G_60_df)) if ((G_60_df.Q2[G_60_index[i]] == data.Q2[0]) or (G_60_df.Q2[G_60_index[i]] == data.Q2[1]))])\n",
    "Q3_60 = len([i for i in range(len(G_60_df)) if ((G_60_df.Q3[G_60_index[i]] == data.Q3[0]) or (G_60_df.Q3[G_60_index[i]] == data.Q3[1]))])\n",
    "Q4_60 = len([i for i in range(len(G_60_df)) if ((G_60_df.Q4[G_60_index[i]] == data.Q4[0]) or (G_60_df.Q4[G_60_index[i]] == data.Q4[1]))])\n",
    "Q5_60 = len([i for i in range(len(G_60_df)) if ((G_60_df.Q5[G_60_index[i]] == data.Q5[0]) or (G_60_df.Q5[G_60_index[i]] == data.Q5[1]))])\n",
    "Q6_60 = len([i for i in range(len(G_60_df)) if ((G_60_df.Q6[G_60_index[i]] == data.Q6[0]) or (G_60_df.Q6[G_60_index[i]] == data.Q6[1]))])\n",
    "Q7_60 = len([i for i in range(len(G_60_df)) if ((G_60_df.Q7[G_60_index[i]] == data.Q7[0]) or (G_60_df.Q7[G_60_index[i]] == data.Q7[1]))])\n",
    "Q8_60 = len([i for i in range(len(G_60_df)) if ((G_60_df.Q8[G_60_index[i]] == data.Q8[0]) or (G_60_df.Q8[G_60_index[i]] == data.Q8[1]))])\n",
    "Q9_60 = len([i for i in range(len(G_60_df)) if ((G_60_df.Q9[G_60_index[i]] == data.Q9[0]) or (G_60_df.Q9[G_60_index[i]] == data.Q9[1]))])\n",
    "Q10_60 = len([i for i in range(len(G_60_df)) if ((G_60_df.Q10[G_60_index[i]] == data.Q10[0]) or (G_60_df.Q10[G_60_index[i]] == data.Q10[1]))])\n",
    "Q11_60 = len([i for i in range(len(G_60_df)) if ((G_60_df.Q11[G_60_index[i]] == data.Q11[0]) or (G_60_df.Q11[G_60_index[i]] == data.Q11[1]))])\n",
    "Q12_60 = len([i for i in range(len(G_60_df)) if ((G_60_df.Q12[G_60_index[i]] == data.Q12[0]) or (G_60_df.Q12[G_60_index[i]] == data.Q12[1]))])\n",
    "\n",
    "G_60_correct = [Q1_60,Q2_60,Q3_60,Q4_60,Q5_60,Q6_60,Q7_60,Q8_60,Q9_60,Q10_60,Q11_60,Q12_60]\n",
    "G_60_correct = np.array(G_60_correct, int)\n",
    "G_60_correct #12 Single response correct results"
   ]
  },
  {
   "cell_type": "code",
   "execution_count": 78,
   "id": "c7c5fad0",
   "metadata": {},
   "outputs": [
    {
     "name": "stdout",
     "output_type": "stream",
     "text": [
      "Total responses:  10\n",
      "G_>60 success mean: 0.45\n",
      "Jeffreys confidence interval:  [0.40518696 0.49564222]\n"
     ]
    }
   ],
   "source": [
    "G_60_total_responses = len(G_60_df)\n",
    "mean_G_60_correct = np.mean(G_60_correct)\n",
    "print(\"Total responses: \", G_60_total_responses)\n",
    "print(\"G_>60 success mean:\", mean_G_60_correct/G_60_total_responses)\n",
    "\n",
    "success_G_60_correct = np.sum(G_60_correct)\n",
    "attempts_G_60_correct = 12* G_60_total_responses\n",
    "conf_G_60_correct = astropy.stats.binom_conf_interval(success_G_60_correct, attempts_G_60_correct, confidence_level=0.68269, interval='jeffreys')\n",
    "print(\"Jeffreys confidence interval: \", conf_G_60_correct) # Correct answers interval"
   ]
  },
  {
   "cell_type": "code",
   "execution_count": 79,
   "id": "632ecd13",
   "metadata": {},
   "outputs": [
    {
     "data": {
      "text/plain": [
       "count    12.000000\n",
       "mean      0.450000\n",
       "std       0.246798\n",
       "min       0.100000\n",
       "25%       0.300000\n",
       "50%       0.400000\n",
       "75%       0.600000\n",
       "max       0.900000\n",
       "dtype: float64"
      ]
     },
     "execution_count": 79,
     "metadata": {},
     "output_type": "execute_result"
    }
   ],
   "source": [
    "G_60 = pd.Series(G_60_correct/G_60_total_responses)\n",
    "G_60.describe()"
   ]
  },
  {
   "cell_type": "code",
   "execution_count": 80,
   "id": "ac430cee",
   "metadata": {},
   "outputs": [
    {
     "data": {
      "text/plain": [
       "array([1, 0])"
      ]
     },
     "execution_count": 80,
     "metadata": {},
     "output_type": "execute_result"
    }
   ],
   "source": [
    "Q13_60 = len([i for i in range(len(G_60_df)) if ((check_1 in G_60_df.Q13[G_60_index[i]]) and (check_2 in G_60_df.Q13[G_60_index[i]]) and (check_3 in G_60_df.Q13[G_60_index[i]])) or ((check_4 in G_60_df.Q13[G_60_index[i]]) and (check_5 in G_60_df.Q13[G_60_index[i]]) and (check_6 in G_60_df.Q13[G_60_index[i]]))])\n",
    "Q14_60 = len([i for i in range(len(G_60_df)) if ((check_7 in G_60_df.Q14[G_60_index[i]]) and (check_8 in G_60_df.Q14[G_60_index[i]]) and (check_9 in G_60_df.Q14[G_60_index[i]])) or ((check_10 in G_60_df.Q14[G_60_index[i]]) and (check_11 in G_60_df.Q14[G_60_index[i]]) and (check_12 in G_60_df.Q14[G_60_index[i]]))])\n",
    "\n",
    "G_60_combined_correct = [Q13_60,Q14_60]\n",
    "G_60_combined_correct = np.array(G_60_combined_correct, int)\n",
    "\n",
    "G_60_combined_correct"
   ]
  },
  {
   "cell_type": "code",
   "execution_count": 81,
   "id": "fe5e667c",
   "metadata": {},
   "outputs": [
    {
     "name": "stdout",
     "output_type": "stream",
     "text": [
      "G_>60 success mean (Combined questions): 0.05\n",
      "Jeffreys confidence interval:  [0.02089308 0.12307482]\n"
     ]
    }
   ],
   "source": [
    "mean_G_60_combined_correct = np.mean(G_60_combined_correct)\n",
    "print(\"G_>60 success mean (Combined questions):\", mean_G_60_combined_correct/G_60_total_responses)\n",
    "success_G_60_combined_correct = np.sum(G_60_combined_correct)\n",
    "attempts_G_60_combined_correct = 2* G_60_total_responses\n",
    "conf_G_60_combined_correct = astropy.stats.binom_conf_interval(success_G_60_combined_correct, attempts_G_60_combined_correct, confidence_level=0.68269, interval='jeffreys')\n",
    "print(\"Jeffreys confidence interval: \", conf_G_60_combined_correct) # Correct answers interval"
   ]
  },
  {
   "cell_type": "code",
   "execution_count": 82,
   "id": "46b2c2b0",
   "metadata": {},
   "outputs": [
    {
     "data": {
      "text/plain": [
       "count    2.000000\n",
       "mean     0.050000\n",
       "std      0.070711\n",
       "min      0.000000\n",
       "25%      0.025000\n",
       "50%      0.050000\n",
       "75%      0.075000\n",
       "max      0.100000\n",
       "dtype: float64"
      ]
     },
     "execution_count": 82,
     "metadata": {},
     "output_type": "execute_result"
    }
   ],
   "source": [
    "G_60_combined = pd.Series(G_60_combined_correct/G_60_total_responses)\n",
    "G_60_combined.describe()"
   ]
  },
  {
   "cell_type": "code",
   "execution_count": 83,
   "id": "d9a9d5b7",
   "metadata": {},
   "outputs": [
    {
     "name": "stdout",
     "output_type": "stream",
     "text": [
      "Interactivity 'good' or 'very good': 7\n",
      "(%) 87.5\n",
      "Interactivity 'acceptable': 1\n",
      "(%) 12.5\n",
      "Interactivity 'bad' or 'very bad': 0\n",
      "(%) 0.0\n",
      "Participants that couldn't test the application in person: 2\n",
      "(%) 20.0\n"
     ]
    }
   ],
   "source": [
    "# Interactivity\n",
    "Q15_60_good = len([i for i in range(len(G_60_df)) if ((\"Buena\" in G_60_df.Q15[G_60_index[i]]) or (\"Muy buena\" in G_60_df.Q15[G_60_index[i]]) or (\"Good\" in G_60_df.Q15[G_60_index[i]]) or (\"Very good\" in G_60_df.Q15[G_60_index[i]]))])\n",
    "Q15_60_acc = len([i for i in range(len(G_60_df)) if ((\"Aceptable\" in G_60_df.Q15[G_60_index[i]]) or (\"Acceptable\" in G_60_df.Q15[G_60_index[i]]))])\n",
    "Q15_60_bad = len([i for i in range(len(G_60_df)) if ((\"Mala\" in G_60_df.Q15[G_60_index[i]]) or (\"Muy mala\" in G_60_df.Q15[G_60_index[i]]) or (\"Bad\" in G_60_df.Q15[G_60_index[i]]) or (\"Very bad\" in G_60_df.Q15[G_60_index[i]]))])\n",
    "Q15_60_xxx = len([i for i in range(len(G_60_df)) if ((\"XXX\" in G_60_df.Q15[G_60_index[i]]))])\n",
    "print(\"Interactivity 'good' or 'very good':\", Q15_60_good) #Lack of this question in the first version of the survey (1 participant)\n",
    "print(\"(%)\", percentage_sub(Q15_60_good, G_60_counter - Q15_60_xxx))\n",
    "print(\"Interactivity 'acceptable':\", Q15_60_acc)\n",
    "print(\"(%)\", percentage_sub(Q15_60_acc, G_60_counter - Q15_60_xxx))\n",
    "print(\"Interactivity 'bad' or 'very bad':\", Q15_60_bad)\n",
    "print(\"(%)\", percentage_sub(Q15_60_bad, G_60_counter - Q15_60_xxx))\n",
    "print(\"Participants that couldn't test the application in person:\", Q15_60_xxx)\n",
    "print(\"(%)\", percentage_sub(Q15_60_xxx, G_60_counter))"
   ]
  },
  {
   "cell_type": "code",
   "execution_count": 84,
   "id": "6c845106",
   "metadata": {},
   "outputs": [
    {
     "name": "stdout",
     "output_type": "stream",
     "text": [
      "Participants finding it 'useful' or 'very useful': 9\n",
      "(%) 90.0\n",
      "Participants finding it 'Doubtedly useful' or 'useless': 1\n",
      "(%) 10.0\n"
     ]
    }
   ],
   "source": [
    "# Usefulness\n",
    "Q16_60_good = len([i for i in range(len(G_60_df)) if ((\"Útil\" in G_60_df.Q16[G_60_index[i]]) or (\"Muy útil\" in G_60_df.Q16[G_60_index[i]]) or (\"Useful\" in G_60_df.Q16[G_60_index[i]]) or (\"Very useful\" in G_60_df.Q16[G_60_index[i]]))])\n",
    "Q16_60_bad = len([i for i in range(len(G_60_df)) if ((\"dudosa\" in G_60_df.Q16[G_60_index[i]]) or (\"Doubtedly\" in G_60_df.Q16[G_60_index[i]]) or (\"Doubtely\" in G_60_df.Q16[G_60_index[i]]) or (\"Inútil\" in G_60_df.Q16[G_60_index[i]]) or (\"Useless\" in G_60_df.Q16[G_60_index[i]]))])\n",
    "print(\"Participants finding it 'useful' or 'very useful':\", Q16_60_good)\n",
    "print(\"(%)\", percentage_sub(Q16_60_good, G_60_counter))\n",
    "print(\"Participants finding it 'Doubtedly useful' or 'useless':\", Q16_60_bad)\n",
    "print(\"(%)\", percentage_sub(Q16_60_bad, G_60_counter))"
   ]
  },
  {
   "cell_type": "code",
   "execution_count": 85,
   "id": "c87ef13d",
   "metadata": {},
   "outputs": [
    {
     "name": "stdout",
     "output_type": "stream",
     "text": [
      "Sound Quality 'good' or 'very good': 8\n",
      "(%) 80.0\n",
      "Sound Quality 'acceptable': 2\n",
      "(%) 3.076923076923077\n",
      "Sound Quality 'bad' or 'very bad': 0\n",
      "(%) 0.0\n"
     ]
    }
   ],
   "source": [
    "# Quality of sound\n",
    "Q17_60_good = len([i for i in range(len(G_60_df)) if ((\"Buen\" in G_60_df.Q17[G_60_index[i]]) or (\"Muy buen\" in G_60_df.Q17[G_60_index[i]]) or (\"Good\" in G_60_df.Q17[G_60_index[i]]) or (\"Nice\" in G_60_df.Q17[G_60_index[i]]))])\n",
    "Q17_60_acc = len([i for i in range(len(G_60_df)) if ((\"Aceptable\" in G_60_df.Q17[G_60_index[i]]) or (\"Acceptable\" in G_60_df.Q17[G_60_index[i]]))])\n",
    "Q17_60_bad = len([i for i in range(len(G_60_df)) if ((\"Mal\" in G_60_df.Q17[G_60_index[i]]) or (\"Insoportable\" in G_60_df.Q17[G_60_index[i]]) or (\"Bad\" in G_60_df.Q17[G_60_index[i]]) or (\"Intolerable\" in G_60_df.Q17[G_60_index[i]]))])\n",
    "print(\"Sound Quality 'good' or 'very good':\", Q17_60_good)\n",
    "print(\"(%)\", percentage_sub(Q17_60_good, G_60_counter))\n",
    "print(\"Sound Quality 'acceptable':\", Q17_60_acc)\n",
    "print(\"(%)\", percentage(Q17_60_acc))\n",
    "print(\"Sound Quality 'bad' or 'very bad':\", Q17_60_bad)\n",
    "print(\"(%)\", percentage_sub(Q17_60_bad, G_60_counter))"
   ]
  },
  {
   "cell_type": "code",
   "execution_count": 86,
   "id": "d08f6ba3",
   "metadata": {},
   "outputs": [],
   "source": [
    "participants_list.append(G_60_counter)\n",
    "success_list.append(G_60.describe()[\"mean\"])\n",
    "Jeff_low_list.append(conf_G_60_correct[0])\n",
    "Jeff_high_list.append(conf_G_60_correct[1])\n",
    "std_list.append(G_60.describe()[\"std\"])\n",
    "comb_success_list.append(G_60_combined.describe()[\"mean\"])\n",
    "comb_Jeff_low_list.append(conf_G_60_combined_correct[0])\n",
    "comb_Jeff_high_list.append(conf_G_60_combined_correct[1])\n",
    "comb_std_list.append(G_60_combined.describe()[\"std\"])\n",
    "interactivity_list.append(percentage_sub(Q15_60_good, G_60_counter - Q15_60_xxx))\n",
    "useful_list.append(percentage_sub(Q16_60_good, G_60_counter))\n",
    "sound_list.append(percentage_sub(Q17_60_good, G_60_counter))"
   ]
  },
  {
   "cell_type": "markdown",
   "id": "ae8d8980",
   "metadata": {},
   "source": [
    "## Generating a CSV file"
   ]
  },
  {
   "cell_type": "code",
   "execution_count": 87,
   "id": "c2ef8f47",
   "metadata": {},
   "outputs": [],
   "source": [
    "with open(\"ViewCube_Stats-age.csv\", \"w\") as csvfile:\n",
    "    write = csv.writer(csvfile)\n",
    "    write.writerow([\"Group\", \"Participants\", \"Success\", \"Jeff_low\", \"Jeff_high\", \"std\", \"comb_Success\", \"comb_Jeff_low\", \"comb_Jeff_high\", \"comb_std\", \"interactivity\", \"useful\", \"sound\"])\n",
    "    for i in range(len(column_list)):\n",
    "        write.writerow([column_list[i], participants_list[i], success_list[i], Jeff_low_list[i], Jeff_high_list[i], std_list[i], comb_success_list[i], comb_Jeff_low_list[i], comb_Jeff_high_list[i], comb_std_list[i], interactivity_list[i], useful_list[i], sound_list[i]])"
   ]
  },
  {
   "cell_type": "markdown",
   "id": "8e55dea1",
   "metadata": {},
   "source": [
    "## Ploting"
   ]
  },
  {
   "cell_type": "code",
   "execution_count": 88,
   "id": "5ab348c6",
   "metadata": {
    "scrolled": true
   },
   "outputs": [
    {
     "data": {
      "text/html": [
       "<div>\n",
       "<style scoped>\n",
       "    .dataframe tbody tr th:only-of-type {\n",
       "        vertical-align: middle;\n",
       "    }\n",
       "\n",
       "    .dataframe tbody tr th {\n",
       "        vertical-align: top;\n",
       "    }\n",
       "\n",
       "    .dataframe thead th {\n",
       "        text-align: right;\n",
       "    }\n",
       "</style>\n",
       "<table border=\"1\" class=\"dataframe\">\n",
       "  <thead>\n",
       "    <tr style=\"text-align: right;\">\n",
       "      <th></th>\n",
       "      <th>Group</th>\n",
       "      <th>Participants</th>\n",
       "      <th>Success</th>\n",
       "      <th>Jeff_low</th>\n",
       "      <th>Jeff_high</th>\n",
       "      <th>std</th>\n",
       "      <th>comb_Success</th>\n",
       "      <th>comb_Jeff_low</th>\n",
       "      <th>comb_Jeff_high</th>\n",
       "      <th>comb_std</th>\n",
       "      <th>interactivity</th>\n",
       "      <th>useful</th>\n",
       "      <th>sound</th>\n",
       "    </tr>\n",
       "  </thead>\n",
       "  <tbody>\n",
       "    <tr>\n",
       "      <th>0</th>\n",
       "      <td>Global</td>\n",
       "      <td>65</td>\n",
       "      <td>0.515385</td>\n",
       "      <td>0.497482</td>\n",
       "      <td>0.533248</td>\n",
       "      <td>0.165372</td>\n",
       "      <td>0.161538</td>\n",
       "      <td>0.131907</td>\n",
       "      <td>0.196355</td>\n",
       "      <td>0.010879</td>\n",
       "      <td>80.952381</td>\n",
       "      <td>78.461538</td>\n",
       "      <td>56.923077</td>\n",
       "    </tr>\n",
       "    <tr>\n",
       "      <th>1</th>\n",
       "      <td>&lt;21</td>\n",
       "      <td>1</td>\n",
       "      <td>0.250000</td>\n",
       "      <td>0.148702</td>\n",
       "      <td>0.390965</td>\n",
       "      <td>0.452267</td>\n",
       "      <td>0.000000</td>\n",
       "      <td>0.000000</td>\n",
       "      <td>0.354158</td>\n",
       "      <td>0.000000</td>\n",
       "      <td>0.000000</td>\n",
       "      <td>100.000000</td>\n",
       "      <td>100.000000</td>\n",
       "    </tr>\n",
       "    <tr>\n",
       "      <th>2</th>\n",
       "      <td>21-30</td>\n",
       "      <td>18</td>\n",
       "      <td>0.555556</td>\n",
       "      <td>0.521566</td>\n",
       "      <td>0.589032</td>\n",
       "      <td>0.195344</td>\n",
       "      <td>0.083333</td>\n",
       "      <td>0.048342</td>\n",
       "      <td>0.141159</td>\n",
       "      <td>0.039284</td>\n",
       "      <td>77.777778</td>\n",
       "      <td>77.777778</td>\n",
       "      <td>55.555556</td>\n",
       "    </tr>\n",
       "    <tr>\n",
       "      <th>3</th>\n",
       "      <td>31-40</td>\n",
       "      <td>9</td>\n",
       "      <td>0.509259</td>\n",
       "      <td>0.461291</td>\n",
       "      <td>0.557057</td>\n",
       "      <td>0.229469</td>\n",
       "      <td>0.166667</td>\n",
       "      <td>0.097855</td>\n",
       "      <td>0.271366</td>\n",
       "      <td>0.078567</td>\n",
       "      <td>80.000000</td>\n",
       "      <td>77.777778</td>\n",
       "      <td>44.444444</td>\n",
       "    </tr>\n",
       "    <tr>\n",
       "      <th>4</th>\n",
       "      <td>41-50</td>\n",
       "      <td>19</td>\n",
       "      <td>0.557018</td>\n",
       "      <td>0.523942</td>\n",
       "      <td>0.589594</td>\n",
       "      <td>0.181571</td>\n",
       "      <td>0.236842</td>\n",
       "      <td>0.175360</td>\n",
       "      <td>0.311964</td>\n",
       "      <td>0.037216</td>\n",
       "      <td>80.000000</td>\n",
       "      <td>78.947368</td>\n",
       "      <td>47.368421</td>\n",
       "    </tr>\n",
       "    <tr>\n",
       "      <th>5</th>\n",
       "      <td>51-60</td>\n",
       "      <td>6</td>\n",
       "      <td>0.444444</td>\n",
       "      <td>0.387049</td>\n",
       "      <td>0.503370</td>\n",
       "      <td>0.217113</td>\n",
       "      <td>0.333333</td>\n",
       "      <td>0.215445</td>\n",
       "      <td>0.477649</td>\n",
       "      <td>0.000000</td>\n",
       "      <td>80.000000</td>\n",
       "      <td>66.666667</td>\n",
       "      <td>83.333333</td>\n",
       "    </tr>\n",
       "    <tr>\n",
       "      <th>6</th>\n",
       "      <td>&gt;60</td>\n",
       "      <td>10</td>\n",
       "      <td>0.450000</td>\n",
       "      <td>0.405187</td>\n",
       "      <td>0.495642</td>\n",
       "      <td>0.246798</td>\n",
       "      <td>0.050000</td>\n",
       "      <td>0.020893</td>\n",
       "      <td>0.123075</td>\n",
       "      <td>0.070711</td>\n",
       "      <td>87.500000</td>\n",
       "      <td>90.000000</td>\n",
       "      <td>80.000000</td>\n",
       "    </tr>\n",
       "  </tbody>\n",
       "</table>\n",
       "</div>"
      ],
      "text/plain": [
       "    Group  Participants   Success  Jeff_low  Jeff_high       std  \\\n",
       "0  Global            65  0.515385  0.497482   0.533248  0.165372   \n",
       "1     <21             1  0.250000  0.148702   0.390965  0.452267   \n",
       "2   21-30            18  0.555556  0.521566   0.589032  0.195344   \n",
       "3   31-40             9  0.509259  0.461291   0.557057  0.229469   \n",
       "4   41-50            19  0.557018  0.523942   0.589594  0.181571   \n",
       "5   51-60             6  0.444444  0.387049   0.503370  0.217113   \n",
       "6     >60            10  0.450000  0.405187   0.495642  0.246798   \n",
       "\n",
       "   comb_Success  comb_Jeff_low  comb_Jeff_high  comb_std  interactivity  \\\n",
       "0      0.161538       0.131907        0.196355  0.010879      80.952381   \n",
       "1      0.000000       0.000000        0.354158  0.000000       0.000000   \n",
       "2      0.083333       0.048342        0.141159  0.039284      77.777778   \n",
       "3      0.166667       0.097855        0.271366  0.078567      80.000000   \n",
       "4      0.236842       0.175360        0.311964  0.037216      80.000000   \n",
       "5      0.333333       0.215445        0.477649  0.000000      80.000000   \n",
       "6      0.050000       0.020893        0.123075  0.070711      87.500000   \n",
       "\n",
       "       useful       sound  \n",
       "0   78.461538   56.923077  \n",
       "1  100.000000  100.000000  \n",
       "2   77.777778   55.555556  \n",
       "3   77.777778   44.444444  \n",
       "4   78.947368   47.368421  \n",
       "5   66.666667   83.333333  \n",
       "6   90.000000   80.000000  "
      ]
     },
     "execution_count": 88,
     "metadata": {},
     "output_type": "execute_result"
    }
   ],
   "source": [
    "data = pd.read_csv(\"ViewCube_Stats-age.csv\", delimiter=',')\n",
    "data"
   ]
  },
  {
   "cell_type": "code",
   "execution_count": 89,
   "id": "6e45d949",
   "metadata": {},
   "outputs": [
    {
     "data": {
      "text/plain": [
       "['Global', '<21', '21-30', '31-40', '41-50', '51-60', '>60']"
      ]
     },
     "execution_count": 89,
     "metadata": {},
     "output_type": "execute_result"
    }
   ],
   "source": [
    "column_list"
   ]
  },
  {
   "cell_type": "code",
   "execution_count": 90,
   "id": "a1c00836",
   "metadata": {},
   "outputs": [
    {
     "data": {
      "text/plain": [
       "0    0.515385\n",
       "1    0.250000\n",
       "2    0.555556\n",
       "3    0.509259\n",
       "4    0.557018\n",
       "5    0.444444\n",
       "6    0.450000\n",
       "Name: Success, dtype: float64"
      ]
     },
     "execution_count": 90,
     "metadata": {},
     "output_type": "execute_result"
    }
   ],
   "source": [
    "means = data['Success']\n",
    "means"
   ]
  },
  {
   "cell_type": "code",
   "execution_count": 122,
   "id": "5d726f86",
   "metadata": {},
   "outputs": [
    {
     "data": {
      "text/plain": [
       "0    0.161538\n",
       "1    0.000000\n",
       "2    0.083333\n",
       "3    0.166667\n",
       "4    0.236842\n",
       "5    0.333333\n",
       "6    0.050000\n",
       "Name: comb_Success, dtype: float64"
      ]
     },
     "execution_count": 122,
     "metadata": {},
     "output_type": "execute_result"
    }
   ],
   "source": [
    "comb = data['comb_Success']\n",
    "comb"
   ]
  },
  {
   "cell_type": "code",
   "execution_count": 91,
   "id": "8c2652e0",
   "metadata": {},
   "outputs": [
    {
     "data": {
      "text/plain": [
       "0    Global\n",
       "1       <21\n",
       "2     21-30\n",
       "3     31-40\n",
       "4     41-50\n",
       "5     51-60\n",
       "6       >60\n",
       "Name: Group, dtype: object"
      ]
     },
     "execution_count": 91,
     "metadata": {},
     "output_type": "execute_result"
    }
   ],
   "source": [
    "labels = data['Group']\n",
    "labels"
   ]
  },
  {
   "cell_type": "code",
   "execution_count": 92,
   "id": "ed7bce2e",
   "metadata": {},
   "outputs": [
    {
     "data": {
      "text/plain": [
       "0    65\n",
       "1     1\n",
       "2    18\n",
       "3     9\n",
       "4    19\n",
       "5     6\n",
       "6    10\n",
       "Name: Participants, dtype: int64"
      ]
     },
     "execution_count": 92,
     "metadata": {},
     "output_type": "execute_result"
    }
   ],
   "source": [
    "participants = data['Participants']\n",
    "participants"
   ]
  },
  {
   "cell_type": "markdown",
   "id": "57a7b984",
   "metadata": {},
   "source": [
    "## Success rate: <21 | 21-30 | 31-40 | 41-50 | 51-60 | >60"
   ]
  },
  {
   "cell_type": "code",
   "execution_count": 93,
   "id": "04e73213",
   "metadata": {},
   "outputs": [
    {
     "data": {
      "image/png": "[encoded data removed]",
      "text/plain": [
       "<Figure size 2800x1200 with 1 Axes>"
      ]
     },
     "metadata": {
      "needs_background": "light"
     },
     "output_type": "display_data"
    }
   ],
   "source": [
    "fig, ax = plt.subplots(figsize=(14,6),dpi=200)\n",
    "x = np.arange(len(labels))\n",
    "bar_width = .9\n",
    "rects1 = ax.bar(1 - bar_width/2, means[1] , bar_width, yerr=data['std'][1], \n",
    "                label=labels[1] + \" (\" + str(participants[1]) + \" participants)\",color='mediumorchid', align='center',ecolor='black',capsize=10)\n",
    "rects2 = ax.bar(2 - bar_width/2, means[2] , bar_width, yerr=data['std'][2], \n",
    "                label=labels[2] + \" (\" + str(participants[2]) + \" participants)\", color='lightgreen', align='center',ecolor='black',capsize=10)\n",
    "rects3 = ax.bar(3 - bar_width/2, means[3] , bar_width, yerr=data['std'][3], \n",
    "                label=labels[3] + \" (\" + str(participants[3]) + \" participants)\", color = 'palevioletred', align='center',ecolor='black',capsize=10)\n",
    "rects4 = ax.bar(4 - bar_width/2, means[4] , bar_width, yerr=data['std'][4], \n",
    "                label=labels[4] + \" (\" + str(participants[4]) + \" participants)\", color = 'orange', align='center',ecolor='black',capsize=10)\n",
    "rects5 = ax.bar(5 - bar_width/2, means[5] , bar_width, yerr=data['std'][5], \n",
    "                label=labels[5] + \" (\" + str(participants[5]) + \" participants)\", color = 'gold', align='center',ecolor='black',capsize=10)\n",
    "rects6 = ax.bar(6 - bar_width/2, means[6] , bar_width, yerr=data['std'][6], \n",
    "                label=labels[6] + \" (\" + str(participants[4]) + \" participants)\", color = 'lightskyblue', align='center',ecolor='black',capsize=10)\n",
    "\n",
    "\n",
    "\n",
    "ax.set_ylabel('Average success rate',size=12)\n",
    "ax.yaxis.set_minor_locator(AutoMinorLocator())\n",
    "ax.add_patch(Rectangle((0.46, data['Jeff_low'][1]), \n",
    "                       0.18, data['Jeff_high'][1]-data['Jeff_low'][1],\n",
    "                       alpha=0.5,color='black'))\n",
    "ax.add_patch(Rectangle((1.46, data['Jeff_low'][2]), \n",
    "                       0.18, data['Jeff_high'][2]-data['Jeff_low'][2],\n",
    "                       alpha=0.5,color='black'))\n",
    "ax.add_patch(Rectangle((2.46, data['Jeff_low'][3]), \n",
    "                       0.18, data['Jeff_high'][3]-data['Jeff_low'][3],\n",
    "                       alpha=0.5,color='black'))\n",
    "ax.add_patch(Rectangle((3.46, data['Jeff_low'][4]), \n",
    "                       0.18, data['Jeff_high'][4]-data['Jeff_low'][4],\n",
    "                       alpha=0.5,color='black'))\n",
    "ax.add_patch(Rectangle((4.46, data['Jeff_low'][5]), \n",
    "                       0.18, data['Jeff_high'][5]-data['Jeff_low'][5],\n",
    "                       alpha=0.5,color='black'))\n",
    "ax.add_patch(Rectangle((5.46, data['Jeff_low'][6]), \n",
    "                       0.18, data['Jeff_high'][6]-data['Jeff_low'][6],\n",
    "                       alpha=0.5,color='black'))\n",
    "ax.set_xticks([])\n",
    "ax.set_xticklabels([])\n",
    "ax.legend(fontsize=10,loc='lower right')\n",
    "#plt.savefig('ViewCube_plot1.png')\n",
    "plt.show()"
   ]
  },
  {
   "cell_type": "markdown",
   "id": "a7fc72b6",
   "metadata": {},
   "source": [
    "## Combined questions"
   ]
  },
  {
   "cell_type": "code",
   "execution_count": 94,
   "id": "0d7a9fb1",
   "metadata": {},
   "outputs": [],
   "source": [
    "graph1 = [G21.describe(), G21_30.describe(), G31_40.describe(), G41_50.describe(), G51_60.describe(), G_60.describe()]\n",
    "graph2 = [G21_combined.describe(), G21_30_combined.describe(), G31_40_combined.describe(), G41_50_combined.describe(), G51_60_combined.describe(), G_60_combined.describe()]"
   ]
  },
  {
   "cell_type": "code",
   "execution_count": 95,
   "id": "d1c168a8",
   "metadata": {
    "scrolled": true
   },
   "outputs": [
    {
     "data": {
      "image/png": "[encoded data removed]",
      "text/plain": [
       "<Figure size 3200x1200 with 2 Axes>"
      ]
     },
     "metadata": {
      "needs_background": "light"
     },
     "output_type": "display_data"
    }
   ],
   "source": [
    "medianprops = dict(linestyle='-', linewidth=3.5, color='black')\n",
    "labels_1 = [\"<21\", \"21-30\", \"31-40\", \"41-50\",\"51-60\", \">60\"]\n",
    "fig, ax = plt.subplots(1, 2, figsize=(16,6), dpi=200)\n",
    "ax[0].boxplot(graph1, '', medianprops=medianprops)\n",
    "ax[0].set_xticklabels(labels_1, fontsize=20)\n",
    "ax[0].tick_params(which='major', width=1.0, labelsize=18)\n",
    "ax[0].set_title(\"Preguntas simples por grupo de edad\", size=18)\n",
    "ax[0].set_ylim(-0.03, 1.03)\n",
    "\n",
    "ax[0].set_ylabel('Tasa de acierto promedio',size=20)\n",
    "\n",
    "ax[1].boxplot(graph2, '', medianprops=medianprops)\n",
    "ax[1].set_xticklabels(labels_1, fontsize=20)\n",
    "ax[1].tick_params(which='major', width=1.0, labelsize=18)\n",
    "ax[1].set_title(\"Preguntas combinadas por grupo de edad\", size=18)\n",
    "ax[1].set_ylim(-0.01, 0.36)\n",
    "ax[1].set_ylabel('Tasa de acierto promedio',size=20)\n",
    "\n",
    "ax[0].axhline(y=0.34, color='black', linestyle='--')\n",
    "ax[1].axhline(y=0.2, color='black', linestyle='--')\n",
    "\n",
    "\n",
    "plt.savefig('ViewCube_Ages-THESIS.png')\n",
    "\n",
    "plt.show()"
   ]
  },
  {
   "cell_type": "code",
   "execution_count": 96,
   "id": "2c9158d2",
   "metadata": {},
   "outputs": [
    {
     "data": {
      "text/plain": [
       "array([0, 1, 0, 0, 0, 1, 0, 0, 1, 0, 0, 0])"
      ]
     },
     "execution_count": 96,
     "metadata": {},
     "output_type": "execute_result"
    }
   ],
   "source": [
    "G21_correct"
   ]
  },
  {
   "cell_type": "code",
   "execution_count": 97,
   "id": "59401df9",
   "metadata": {},
   "outputs": [
    {
     "data": {
      "text/plain": [
       "array([0, 0])"
      ]
     },
     "execution_count": 97,
     "metadata": {},
     "output_type": "execute_result"
    }
   ],
   "source": [
    "G21_combined_correct"
   ]
  },
  {
   "cell_type": "code",
   "execution_count": 98,
   "id": "45e7e532",
   "metadata": {},
   "outputs": [],
   "source": [
    "G21 = np.concatenate((G21_correct, G21_combined_correct))\n",
    "G21_30 = np.concatenate((G21_30_correct, G21_30_combined_correct))\n",
    "G31_40 = np.concatenate((G31_40_correct, G31_40_combined_correct))\n",
    "G41_50 = np.concatenate((G41_50_correct, G41_50_combined_correct))\n",
    "G51_60 = np.concatenate((G51_60_correct, G51_60_combined_correct))\n",
    "G60 = np.concatenate((G_60_correct, G_60_combined_correct))"
   ]
  },
  {
   "cell_type": "markdown",
   "id": "c9ac314e",
   "metadata": {},
   "source": [
    "# Normality - simple questions"
   ]
  },
  {
   "cell_type": "code",
   "execution_count": 99,
   "id": "e149ab56",
   "metadata": {},
   "outputs": [
    {
     "name": "stdout",
     "output_type": "stream",
     "text": [
      "G21 normality: p=7.890827873779926e-06\n",
      "G21-30 normality: p=0.8666179776191711\n",
      "G31-40 normality: p=0.09385979920625687\n",
      "G41-50 normality: p=0.612010657787323\n",
      "G51-60 normality: p=0.24090427160263062\n",
      "G60 normality: p=0.6440741419792175\n"
     ]
    }
   ],
   "source": [
    "from scipy.stats import shapiro\n",
    "\n",
    "# Test normality for each group. p-value<0.05 =>not normally distributed\n",
    "stat1, p0 = shapiro(G21)\n",
    "stat2, p1 = shapiro(G21_30)\n",
    "stat3, p2 = shapiro(G31_40)\n",
    "stat4, p3 = shapiro(G41_50)\n",
    "stat5, p4 = shapiro(G51_60)\n",
    "stat6, p5 = shapiro(G_60)\n",
    "\n",
    "print(f\"G21 normality: p={p0}\")\n",
    "print(f\"G21-30 normality: p={p1}\")\n",
    "print(f\"G31-40 normality: p={p2}\")\n",
    "print(f\"G41-50 normality: p={p3}\")\n",
    "print(f\"G51-60 normality: p={p4}\")\n",
    "print(f\"G60 normality: p={p5}\")"
   ]
  },
  {
   "cell_type": "code",
   "execution_count": 121,
   "id": "55c8fc0d",
   "metadata": {},
   "outputs": [
    {
     "name": "stdout",
     "output_type": "stream",
     "text": [
      "55.56478310039008 9.988704482364706e-11\n"
     ]
    }
   ],
   "source": [
    "from scipy import stats as scistats\n",
    "# Kruskal-Wallis test: kruskal_p_value < 0.05 => reject the null hypothesis => statistical significance\n",
    "H_statistic, kruskal_p_value = scistats.kruskal(G21_correct, G21_30_correct, G31_40_correct, G41_50_correct, G51_60_correct, G_60_correct)\n",
    "print(H_statistic, kruskal_p_value)"
   ]
  },
  {
   "cell_type": "code",
   "execution_count": 101,
   "id": "e1b7ebab",
   "metadata": {},
   "outputs": [
    {
     "name": "stdout",
     "output_type": "stream",
     "text": [
      "                 G21        G21_30    G31_40        G41_50    G51_60      G_60\n",
      "G21     1.000000e+00  6.350705e-08  0.000724  2.583481e-09  0.021776  1.000000\n",
      "G21_30  6.350705e-08  1.000000e+00  1.000000  1.000000e+00  0.106978  0.000014\n",
      "G31_40  7.242208e-04  1.000000e+00  1.000000  3.047382e-01  1.000000  0.023157\n",
      "G41_50  2.583481e-09  1.000000e+00  0.304738  1.000000e+00  0.020608  0.000001\n",
      "G51_60  2.177562e-02  1.069785e-01  1.000000  2.060779e-02  1.000000  0.304136\n",
      "G_60    1.000000e+00  1.392360e-05  0.023157  1.023561e-06  0.304136  1.000000\n"
     ]
    }
   ],
   "source": [
    "import scikit_posthocs as sp\n",
    "# Dunn test without Bonferroni correction (6 comparisons => alpha = 0.05/6 = 0.0083)\n",
    "dunn_result = sp.posthoc_dunn([G21, G21_30, G31_40, G41_50, G51_60, G_60], p_adjust='bonferroni')\n",
    "\n",
    "# Label the groups\n",
    "dunn_result.index = ['G21', 'G21_30', 'G31_40', 'G41_50', 'G51_60', 'G_60']\n",
    "dunn_result.columns = ['G21', 'G21_30', 'G31_40', 'G41_50', 'G51_60', 'G_60']\n",
    "\n",
    "print(dunn_result)"
   ]
  },
  {
   "cell_type": "code",
   "execution_count": 102,
   "id": "a7c28b9e",
   "metadata": {},
   "outputs": [],
   "source": [
    "# Alternative T-test\n",
    "def t_test(counts, questions, null_value):  # Perform a one-sample t-test\n",
    "    sample_mean = np.mean(counts)\n",
    "    n = len(counts)\n",
    "    sample_std = np.std(counts, ddof=1)  # Use sample standard deviation (ddof=1 for unbiased estimate)\n",
    "    standard_error = sample_std / np.sqrt(n)\n",
    "    test_statistic = (sample_mean - null_value) / standard_error\n",
    "    degrees_freedom = n - 1\n",
    "    p_value = scistats.t.sf(np.abs(test_statistic), df=degrees_freedom) * 2  # Two-tailed p-value\n",
    "    if p_value <= 0.05:\n",
    "        result = \"Reject the null hypothesis. There is statistically significant evidence that the mean is different from the random choice value.\"\n",
    "    else:\n",
    "        result = \"Fail to reject the null hypothesis. There is not enough statistically significant evidence that the mean is different from the random choice value.\"\n",
    "\n",
    "    return test_statistic, p_value, degrees_freedom"
   ]
  },
  {
   "cell_type": "code",
   "execution_count": 103,
   "id": "68f6f8bf",
   "metadata": {},
   "outputs": [],
   "source": [
    "questions = 12\n",
    "null_value = 0.34"
   ]
  },
  {
   "cell_type": "code",
   "execution_count": 106,
   "id": "eff25f0f",
   "metadata": {},
   "outputs": [
    {
     "data": {
      "text/plain": [
       "(-0.6893475175845635, 0.5048862286389315, 11)"
      ]
     },
     "execution_count": 106,
     "metadata": {},
     "output_type": "execute_result"
    }
   ],
   "source": [
    "t_test(G21_correct, questions, null_value)"
   ]
  },
  {
   "cell_type": "code",
   "execution_count": 107,
   "id": "c3ef0c07",
   "metadata": {},
   "outputs": [
    {
     "data": {
      "text/plain": [
       "(9.516880976948894, 1.209824768859406e-06, 11)"
      ]
     },
     "execution_count": 107,
     "metadata": {},
     "output_type": "execute_result"
    }
   ],
   "source": [
    "t_test(G21_30_correct, questions, null_value)"
   ]
  },
  {
   "cell_type": "code",
   "execution_count": 114,
   "id": "5c3622f1",
   "metadata": {},
   "outputs": [
    {
     "data": {
      "text/plain": [
       "(2.6, 0.2337501225046868, 1)"
      ]
     },
     "execution_count": 114,
     "metadata": {},
     "output_type": "execute_result"
    }
   ],
   "source": [
    "t_test(G21_30_combined_correct, 2, 0.2)"
   ]
  },
  {
   "cell_type": "code",
   "execution_count": 108,
   "id": "33096b38",
   "metadata": {},
   "outputs": [
    {
     "data": {
      "text/plain": [
       "(7.117550220178801, 1.9485047393498035e-05, 11)"
      ]
     },
     "execution_count": 108,
     "metadata": {},
     "output_type": "execute_result"
    }
   ],
   "source": [
    "t_test(G31_40_correct, questions, null_value)"
   ]
  },
  {
   "cell_type": "code",
   "execution_count": 115,
   "id": "1d02d73c",
   "metadata": {},
   "outputs": [
    {
     "data": {
      "text/plain": [
       "(2.6, 0.2337501225046868, 1)"
      ]
     },
     "execution_count": 115,
     "metadata": {},
     "output_type": "execute_result"
    }
   ],
   "source": [
    "t_test(G31_40_combined_correct, 2, 0.2)"
   ]
  },
  {
   "cell_type": "code",
   "execution_count": 109,
   "id": "3caaa60c",
   "metadata": {},
   "outputs": [
    {
     "data": {
      "text/plain": [
       "(10.285627727399929, 5.575627576957562e-07, 11)"
      ]
     },
     "execution_count": 109,
     "metadata": {},
     "output_type": "execute_result"
    }
   ],
   "source": [
    "t_test(G41_50_correct, questions, null_value)"
   ]
  },
  {
   "cell_type": "code",
   "execution_count": 116,
   "id": "e1becff0",
   "metadata": {},
   "outputs": [
    {
     "data": {
      "text/plain": [
       "(8.6, 0.07369460683487182, 1)"
      ]
     },
     "execution_count": 116,
     "metadata": {},
     "output_type": "execute_result"
    }
   ],
   "source": [
    "t_test(G41_50_combined_correct, 2, 0.2)"
   ]
  },
  {
   "cell_type": "code",
   "execution_count": 110,
   "id": "8491dcbc",
   "metadata": {},
   "outputs": [
    {
     "data": {
      "text/plain": [
       "(6.18710871778687, 6.839192270991123e-05, 11)"
      ]
     },
     "execution_count": 110,
     "metadata": {},
     "output_type": "execute_result"
    }
   ],
   "source": [
    "t_test(G51_60_correct, questions, null_value)"
   ]
  },
  {
   "cell_type": "code",
   "execution_count": 120,
   "id": "5954b2aa",
   "metadata": {},
   "outputs": [
    {
     "data": {
      "text/plain": [
       "array([2, 2])"
      ]
     },
     "execution_count": 120,
     "metadata": {},
     "output_type": "execute_result"
    }
   ],
   "source": [
    "G51_60_combined_correct"
   ]
  },
  {
   "cell_type": "code",
   "execution_count": 117,
   "id": "5242b242",
   "metadata": {},
   "outputs": [
    {
     "name": "stderr",
     "output_type": "stream",
     "text": [
      "/var/folders/jw/nr9685ns4r32q0t030hxmzlw0000gn/T/ipykernel_16333/3552082184.py:7: RuntimeWarning: divide by zero encountered in double_scalars\n",
      "  test_statistic = (sample_mean - null_value) / standard_error\n"
     ]
    },
    {
     "data": {
      "text/plain": [
       "(inf, 0.0, 1)"
      ]
     },
     "execution_count": 117,
     "metadata": {},
     "output_type": "execute_result"
    }
   ],
   "source": [
    "t_test(G51_60_combined_correct, 2, 0.2)"
   ]
  },
  {
   "cell_type": "code",
   "execution_count": 111,
   "id": "9f9536b8",
   "metadata": {},
   "outputs": [
    {
     "data": {
      "text/plain": [
       "(5.839059421291509, 0.00011267256119333836, 11)"
      ]
     },
     "execution_count": 111,
     "metadata": {},
     "output_type": "execute_result"
    }
   ],
   "source": [
    "t_test(G_60_correct, questions, null_value)"
   ]
  },
  {
   "cell_type": "code",
   "execution_count": 118,
   "id": "768d31c7",
   "metadata": {},
   "outputs": [
    {
     "data": {
      "text/plain": [
       "(0.6, 0.6559582607547387, 1)"
      ]
     },
     "execution_count": 118,
     "metadata": {},
     "output_type": "execute_result"
    }
   ],
   "source": [
    "t_test(G_60_combined_correct, 2, 0.2)"
   ]
  }
 ],
 "metadata": {
  "kernelspec": {
   "display_name": "Python 3 (ipykernel)",
   "language": "python",
   "name": "python3"
  },
  "language_info": {
   "codemirror_mode": {
    "name": "ipython",
    "version": 3
   },
   "file_extension": ".py",
   "mimetype": "text/x-python",
   "name": "python",
   "nbconvert_exporter": "python",
   "pygments_lexer": "ipython3",
   "version": "3.9.6"
  }
 },
 "nbformat": 4,
 "nbformat_minor": 5
}
