{
 "cells": [
  {
   "cell_type": "code",
   "execution_count": 1,
   "id": "b841a44f",
   "metadata": {},
   "outputs": [],
   "source": [
    "import numpy as np\n",
    "import astropy\n",
    "import statistics\n",
    "from scipy import stats as scistats\n",
    "from scipy.stats import wilcoxon\n",
    "from scipy.stats import binomtest\n",
    "from scipy.stats import f_oneway\n",
    "from scipy.stats import ttest_ind\n",
    "from scipy.stats import mannwhitneyu\n",
    "from scipy.stats import friedmanchisquare\n",
    "import scikit_posthocs as sp\n",
    "from scipy.stats import shapiro\n",
    "\n",
    "from astropy import stats\n",
    "from statistics import multimode"
   ]
  },
  {
   "cell_type": "code",
   "execution_count": 2,
   "id": "b8cf8c1e",
   "metadata": {},
   "outputs": [],
   "source": [
    "correct = np.load('correct.npy') #Counts of correct answers by question\n",
    "experts_correct = np.load('experts_correct.npy')\n",
    "nonexperts_correct = np.load('nonexperts_correct.npy')\n",
    "astromus_correct = np.load('astromus_correct.npy')\n",
    "mus_correct = np.load('mus_correct.npy')\n",
    "astro_correct = np.load('astro_correct.npy')\n",
    "nonexperts_4_correct = np.load('nonexperts_4_correct.npy')\n",
    "blv_correct = np.load('blv_correct.npy')\n",
    "nonblv_correct = np.load('nonblv_correct.npy')"
   ]
  },
  {
   "cell_type": "code",
   "execution_count": 3,
   "id": "a116f5dd",
   "metadata": {},
   "outputs": [],
   "source": [
    "grades = np.load('grades.npy') #Counts of correct answers by participant\n",
    "grades_experts = np.load('grades_experts.npy')\n",
    "grades_nonexperts = np.load('grades_nonexperts.npy')\n",
    "grades_astromus = np.load('grades_astromus.npy')\n",
    "grades_mus = np.load('grades_mus.npy')\n",
    "grades_astro = np.load('grades_astro.npy')\n",
    "grades_nonexperts_4 = np.load('grades_nonexperts_4.npy')\n",
    "grades_nonblv = np.load('grades_nonblv.npy')\n",
    "grades_nonblv = np.load('grades_nonblv.npy')"
   ]
  },
  {
   "cell_type": "code",
   "execution_count": 4,
   "id": "b8c5c041",
   "metadata": {},
   "outputs": [],
   "source": [
    "combined_correct = np.load('combined_correct.npy')\n",
    "experts_combined_correct = np.load('experts_combined_correct.npy')\n",
    "nonexperts_combined_correct = np.load('nonexperts_combined_correct.npy')\n",
    "astromus_combined_correct = np.load('astromus_combined_correct.npy')\n",
    "mus_combined_correct = np.load('mus_combined_correct.npy')\n",
    "astro_combined_correct = np.load('astro_combined_correct.npy')\n",
    "nonexperts_4_combined_correct = np.load('nonexperts_4_combined_correct.npy')\n",
    "blv_combined_correct = np.load('blv_combined_correct.npy')\n",
    "nonblv_combined_correct = np.load('nonblv_combined_correct.npy')"
   ]
  },
  {
   "cell_type": "code",
   "execution_count": 5,
   "id": "d8f305c3",
   "metadata": {},
   "outputs": [],
   "source": [
    "groups = [\"Global\", \"Experienced\", \"Non-experienced\", \"Astro\", \"Mus\", \"Astromus\", \"Nothing\",\"BLV\", \"Non-BLV-2\"]\n",
    "counts = [correct, experts_correct, nonexperts_correct, astro_correct, mus_correct, astromus_correct, nonexperts_4_correct]\n",
    "participants = np.load('participants.npy')"
   ]
  },
  {
   "cell_type": "code",
   "execution_count": 6,
   "id": "be1c1f6d",
   "metadata": {},
   "outputs": [
    {
     "data": {
      "text/plain": [
       "12"
      ]
     },
     "execution_count": 6,
     "metadata": {},
     "output_type": "execute_result"
    }
   ],
   "source": [
    "questions = len(correct)\n",
    "questions"
   ]
  },
  {
   "cell_type": "code",
   "execution_count": 7,
   "id": "8f1b92ec",
   "metadata": {},
   "outputs": [],
   "source": [
    "null_value = 0.34"
   ]
  },
  {
   "cell_type": "markdown",
   "id": "b9504540",
   "metadata": {},
   "source": [
    "# Statistics"
   ]
  },
  {
   "cell_type": "code",
   "execution_count": 8,
   "id": "93b5c18b",
   "metadata": {},
   "outputs": [],
   "source": [
    "#mean, median, mode\n",
    "def calculations(counts, participants, questions):\n",
    "    print(\"Participants:\", participants)\n",
    "    print(counts)\n",
    "    mean = np.round(np.mean(counts/participants), 4) #overall average success rate\n",
    "    median = np.round(np.median(counts/participants), 4) #median \n",
    "    mode = multimode(np.round(counts, 2))\n",
    "    return mean, median, mode"
   ]
  },
  {
   "cell_type": "code",
   "execution_count": 9,
   "id": "8b1ecd38",
   "metadata": {},
   "outputs": [
    {
     "data": {
      "text/plain": [
       "0.34"
      ]
     },
     "execution_count": 9,
     "metadata": {},
     "output_type": "execute_result"
    }
   ],
   "source": [
    "null_value"
   ]
  },
  {
   "cell_type": "code",
   "execution_count": 10,
   "id": "333594ec",
   "metadata": {},
   "outputs": [],
   "source": [
    "# Wilcoxon test. Calculates if the observed overall average success rate\n",
    "#is statistically significantly higher than chance.\n",
    "\n",
    "def wilcoxon_test(counts, participants, null_value):\n",
    "    observed_proportions = [x/participants for x in counts]\n",
    "    # Compute differences from the null value\n",
    "    differences = [x - null_value for x in observed_proportions]\n",
    "    # Perform the Wilcoxon signed-rank test\n",
    "    # alternative='greater' tests whether the median is significantly greater than the null\n",
    "    test_statistic, p_value = wilcoxon(differences, alternative='greater')\n",
    "    # Output results\n",
    "    print(\"Success rates:\", observed_proportions)\n",
    "    print(\"Test statistic (W):\", test_statistic)\n",
    "    print(\"p-value (one-sided):\", p_value)\n",
    "    if p_value <= 0.05:\n",
    "        print(\"Conclusion: Statistically significant\")\n",
    "    else:\n",
    "        print(\"Conclusion: Not statistically significant\")\n",
    "    return test_statistic, p_value"
   ]
  },
  {
   "cell_type": "code",
   "execution_count": 11,
   "id": "ff1db954",
   "metadata": {},
   "outputs": [],
   "source": [
    "# Alternative Binomial test\n",
    "def binom_test(counts, participants, questions, null_value, less_or_greater):\n",
    "    questions = questions-2\n",
    "    test = binomtest(np.sum(counts), participants*questions, p=null_value, alternative=less_or_greater)\n",
    "    if test.pvalue<0.05:\n",
    "        print(\"Statistically significant\")\n",
    "    else:\n",
    "        print(\"Not statistically significant\")\n",
    "    return test"
   ]
  },
  {
   "cell_type": "code",
   "execution_count": 12,
   "id": "11d42c28",
   "metadata": {},
   "outputs": [],
   "source": [
    "# Alternative T-test\n",
    "def t_test(counts, questions, null_value):  # Perform a one-sample t-test\n",
    "    sample_mean = np.mean(counts)\n",
    "    n = len(counts)\n",
    "    sample_std = np.std(counts, ddof=1)  # Use sample standard deviation (ddof=1 for unbiased estimate)\n",
    "    standard_error = sample_std / np.sqrt(n)\n",
    "    test_statistic = (sample_mean - null_value) / standard_error\n",
    "    degrees_freedom = n - 1\n",
    "    p_value = scistats.t.sf(np.abs(test_statistic), df=degrees_freedom) * 2  # Two-tailed p-value\n",
    "    if p_value <= 0.05:\n",
    "        result = \"Reject the null hypothesis. There is statistically significant evidence that the mean is different from the random choice value.\"\n",
    "    else:\n",
    "        result = \"Fail to reject the null hypothesis. There is not enough statistically significant evidence that the mean is different from the random choice value.\"\n",
    "\n",
    "    return test_statistic, p_value"
   ]
  },
  {
   "cell_type": "markdown",
   "id": "9096e381",
   "metadata": {},
   "source": [
    "# 1- Are the overall average success rates observed significant vs chance?"
   ]
  },
  {
   "cell_type": "code",
   "execution_count": 13,
   "id": "ecde983f",
   "metadata": {},
   "outputs": [
    {
     "name": "stdout",
     "output_type": "stream",
     "text": [
      "Participants: 65\n",
      "[30 57 25 25 39 42 34 43 31 16 26 34]\n"
     ]
    },
    {
     "data": {
      "text/plain": [
       "(0.5154, 0.5, [25, 34])"
      ]
     },
     "execution_count": 13,
     "metadata": {},
     "output_type": "execute_result"
    }
   ],
   "source": [
    "calculations(correct, participants[0], questions)"
   ]
  },
  {
   "cell_type": "code",
   "execution_count": 14,
   "id": "40a7f6ec",
   "metadata": {},
   "outputs": [
    {
     "data": {
      "text/plain": [
       "(10.686333220641977, 3.79373231727064e-07)"
      ]
     },
     "execution_count": 14,
     "metadata": {},
     "output_type": "execute_result"
    }
   ],
   "source": [
    "t_test(correct, questions, null_value)"
   ]
  },
  {
   "cell_type": "markdown",
   "id": "ff734536",
   "metadata": {},
   "source": [
    "### Conclusion: All the overall average success rates observed with the exception of the astronomers group are significantly higher than the random choice probability"
   ]
  },
  {
   "cell_type": "code",
   "execution_count": 15,
   "id": "a3631b7e",
   "metadata": {
    "scrolled": true
   },
   "outputs": [
    {
     "name": "stdout",
     "output_type": "stream",
     "text": [
      "Participants: 29\n",
      "[15 26 11 14 20 20 16 22 15  7 12 15]\n"
     ]
    },
    {
     "data": {
      "text/plain": [
       "(0.5546, 0.5172, [15])"
      ]
     },
     "execution_count": 15,
     "metadata": {},
     "output_type": "execute_result"
    }
   ],
   "source": [
    "calculations(experts_correct, participants[1], questions)"
   ]
  },
  {
   "cell_type": "code",
   "execution_count": 16,
   "id": "698e7892",
   "metadata": {},
   "outputs": [
    {
     "data": {
      "text/plain": [
       "(10.497028305938942, 4.5436676622038175e-07)"
      ]
     },
     "execution_count": 16,
     "metadata": {},
     "output_type": "execute_result"
    }
   ],
   "source": [
    "t_test(experts_correct, questions, null_value)"
   ]
  },
  {
   "cell_type": "code",
   "execution_count": 17,
   "id": "722429af",
   "metadata": {},
   "outputs": [
    {
     "name": "stdout",
     "output_type": "stream",
     "text": [
      "Participants: 31\n",
      "[12 26 11  9 17 21 16 19 14  7 13 14]\n"
     ]
    },
    {
     "data": {
      "text/plain": [
       "(0.4812, 0.4516, [14])"
      ]
     },
     "execution_count": 17,
     "metadata": {},
     "output_type": "execute_result"
    }
   ],
   "source": [
    "calculations(nonexperts_correct, participants[2], questions)"
   ]
  },
  {
   "cell_type": "code",
   "execution_count": 18,
   "id": "95e33ea3",
   "metadata": {},
   "outputs": [
    {
     "data": {
      "text/plain": [
       "(9.528499559614136, 1.1952989449600024e-06)"
      ]
     },
     "execution_count": 18,
     "metadata": {},
     "output_type": "execute_result"
    }
   ],
   "source": [
    "t_test(nonexperts_correct, questions, null_value)"
   ]
  },
  {
   "cell_type": "code",
   "execution_count": null,
   "id": "86518a34",
   "metadata": {},
   "outputs": [],
   "source": []
  },
  {
   "cell_type": "code",
   "execution_count": 19,
   "id": "e55bedc2",
   "metadata": {},
   "outputs": [
    {
     "name": "stdout",
     "output_type": "stream",
     "text": [
      "Participants: 12\n",
      "[ 6 12  5  5  7  9  6 10  5  6  7  6]\n"
     ]
    },
    {
     "data": {
      "text/plain": [
       "(0.5833, 0.5, [6])"
      ]
     },
     "execution_count": 19,
     "metadata": {},
     "output_type": "execute_result"
    }
   ],
   "source": [
    "calculations(astro_correct, participants[4], questions)"
   ]
  },
  {
   "cell_type": "code",
   "execution_count": 20,
   "id": "872f2cc3",
   "metadata": {},
   "outputs": [
    {
     "data": {
      "text/plain": [
       "(10.412722986808014, 4.928042565582745e-07)"
      ]
     },
     "execution_count": 20,
     "metadata": {},
     "output_type": "execute_result"
    }
   ],
   "source": [
    "t_test(astro_correct, questions, null_value)"
   ]
  },
  {
   "cell_type": "code",
   "execution_count": 21,
   "id": "2ca49be8",
   "metadata": {},
   "outputs": [
    {
     "name": "stdout",
     "output_type": "stream",
     "text": [
      "Participants: 11\n",
      "[3 9 3 5 8 6 6 7 5 0 6 6]\n"
     ]
    },
    {
     "data": {
      "text/plain": [
       "(0.4848, 0.5455, [6])"
      ]
     },
     "execution_count": 21,
     "metadata": {},
     "output_type": "execute_result"
    }
   ],
   "source": [
    "calculations(mus_correct, participants[5], questions)"
   ]
  },
  {
   "cell_type": "code",
   "execution_count": 22,
   "id": "4a0166d7",
   "metadata": {},
   "outputs": [
    {
     "data": {
      "text/plain": [
       "(7.134068690619276, 1.907441655353338e-05)"
      ]
     },
     "execution_count": 22,
     "metadata": {},
     "output_type": "execute_result"
    }
   ],
   "source": [
    "t_test(mus_correct, questions, null_value)"
   ]
  },
  {
   "cell_type": "code",
   "execution_count": 23,
   "id": "7b34d607",
   "metadata": {},
   "outputs": [
    {
     "name": "stdout",
     "output_type": "stream",
     "text": [
      "Participants: 10\n",
      "[7 7 2 5 7 7 7 8 5 1 4 5]\n"
     ]
    },
    {
     "data": {
      "text/plain": [
       "(0.5417, 0.6, [7])"
      ]
     },
     "execution_count": 23,
     "metadata": {},
     "output_type": "execute_result"
    }
   ],
   "source": [
    "calculations(astromus_correct, participants[3], questions)"
   ]
  },
  {
   "cell_type": "code",
   "execution_count": 24,
   "id": "3fc818e1",
   "metadata": {},
   "outputs": [
    {
     "data": {
      "text/plain": [
       "(8.018061344024217, 6.39360095405938e-06)"
      ]
     },
     "execution_count": 24,
     "metadata": {},
     "output_type": "execute_result"
    }
   ],
   "source": [
    "t_test(astromus_correct, questions, null_value)"
   ]
  },
  {
   "cell_type": "code",
   "execution_count": 25,
   "id": "2519d825",
   "metadata": {},
   "outputs": [
    {
     "name": "stdout",
     "output_type": "stream",
     "text": [
      "Participants: 12\n",
      "[ 8 10  5  3  5  9  4  7  7  8  5  9]\n"
     ]
    },
    {
     "data": {
      "text/plain": [
       "(0.5556, 0.5833, [5])"
      ]
     },
     "execution_count": 25,
     "metadata": {},
     "output_type": "execute_result"
    }
   ],
   "source": [
    "calculations(nonexperts_4_correct, participants[6], questions)"
   ]
  },
  {
   "cell_type": "code",
   "execution_count": 26,
   "id": "5053b030",
   "metadata": {},
   "outputs": [
    {
     "data": {
      "text/plain": [
       "(9.831066239967777, 8.7628254858587e-07)"
      ]
     },
     "execution_count": 26,
     "metadata": {},
     "output_type": "execute_result"
    }
   ],
   "source": [
    "t_test(nonexperts_4_correct, questions, null_value)"
   ]
  },
  {
   "cell_type": "markdown",
   "id": "4c733078",
   "metadata": {},
   "source": [
    "## Combined"
   ]
  },
  {
   "cell_type": "code",
   "execution_count": 27,
   "id": "e311123c",
   "metadata": {},
   "outputs": [
    {
     "data": {
      "text/plain": [
       "2"
      ]
     },
     "execution_count": 27,
     "metadata": {},
     "output_type": "execute_result"
    }
   ],
   "source": [
    "null_value_comb = 0.2\n",
    "combined_questions = len(combined_correct)\n",
    "combined_questions"
   ]
  },
  {
   "cell_type": "code",
   "execution_count": 28,
   "id": "a32de8a4",
   "metadata": {},
   "outputs": [
    {
     "data": {
      "text/plain": [
       "array([0.1641791 , 0.14925373])"
      ]
     },
     "execution_count": 28,
     "metadata": {},
     "output_type": "execute_result"
    }
   ],
   "source": [
    "combined_correct/67"
   ]
  },
  {
   "cell_type": "code",
   "execution_count": 29,
   "id": "1ce429b3",
   "metadata": {},
   "outputs": [
    {
     "data": {
      "text/plain": [
       "(20.6, 0.030879631823023113)"
      ]
     },
     "execution_count": 29,
     "metadata": {},
     "output_type": "execute_result"
    }
   ],
   "source": [
    "t_test(combined_correct, combined_questions, null_value_comb)"
   ]
  },
  {
   "cell_type": "code",
   "execution_count": 30,
   "id": "a010618d",
   "metadata": {},
   "outputs": [
    {
     "data": {
      "text/plain": [
       "(1.72, 0.3352613336627147)"
      ]
     },
     "execution_count": 30,
     "metadata": {},
     "output_type": "execute_result"
    }
   ],
   "source": [
    "t_test(experts_combined_correct, combined_questions, null_value_comb)"
   ]
  },
  {
   "cell_type": "code",
   "execution_count": 31,
   "id": "e039c7a0",
   "metadata": {},
   "outputs": [
    {
     "data": {
      "text/plain": [
       "(2.9, 0.21139562263965195)"
      ]
     },
     "execution_count": 31,
     "metadata": {},
     "output_type": "execute_result"
    }
   ],
   "source": [
    "t_test(nonexperts_combined_correct, combined_questions, null_value_comb)"
   ]
  },
  {
   "cell_type": "code",
   "execution_count": 32,
   "id": "c31c3993",
   "metadata": {},
   "outputs": [
    {
     "data": {
      "text/plain": [
       "(2.6, 0.2337501225046868)"
      ]
     },
     "execution_count": 32,
     "metadata": {},
     "output_type": "execute_result"
    }
   ],
   "source": [
    "t_test(astromus_combined_correct, combined_questions, null_value_comb)"
   ]
  },
  {
   "cell_type": "code",
   "execution_count": 33,
   "id": "7a4a3aa1",
   "metadata": {},
   "outputs": [
    {
     "data": {
      "text/plain": [
       "(3.8, 0.16381736484967485)"
      ]
     },
     "execution_count": 33,
     "metadata": {},
     "output_type": "execute_result"
    }
   ],
   "source": [
    "t_test(mus_combined_correct, combined_questions, null_value_comb)"
   ]
  },
  {
   "cell_type": "code",
   "execution_count": 34,
   "id": "cbcf3939",
   "metadata": {},
   "outputs": [
    {
     "data": {
      "text/plain": [
       "(2.6, 0.2337501225046868)"
      ]
     },
     "execution_count": 34,
     "metadata": {},
     "output_type": "execute_result"
    }
   ],
   "source": [
    "t_test(astro_combined_correct, combined_questions, null_value_comb)"
   ]
  },
  {
   "cell_type": "code",
   "execution_count": 35,
   "id": "1d586864",
   "metadata": {},
   "outputs": [
    {
     "data": {
      "text/plain": [
       "(2.9, 0.21139562263965195)"
      ]
     },
     "execution_count": 35,
     "metadata": {},
     "output_type": "execute_result"
    }
   ],
   "source": [
    "t_test(nonexperts_4_combined_correct, combined_questions, null_value_comb)"
   ]
  },
  {
   "cell_type": "code",
   "execution_count": 36,
   "id": "c4981127",
   "metadata": {},
   "outputs": [
    {
     "name": "stderr",
     "output_type": "stream",
     "text": [
      "/var/folders/jw/nr9685ns4r32q0t030hxmzlw0000gn/T/ipykernel_20417/1601646738.py:7: RuntimeWarning: divide by zero encountered in double_scalars\n",
      "  test_statistic = (sample_mean - null_value) / standard_error\n"
     ]
    },
    {
     "data": {
      "text/plain": [
       "(-inf, 0.0)"
      ]
     },
     "execution_count": 36,
     "metadata": {},
     "output_type": "execute_result"
    }
   ],
   "source": [
    "t_test(blv_combined_correct, combined_questions, null_value_comb)"
   ]
  },
  {
   "cell_type": "code",
   "execution_count": 37,
   "id": "f01c6a70",
   "metadata": {},
   "outputs": [
    {
     "name": "stderr",
     "output_type": "stream",
     "text": [
      "/var/folders/jw/nr9685ns4r32q0t030hxmzlw0000gn/T/ipykernel_20417/1601646738.py:7: RuntimeWarning: divide by zero encountered in double_scalars\n",
      "  test_statistic = (sample_mean - null_value) / standard_error\n"
     ]
    },
    {
     "data": {
      "text/plain": [
       "(-inf, 0.0)"
      ]
     },
     "execution_count": 37,
     "metadata": {},
     "output_type": "execute_result"
    }
   ],
   "source": [
    "t_test(nonblv_combined_correct, combined_questions, null_value_comb)"
   ]
  },
  {
   "cell_type": "markdown",
   "id": "db15c8e8",
   "metadata": {},
   "source": [
    "### Conclusion: No statistically significance"
   ]
  },
  {
   "cell_type": "markdown",
   "id": "473da600",
   "metadata": {},
   "source": [
    "# 2- Are the differences observed in the means statistically significant?"
   ]
  },
  {
   "cell_type": "code",
   "execution_count": 38,
   "id": "c1777b7a",
   "metadata": {},
   "outputs": [
    {
     "name": "stdout",
     "output_type": "stream",
     "text": [
      "Estadístico F: 0.2965612104539202\n",
      "Valor p: 0.5915241055705412\n"
     ]
    }
   ],
   "source": [
    "f_stat, p_valor = scistats.f_oneway(experts_correct, nonexperts_correct)\n",
    "\n",
    "print(\"Estadístico F:\", f_stat)\n",
    "print(\"Valor p:\", p_valor)"
   ]
  },
  {
   "cell_type": "code",
   "execution_count": 39,
   "id": "a988538e",
   "metadata": {
    "scrolled": true
   },
   "outputs": [
    {
     "name": "stdout",
     "output_type": "stream",
     "text": [
      "0.4435331000291743 0.5054220894957939\n"
     ]
    }
   ],
   "source": [
    "# Kruskal-Wallis test: kruskal_p_value < 0.05 => reject the null hypothesis => statistical significance\n",
    "H_statistic, kruskal_p_value = scistats.kruskal(experts_correct, nonexperts_correct)\n",
    "print(H_statistic, kruskal_p_value)"
   ]
  },
  {
   "cell_type": "markdown",
   "id": "ae39ff19",
   "metadata": {},
   "source": [
    "### Conclusion: The differences in the means between experts and non experts are not statistically significant."
   ]
  },
  {
   "cell_type": "code",
   "execution_count": 40,
   "id": "4c5386d8",
   "metadata": {},
   "outputs": [
    {
     "name": "stdout",
     "output_type": "stream",
     "text": [
      "0.5445743387765531 0.5915262377562682\n"
     ]
    }
   ],
   "source": [
    "# T-test\n",
    "stat, p_value = ttest_ind(experts_correct, nonexperts_correct, equal_var=False)\n",
    "print(stat, p_value)"
   ]
  },
  {
   "cell_type": "markdown",
   "id": "b7ff4f36",
   "metadata": {},
   "source": [
    "# 3- Are they meaningful?"
   ]
  },
  {
   "cell_type": "code",
   "execution_count": 41,
   "id": "d8b8de07",
   "metadata": {},
   "outputs": [
    {
     "name": "stdout",
     "output_type": "stream",
     "text": [
      "Cohen's d: 0.013990041468784796\n"
     ]
    }
   ],
   "source": [
    "# Cohen's d for Effect Size (T-test). Meaninful: Small effect size d=0.2, medium d=0.5, large d=0.8.\n",
    "\n",
    "# Calculate means and standard deviations\n",
    "mean1 = np.mean(experts_correct/participants[1])\n",
    "mean2 = np.mean(nonexperts_correct/participants[2])\n",
    "std1 = np.std(experts_correct, ddof=1)\n",
    "std2 = np.std(nonexperts_correct, ddof=1)\n",
    "\n",
    "# Calculate Cohen's d\n",
    "cohen_d = (mean1 - mean2) / np.sqrt((std1**2 + std2**2) / 2)\n",
    "print(\"Cohen's d:\", cohen_d)"
   ]
  },
  {
   "cell_type": "markdown",
   "id": "a6cf6ec8",
   "metadata": {},
   "source": [
    "# 4- Subgroup analysis"
   ]
  },
  {
   "cell_type": "code",
   "execution_count": 42,
   "id": "93a34e0a",
   "metadata": {},
   "outputs": [
    {
     "name": "stdout",
     "output_type": "stream",
     "text": [
      "astromus normality: p=0.05495025962591171\n",
      "mus normality: p=0.4459173083305359\n",
      "astro normality: p=0.019538642838597298\n",
      "nonexperts normality: p=0.5632864832878113\n"
     ]
    }
   ],
   "source": [
    "# Test normality for each group. p-value<0.05 =>not normally distributed\n",
    "stat1, p1 = shapiro(astromus_correct)\n",
    "stat2, p2 = shapiro(mus_correct)\n",
    "stat3, p3 = shapiro(astro_correct)\n",
    "stat4, p4 = shapiro(nonexperts_4_correct)\n",
    "\n",
    "print(f\"astromus normality: p={p1}\")\n",
    "print(f\"mus normality: p={p2}\")\n",
    "print(f\"astro normality: p={p3}\")\n",
    "print(f\"nonexperts normality: p={p4}\")"
   ]
  },
  {
   "cell_type": "code",
   "execution_count": 43,
   "id": "4373c160",
   "metadata": {},
   "outputs": [
    {
     "name": "stdout",
     "output_type": "stream",
     "text": [
      "Estadístico F: 1.7003069367710248\n",
      "Valor p: 0.18078967509952268\n"
     ]
    }
   ],
   "source": [
    "f_stat, p_valor = scistats.f_oneway(astromus_correct, mus_correct, astro_correct,nonexperts_4_correct)\n",
    "\n",
    "print(\"Estadístico F:\", f_stat)\n",
    "print(\"Valor p:\", p_valor)"
   ]
  },
  {
   "cell_type": "code",
   "execution_count": 44,
   "id": "da71cd30",
   "metadata": {},
   "outputs": [
    {
     "name": "stdout",
     "output_type": "stream",
     "text": [
      "3.0345483109301394 0.38632911816853377\n"
     ]
    }
   ],
   "source": [
    "# Kruskal-Wallis test: kruskal_p_value < 0.05 => reject the null hypothesis => statistical significance\n",
    "H_statistic, kruskal_p_value = scistats.kruskal(astromus_correct, mus_correct, astro_correct, nonexperts_4_correct)\n",
    "print(H_statistic, kruskal_p_value)"
   ]
  },
  {
   "cell_type": "code",
   "execution_count": 45,
   "id": "9f9fbc55",
   "metadata": {},
   "outputs": [
    {
     "name": "stdout",
     "output_type": "stream",
     "text": [
      "5.037735849056623 0.16905470279825174\n"
     ]
    }
   ],
   "source": [
    "#alternative test: Chi square\n",
    "stat, p_value = friedmanchisquare(astromus_correct, mus_correct, astro_correct, nonexperts_4_correct)\n",
    "print(stat, p_value)"
   ]
  },
  {
   "cell_type": "markdown",
   "id": "83bfa262",
   "metadata": {},
   "source": [
    "### Post-hoc analysis"
   ]
  },
  {
   "cell_type": "code",
   "execution_count": 46,
   "id": "d0f24b0a",
   "metadata": {
    "scrolled": true
   },
   "outputs": [
    {
     "name": "stdout",
     "output_type": "stream",
     "text": [
      "          astromus  mus  astro  nothing\n",
      "astromus       1.0  1.0    1.0      1.0\n",
      "mus            1.0  1.0    1.0      1.0\n",
      "astro          1.0  1.0    1.0      1.0\n",
      "nothing        1.0  1.0    1.0      1.0\n"
     ]
    }
   ],
   "source": [
    "# Dunn test with Bonferroni correction (6 comparisons => alpha = 0.05/6 = 0.0083)\n",
    "dunn_result = sp.posthoc_dunn([astromus_correct, mus_correct, astro_correct, nonexperts_4_correct], p_adjust='bonferroni')\n",
    "\n",
    "# Label the groups\n",
    "dunn_result.index = ['astromus', 'mus', 'astro', 'nothing']\n",
    "dunn_result.columns = ['astromus', 'mus', 'astro', 'nothing']\n",
    "\n",
    "print(dunn_result)"
   ]
  },
  {
   "cell_type": "markdown",
   "id": "cbb4c87c",
   "metadata": {},
   "source": [
    "## Conclusion: The differences in the overall average success rates are not statistically significant"
   ]
  },
  {
   "cell_type": "code",
   "execution_count": 47,
   "id": "d5983a7c",
   "metadata": {},
   "outputs": [
    {
     "name": "stdout",
     "output_type": "stream",
     "text": [
      "Cohen's d: -0.07964516418558333\n"
     ]
    }
   ],
   "source": [
    "# Cohen's d for Effect Size (T-test). Meaninful: Small effect size d=0.2, medium d=0.5, large d=0.8.\n",
    "\n",
    "# Calculate means and standard deviations\n",
    "mean1 = np.mean(astromus_correct/participants[4])\n",
    "mean2 = np.mean(astro_correct/participants[5])\n",
    "std1 = np.std(mus_correct, ddof=1)\n",
    "std2 = np.std(astro_correct, ddof=1)\n",
    "\n",
    "# Calculate Cohen's d\n",
    "cohen_d = (mean1 - mean2) / np.sqrt((std1**2 + std2**2) / 2)\n",
    "print(\"Cohen's d:\", cohen_d)"
   ]
  },
  {
   "cell_type": "code",
   "execution_count": 48,
   "id": "6ae3909f",
   "metadata": {},
   "outputs": [
    {
     "name": "stdout",
     "output_type": "stream",
     "text": [
      "Cohen's d: -0.0347937918626439\n"
     ]
    }
   ],
   "source": [
    "# Cohen's d for Effect Size (T-test). Meaninful: Small effect size d=0.2, medium d=0.5, large d=0.8.\n",
    "\n",
    "# Calculate means and standard deviations\n",
    "mean1 = np.mean(nonexperts_4_correct/participants[4])\n",
    "mean2 = np.mean(astro_correct/participants[5])\n",
    "std1 = np.std(mus_correct, ddof=1)\n",
    "std2 = np.std(astro_correct, ddof=1)\n",
    "\n",
    "# Calculate Cohen's d\n",
    "cohen_d = (mean1 - mean2) / np.sqrt((std1**2 + std2**2) / 2)\n",
    "print(\"Cohen's d:\", cohen_d)"
   ]
  },
  {
   "cell_type": "markdown",
   "id": "f9e8bf3a",
   "metadata": {},
   "source": [
    "# BLV Analysis"
   ]
  },
  {
   "cell_type": "code",
   "execution_count": 49,
   "id": "87134265",
   "metadata": {},
   "outputs": [
    {
     "name": "stdout",
     "output_type": "stream",
     "text": [
      "Participants: 2\n",
      "[1 2 0 0 2 1 1 2 2 0 1 1]\n"
     ]
    },
    {
     "data": {
      "text/plain": [
       "(0.5417, 0.5, [1])"
      ]
     },
     "execution_count": 49,
     "metadata": {},
     "output_type": "execute_result"
    }
   ],
   "source": [
    "calculations(blv_correct, participants[7], questions)"
   ]
  },
  {
   "cell_type": "code",
   "execution_count": 50,
   "id": "37b88408",
   "metadata": {},
   "outputs": [
    {
     "data": {
      "text/plain": [
       "(3.2472980427292546, 0.007772467048837831)"
      ]
     },
     "execution_count": 50,
     "metadata": {},
     "output_type": "execute_result"
    }
   ],
   "source": [
    "t_test(blv_correct, questions, null_value)"
   ]
  },
  {
   "cell_type": "markdown",
   "id": "61f85d4c",
   "metadata": {},
   "source": [
    "### Conclusion: The BLV average success rate difference with the random choice probability is statistically significant."
   ]
  },
  {
   "cell_type": "code",
   "execution_count": 51,
   "id": "92e2b59c",
   "metadata": {
    "scrolled": false
   },
   "outputs": [
    {
     "name": "stdout",
     "output_type": "stream",
     "text": [
      "Participants: 2\n",
      "[2 2 0 1 1 1 1 2 2 1 0 1]\n"
     ]
    },
    {
     "data": {
      "text/plain": [
       "(0.5833, 0.5, [1])"
      ]
     },
     "execution_count": 51,
     "metadata": {},
     "output_type": "execute_result"
    }
   ],
   "source": [
    "calculations(nonblv_correct, participants[8], questions)"
   ]
  },
  {
   "cell_type": "code",
   "execution_count": 52,
   "id": "bb2089e9",
   "metadata": {},
   "outputs": [
    {
     "data": {
      "text/plain": [
       "(3.9898223460376245, 0.002122823820319628)"
      ]
     },
     "execution_count": 52,
     "metadata": {},
     "output_type": "execute_result"
    }
   ],
   "source": [
    "t_test(nonblv_correct, questions, null_value)"
   ]
  },
  {
   "cell_type": "code",
   "execution_count": 53,
   "id": "5a1be2fa",
   "metadata": {
    "scrolled": true
   },
   "outputs": [
    {
     "name": "stdout",
     "output_type": "stream",
     "text": [
      "0.062078272604581555 0.8032407957714518\n"
     ]
    }
   ],
   "source": [
    "# Kruskal-Wallis test: kruskal_p_value < 0.05 => reject the null hypothesis => statistical significance\n",
    "H_statistic, kruskal_p_value = scistats.kruskal(blv_correct, nonblv_correct)\n",
    "print(H_statistic, kruskal_p_value)"
   ]
  },
  {
   "cell_type": "markdown",
   "id": "c694eacc",
   "metadata": {},
   "source": [
    "### Conclusion: The differences between BLV and non BLV average success rates are not statistically significant."
   ]
  }
 ],
 "metadata": {
  "kernelspec": {
   "display_name": "Python 3 (ipykernel)",
   "language": "python",
   "name": "python3"
  },
  "language_info": {
   "codemirror_mode": {
    "name": "ipython",
    "version": 3
   },
   "file_extension": ".py",
   "mimetype": "text/x-python",
   "name": "python",
   "nbconvert_exporter": "python",
   "pygments_lexer": "ipython3",
   "version": "3.8.5"
  }
 },
 "nbformat": 4,
 "nbformat_minor": 5
}
