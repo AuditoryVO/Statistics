{
 "cells": [
  {
   "cell_type": "code",
   "execution_count": 1,
   "id": "b841a44f",
   "metadata": {},
   "outputs": [],
   "source": [
    "import numpy as np\n",
    "import astropy\n",
    "import statistics\n",
    "from scipy import stats as scistats\n",
    "from scipy.stats import wilcoxon\n",
    "from scipy.stats import binomtest\n",
    "from scipy.stats import f_oneway\n",
    "from scipy.stats import ttest_ind\n",
    "from scipy.stats import mannwhitneyu\n",
    "from scipy.stats import friedmanchisquare\n",
    "import scikit_posthocs as sp\n",
    "from scipy.stats import shapiro\n",
    "\n",
    "from astropy import stats\n",
    "from statistics import multimode"
   ]
  },
  {
   "cell_type": "code",
   "execution_count": 2,
   "id": "b8cf8c1e",
   "metadata": {},
   "outputs": [],
   "source": [
    "correct = np.load('correct.npy') #Counts of correct answers by question\n",
    "experts_correct = np.load('experts_correct.npy')\n",
    "nonexperts_correct = np.load('nonexperts_correct.npy')\n",
    "astromus_correct = np.load('astromus_correct.npy')\n",
    "mus_correct = np.load('mus_correct.npy')\n",
    "astro_correct = np.load('astro_correct.npy')\n",
    "nonexperts_4_correct = np.load('nonexperts_4_correct.npy')\n",
    "blv_correct = np.load('blv_correct.npy')\n",
    "nonblv_correct = np.load('nonblv_correct.npy')"
   ]
  },
  {
   "cell_type": "code",
   "execution_count": 3,
   "id": "a116f5dd",
   "metadata": {},
   "outputs": [],
   "source": [
    "grades = np.load('grades.npy') #Counts of correct answers by participant\n",
    "grades_experts = np.load('grades_experts.npy')\n",
    "grades_nonexperts = np.load('grades_nonexperts.npy')\n",
    "grades_astromus = np.load('grades_astromus.npy')\n",
    "grades_mus = np.load('grades_mus.npy')\n",
    "grades_astro = np.load('grades_astro.npy')\n",
    "grades_nonexperts_4 = np.load('grades_nonexperts_4.npy')\n",
    "grades_nonblv = np.load('grades_nonblv.npy')\n",
    "grades_nonblv = np.load('grades_nonblv.npy')"
   ]
  },
  {
   "cell_type": "code",
   "execution_count": 4,
   "id": "d8f305c3",
   "metadata": {},
   "outputs": [],
   "source": [
    "groups = [\"Global\", \"Experienced\", \"Non-experienced\", \"Astro\", \"Mus\", \"Astromus\", \"Nothing\",\"BLV\", \"Non-BLV-2\"]\n",
    "counts = [correct, experts_correct, nonexperts_correct, astro_correct, mus_correct, astromus_correct, nonexperts_4_correct]\n",
    "participants = np.load('participants.npy')"
   ]
  },
  {
   "cell_type": "code",
   "execution_count": 5,
   "id": "be1c1f6d",
   "metadata": {},
   "outputs": [
    {
     "data": {
      "text/plain": [
       "10"
      ]
     },
     "execution_count": 5,
     "metadata": {},
     "output_type": "execute_result"
    }
   ],
   "source": [
    "questions = len(correct)\n",
    "questions"
   ]
  },
  {
   "cell_type": "code",
   "execution_count": 6,
   "id": "8f1b92ec",
   "metadata": {},
   "outputs": [],
   "source": [
    "null_value = 0.23"
   ]
  },
  {
   "cell_type": "markdown",
   "id": "b9504540",
   "metadata": {},
   "source": [
    "# Statistics"
   ]
  },
  {
   "cell_type": "code",
   "execution_count": 7,
   "id": "93b5c18b",
   "metadata": {},
   "outputs": [],
   "source": [
    "#mean, median, mode\n",
    "def calculations(counts, participants, questions):\n",
    "    print(\"Participants:\", participants)\n",
    "    print(counts)\n",
    "    mean = np.round(np.mean(counts/participants), 4) #overall average success rate\n",
    "    median = np.round(np.median(counts/participants), 4) #median \n",
    "    mode = multimode(np.round(counts, 2))\n",
    "    return mean, median, mode"
   ]
  },
  {
   "cell_type": "code",
   "execution_count": 8,
   "id": "8b1ecd38",
   "metadata": {},
   "outputs": [
    {
     "data": {
      "text/plain": [
       "0.23"
      ]
     },
     "execution_count": 8,
     "metadata": {},
     "output_type": "execute_result"
    }
   ],
   "source": [
    "null_value"
   ]
  },
  {
   "cell_type": "code",
   "execution_count": 9,
   "id": "333594ec",
   "metadata": {},
   "outputs": [],
   "source": [
    "# Wilcoxon test. Calculates if the observed overall average success rate\n",
    "#is statistically significantly higher than chance.\n",
    "\n",
    "def wilcoxon_test(counts, participants, null_value):\n",
    "    observed_proportions = [x/participants for x in counts]\n",
    "    # Compute differences from the null value\n",
    "    differences = [x - null_value for x in observed_proportions]\n",
    "    # Perform the Wilcoxon signed-rank test\n",
    "    # alternative='greater' tests whether the median is significantly greater than the null\n",
    "    test_statistic, p_value = wilcoxon(differences, alternative='greater')\n",
    "    # Output results\n",
    "    print(\"Success rates:\", observed_proportions)\n",
    "    print(\"Test statistic (W):\", test_statistic)\n",
    "    print(\"p-value (one-sided):\", p_value)\n",
    "    if p_value <= 0.05:\n",
    "        print(\"Conclusion: Statistically significant\")\n",
    "    else:\n",
    "        print(\"Conclusion: Not statistically significant\")\n",
    "    return test_statistic, p_value"
   ]
  },
  {
   "cell_type": "code",
   "execution_count": 10,
   "id": "ff1db954",
   "metadata": {},
   "outputs": [],
   "source": [
    "# Alternative Binomial test\n",
    "def binom_test(counts, participants, questions, null_value, less_or_greater):\n",
    "    questions = questions-2\n",
    "    test = binomtest(np.sum(counts), participants*questions, p=null_value, alternative=less_or_greater)\n",
    "    if test.pvalue<0.05:\n",
    "        print(\"Statistically significant\")\n",
    "    else:\n",
    "        print(\"Not statistically significant\")\n",
    "    return test"
   ]
  },
  {
   "cell_type": "code",
   "execution_count": 11,
   "id": "11d42c28",
   "metadata": {},
   "outputs": [],
   "source": [
    "# Alternative T-test\n",
    "def t_test(counts, questions, null_value):  # Perform a one-sample t-test\n",
    "    sample_mean = np.mean(counts)\n",
    "    n = len(counts)\n",
    "    sample_std = np.std(counts, ddof=1)  # Use sample standard deviation (ddof=1 for unbiased estimate)\n",
    "    standard_error = sample_std / np.sqrt(n)\n",
    "    test_statistic = (sample_mean - null_value) / standard_error\n",
    "    degrees_freedom = n - 1\n",
    "    p_value = scistats.t.sf(np.abs(test_statistic), df=degrees_freedom) * 2  # Two-tailed p-value\n",
    "    if p_value <= 0.05:\n",
    "        result = \"Reject the null hypothesis. There is statistically significant evidence that the mean is different from the random choice value.\"\n",
    "    else:\n",
    "        result = \"Fail to reject the null hypothesis. There is not enough statistically significant evidence that the mean is different from the random choice value.\"\n",
    "\n",
    "    return test_statistic, p_value"
   ]
  },
  {
   "cell_type": "markdown",
   "id": "9096e381",
   "metadata": {},
   "source": [
    "# 1- Are the overall average success rates observed significant vs chance?"
   ]
  },
  {
   "cell_type": "code",
   "execution_count": 12,
   "id": "ecde983f",
   "metadata": {},
   "outputs": [
    {
     "name": "stdout",
     "output_type": "stream",
     "text": [
      "Participants: 44\n",
      "[ 6  3 17 12  3 18 11 12 27  7]\n"
     ]
    },
    {
     "data": {
      "text/plain": [
       "(0.2636, 0.2614, [3, 12])"
      ]
     },
     "execution_count": 12,
     "metadata": {},
     "output_type": "execute_result"
    }
   ],
   "source": [
    "calculations(correct, participants[0], questions)"
   ]
  },
  {
   "cell_type": "code",
   "execution_count": 13,
   "id": "40a7f6ec",
   "metadata": {},
   "outputs": [
    {
     "data": {
      "text/plain": [
       "(4.783865363972287, 0.0009958851934449115)"
      ]
     },
     "execution_count": 13,
     "metadata": {},
     "output_type": "execute_result"
    }
   ],
   "source": [
    "t_test(correct, questions, null_value)"
   ]
  },
  {
   "cell_type": "markdown",
   "id": "ff734536",
   "metadata": {},
   "source": [
    "### Conclusion: All the overall average success rates observed are significantly higher than the random choice probability"
   ]
  },
  {
   "cell_type": "code",
   "execution_count": 14,
   "id": "a3631b7e",
   "metadata": {
    "scrolled": true
   },
   "outputs": [
    {
     "name": "stdout",
     "output_type": "stream",
     "text": [
      "Participants: 15\n",
      "[ 2  2  7  8  0  7  6  7 13  1]\n"
     ]
    },
    {
     "data": {
      "text/plain": [
       "(0.3533, 0.4333, [7])"
      ]
     },
     "execution_count": 14,
     "metadata": {},
     "output_type": "execute_result"
    }
   ],
   "source": [
    "calculations(experts_correct, participants[1], questions)"
   ]
  },
  {
   "cell_type": "code",
   "execution_count": 15,
   "id": "698e7892",
   "metadata": {},
   "outputs": [
    {
     "data": {
      "text/plain": [
       "(4.006795927129995, 0.0030787104869550042)"
      ]
     },
     "execution_count": 15,
     "metadata": {},
     "output_type": "execute_result"
    }
   ],
   "source": [
    "t_test(experts_correct, questions, null_value)"
   ]
  },
  {
   "cell_type": "code",
   "execution_count": 16,
   "id": "722429af",
   "metadata": {},
   "outputs": [
    {
     "name": "stdout",
     "output_type": "stream",
     "text": [
      "Participants: 15\n",
      "[2 1 3 1 2 6 2 4 7 3]\n"
     ]
    },
    {
     "data": {
      "text/plain": [
       "(0.2067, 0.1667, [2])"
      ]
     },
     "execution_count": 16,
     "metadata": {},
     "output_type": "execute_result"
    }
   ],
   "source": [
    "calculations(nonexperts_correct, participants[2], questions)"
   ]
  },
  {
   "cell_type": "code",
   "execution_count": 17,
   "id": "95e33ea3",
   "metadata": {},
   "outputs": [
    {
     "data": {
      "text/plain": [
       "(4.4821869662029945, 0.0015276029627714581)"
      ]
     },
     "execution_count": 17,
     "metadata": {},
     "output_type": "execute_result"
    }
   ],
   "source": [
    "t_test(nonexperts_correct, questions, null_value)"
   ]
  },
  {
   "cell_type": "code",
   "execution_count": 18,
   "id": "e55bedc2",
   "metadata": {},
   "outputs": [
    {
     "name": "stdout",
     "output_type": "stream",
     "text": [
      "Participants: 3\n",
      "[1 1 1 2 0 1 1 1 3 0]\n"
     ]
    },
    {
     "data": {
      "text/plain": [
       "(0.3667, 0.3333, [1])"
      ]
     },
     "execution_count": 18,
     "metadata": {},
     "output_type": "execute_result"
    }
   ],
   "source": [
    "calculations(astro_correct, participants[5], questions)"
   ]
  },
  {
   "cell_type": "code",
   "execution_count": 19,
   "id": "872f2cc3",
   "metadata": {},
   "outputs": [
    {
     "data": {
      "text/plain": [
       "(3.1420707655385764, 0.011888322681261849)"
      ]
     },
     "execution_count": 19,
     "metadata": {},
     "output_type": "execute_result"
    }
   ],
   "source": [
    "t_test(astro_correct, questions, null_value)"
   ]
  },
  {
   "cell_type": "code",
   "execution_count": 20,
   "id": "2ca49be8",
   "metadata": {},
   "outputs": [
    {
     "name": "stdout",
     "output_type": "stream",
     "text": [
      "Participants: 4\n",
      "[0 0 2 2 0 2 2 2 4 0]\n"
     ]
    },
    {
     "data": {
      "text/plain": [
       "(0.35, 0.5, [2])"
      ]
     },
     "execution_count": 20,
     "metadata": {},
     "output_type": "execute_result"
    }
   ],
   "source": [
    "calculations(mus_correct, participants[4], questions)"
   ]
  },
  {
   "cell_type": "code",
   "execution_count": 21,
   "id": "4a0166d7",
   "metadata": {},
   "outputs": [
    {
     "data": {
      "text/plain": [
       "(2.7408495211450363, 0.022815837613538514)"
      ]
     },
     "execution_count": 21,
     "metadata": {},
     "output_type": "execute_result"
    }
   ],
   "source": [
    "t_test(mus_correct, questions, null_value)"
   ]
  },
  {
   "cell_type": "code",
   "execution_count": 22,
   "id": "7b34d607",
   "metadata": {},
   "outputs": [
    {
     "name": "stdout",
     "output_type": "stream",
     "text": [
      "Participants: 3\n",
      "[1 1 2 2 0 2 1 2 3 0]\n"
     ]
    },
    {
     "data": {
      "text/plain": [
       "(0.4667, 0.5, [2])"
      ]
     },
     "execution_count": 22,
     "metadata": {},
     "output_type": "execute_result"
    }
   ],
   "source": [
    "calculations(astromus_correct, participants[3], questions)"
   ]
  },
  {
   "cell_type": "code",
   "execution_count": 23,
   "id": "3fc818e1",
   "metadata": {},
   "outputs": [
    {
     "data": {
      "text/plain": [
       "(3.829723973641666, 0.004029426317185767)"
      ]
     },
     "execution_count": 23,
     "metadata": {},
     "output_type": "execute_result"
    }
   ],
   "source": [
    "t_test(astromus_correct, questions, null_value)"
   ]
  },
  {
   "cell_type": "code",
   "execution_count": 24,
   "id": "2519d825",
   "metadata": {},
   "outputs": [
    {
     "name": "stdout",
     "output_type": "stream",
     "text": [
      "Participants: 4\n",
      "[0 1 2 1 0 3 0 2 1 1]\n"
     ]
    },
    {
     "data": {
      "text/plain": [
       "(0.275, 0.25, [1])"
      ]
     },
     "execution_count": 24,
     "metadata": {},
     "output_type": "execute_result"
    }
   ],
   "source": [
    "calculations(nonexperts_4_correct, participants[6], questions)"
   ]
  },
  {
   "cell_type": "code",
   "execution_count": 25,
   "id": "5053b030",
   "metadata": {},
   "outputs": [
    {
     "data": {
      "text/plain": [
       "(2.7665944668166005, 0.02187497923095555)"
      ]
     },
     "execution_count": 25,
     "metadata": {},
     "output_type": "execute_result"
    }
   ],
   "source": [
    "t_test(nonexperts_4_correct, questions, null_value)"
   ]
  },
  {
   "cell_type": "markdown",
   "id": "473da600",
   "metadata": {},
   "source": [
    "# 2- Are the differences observed in the means statistically significant?"
   ]
  },
  {
   "cell_type": "code",
   "execution_count": 38,
   "id": "7a6503e8",
   "metadata": {},
   "outputs": [
    {
     "name": "stdout",
     "output_type": "stream",
     "text": [
      "Estadístico F: 2.4066298342541432\n",
      "Valor p: 0.13822660817594473\n"
     ]
    }
   ],
   "source": [
    "f_stat, p_valor = scistats.f_oneway(experts_correct, nonexperts_correct)\n",
    "\n",
    "print(\"Estadístico F:\", f_stat)\n",
    "print(\"Valor p:\", p_valor)"
   ]
  },
  {
   "cell_type": "code",
   "execution_count": 26,
   "id": "a988538e",
   "metadata": {},
   "outputs": [
    {
     "name": "stdout",
     "output_type": "stream",
     "text": [
      "1.3214837712519236 0.25032593367991124\n"
     ]
    }
   ],
   "source": [
    "# Kruskal-Wallis test: kruskal_p_value < 0.05 => reject the null hypothesis => statistical significance\n",
    "H_statistic, kruskal_p_value = scistats.kruskal(experts_correct, nonexperts_correct)\n",
    "print(H_statistic, kruskal_p_value)"
   ]
  },
  {
   "cell_type": "markdown",
   "id": "ae39ff19",
   "metadata": {},
   "source": [
    "### Conclusion: The differences in the means between experts and non experts are not statistically significant."
   ]
  },
  {
   "cell_type": "code",
   "execution_count": 27,
   "id": "4c5386d8",
   "metadata": {},
   "outputs": [
    {
     "name": "stdout",
     "output_type": "stream",
     "text": [
      "1.5513316325834858 0.14424100930246586\n"
     ]
    }
   ],
   "source": [
    "# T-test\n",
    "stat, p_value = ttest_ind(experts_correct, nonexperts_correct, equal_var=False)\n",
    "print(stat, p_value)"
   ]
  },
  {
   "cell_type": "markdown",
   "id": "b7ff4f36",
   "metadata": {},
   "source": [
    "# 3- Are they meaningful?"
   ]
  },
  {
   "cell_type": "code",
   "execution_count": 28,
   "id": "d8b8de07",
   "metadata": {},
   "outputs": [
    {
     "name": "stdout",
     "output_type": "stream",
     "text": [
      "Cohen's d: 0.04625177314803205\n"
     ]
    }
   ],
   "source": [
    "# Cohen's d for Effect Size (T-test). Meaninful: Small effect size d=0.2, medium d=0.5, large d=0.8.\n",
    "\n",
    "# Calculate means and standard deviations\n",
    "mean1 = np.mean(experts_correct/participants[1])\n",
    "mean2 = np.mean(nonexperts_correct/participants[2])\n",
    "std1 = np.std(experts_correct, ddof=1)\n",
    "std2 = np.std(nonexperts_correct, ddof=1)\n",
    "\n",
    "# Calculate Cohen's d\n",
    "cohen_d = (mean1 - mean2) / np.sqrt((std1**2 + std2**2) / 2)\n",
    "print(\"Cohen's d:\", cohen_d)"
   ]
  },
  {
   "cell_type": "markdown",
   "id": "a6cf6ec8",
   "metadata": {},
   "source": [
    "# 4- Subgroup analysis"
   ]
  },
  {
   "cell_type": "code",
   "execution_count": 29,
   "id": "93a34e0a",
   "metadata": {},
   "outputs": [
    {
     "name": "stdout",
     "output_type": "stream",
     "text": [
      "astromus normality: p=0.2449112981557846\n",
      "mus normality: p=0.015408955514431\n",
      "astro normality: p=0.025551754981279373\n",
      "nonexperts normality: p=0.15201178193092346\n"
     ]
    }
   ],
   "source": [
    "# Test normality for each group. p-value<0.05 =>not normally distributed\n",
    "stat1, p1 = shapiro(astromus_correct)\n",
    "stat2, p2 = shapiro(mus_correct)\n",
    "stat3, p3 = shapiro(astro_correct)\n",
    "stat4, p4 = shapiro(nonexperts_4_correct)\n",
    "\n",
    "print(f\"astromus normality: p={p1}\")\n",
    "print(f\"mus normality: p={p2}\")\n",
    "print(f\"astro normality: p={p3}\")\n",
    "print(f\"nonexperts normality: p={p4}\")"
   ]
  },
  {
   "cell_type": "code",
   "execution_count": 30,
   "id": "da71cd30",
   "metadata": {},
   "outputs": [
    {
     "name": "stdout",
     "output_type": "stream",
     "text": [
      "0.877958307786656 0.8307434530628528\n"
     ]
    }
   ],
   "source": [
    "# Kruskal-Wallis test: kruskal_p_value < 0.05 => reject the null hypothesis => statistical significance\n",
    "H_statistic, kruskal_p_value = scistats.kruskal(astromus_correct, mus_correct, astro_correct, nonexperts_4_correct)\n",
    "print(H_statistic, kruskal_p_value)"
   ]
  },
  {
   "cell_type": "code",
   "execution_count": 31,
   "id": "9f9fbc55",
   "metadata": {},
   "outputs": [
    {
     "name": "stdout",
     "output_type": "stream",
     "text": [
      "1.707692307692285 0.6352249758328063\n"
     ]
    }
   ],
   "source": [
    "#alternative test: Chi square\n",
    "stat, p_value = friedmanchisquare(astromus_correct, mus_correct, astro_correct, nonexperts_4_correct)\n",
    "print(stat, p_value)"
   ]
  },
  {
   "cell_type": "markdown",
   "id": "83bfa262",
   "metadata": {},
   "source": [
    "### Post-hoc analysis"
   ]
  },
  {
   "cell_type": "code",
   "execution_count": 32,
   "id": "d0f24b0a",
   "metadata": {
    "scrolled": true
   },
   "outputs": [
    {
     "name": "stdout",
     "output_type": "stream",
     "text": [
      "          astromus  mus  astro  nothing\n",
      "astromus       1.0  1.0    1.0      1.0\n",
      "mus            1.0  1.0    1.0      1.0\n",
      "astro          1.0  1.0    1.0      1.0\n",
      "nothing        1.0  1.0    1.0      1.0\n"
     ]
    }
   ],
   "source": [
    "# Dunn test with Bonferroni correction (6 comparisons => alpha = 0.05/6 = 0.0083)\n",
    "dunn_result = sp.posthoc_dunn([astromus_correct, mus_correct, astro_correct, nonexperts_4_correct], p_adjust='bonferroni')\n",
    "\n",
    "# Label the groups\n",
    "dunn_result.index = ['astromus', 'mus', 'astro', 'nothing']\n",
    "dunn_result.columns = ['astromus', 'mus', 'astro', 'nothing']\n",
    "\n",
    "print(dunn_result)"
   ]
  },
  {
   "cell_type": "markdown",
   "id": "cbb4c87c",
   "metadata": {},
   "source": [
    "## Conclusion: The differences in the overall average success rates are not statistically significant"
   ]
  },
  {
   "cell_type": "markdown",
   "id": "f9e8bf3a",
   "metadata": {},
   "source": [
    "# BLV Analysis"
   ]
  },
  {
   "cell_type": "code",
   "execution_count": 33,
   "id": "8bb658e1",
   "metadata": {},
   "outputs": [
    {
     "name": "stdout",
     "output_type": "stream",
     "text": [
      "Participants: 2\n",
      "[0 0 0 2 0 0 1 0 1 0]\n"
     ]
    },
    {
     "data": {
      "text/plain": [
       "(0.2, 0.0, [0])"
      ]
     },
     "execution_count": 33,
     "metadata": {},
     "output_type": "execute_result"
    }
   ],
   "source": [
    "calculations(blv_correct, participants[7], questions)"
   ]
  },
  {
   "cell_type": "code",
   "execution_count": 34,
   "id": "85e0ca3a",
   "metadata": {},
   "outputs": [
    {
     "data": {
      "text/plain": [
       "(0.7688539286732973, 0.4616787021805435)"
      ]
     },
     "execution_count": 34,
     "metadata": {},
     "output_type": "execute_result"
    }
   ],
   "source": [
    "t_test(blv_correct, questions, null_value)"
   ]
  },
  {
   "cell_type": "markdown",
   "id": "61f85d4c",
   "metadata": {},
   "source": [
    "### Conclusion: The BLV average success rate difference with the random choice probability is not statistically significant."
   ]
  },
  {
   "cell_type": "code",
   "execution_count": 35,
   "id": "f651e0c0",
   "metadata": {},
   "outputs": [
    {
     "name": "stdout",
     "output_type": "stream",
     "text": [
      "Participants: 2\n",
      "[0 0 1 1 0 1 0 1 1 1]\n"
     ]
    },
    {
     "data": {
      "text/plain": [
       "(0.3, 0.5, [1])"
      ]
     },
     "execution_count": 35,
     "metadata": {},
     "output_type": "execute_result"
    }
   ],
   "source": [
    "calculations(nonblv_correct, participants[8], questions)"
   ]
  },
  {
   "cell_type": "code",
   "execution_count": 36,
   "id": "246bd300",
   "metadata": {},
   "outputs": [
    {
     "data": {
      "text/plain": [
       "(2.2657780120744397, 0.0497049486305836)"
      ]
     },
     "execution_count": 36,
     "metadata": {},
     "output_type": "execute_result"
    }
   ],
   "source": [
    "t_test(nonblv_correct, questions, null_value)"
   ]
  },
  {
   "cell_type": "code",
   "execution_count": 37,
   "id": "961308d4",
   "metadata": {},
   "outputs": [
    {
     "name": "stdout",
     "output_type": "stream",
     "text": [
      "1.0666666666666702 0.30169958247834416\n"
     ]
    }
   ],
   "source": [
    "# Kruskal-Wallis test: kruskal_p_value < 0.05 => reject the null hypothesis => statistical significance\n",
    "H_statistic, kruskal_p_value = scistats.kruskal(blv_correct, nonblv_correct)\n",
    "print(H_statistic, kruskal_p_value)"
   ]
  },
  {
   "cell_type": "markdown",
   "id": "104e5f3b",
   "metadata": {},
   "source": [
    "### Conclusion: The differences between BLV and non BLV average success rates are not statistically significant."
   ]
  }
 ],
 "metadata": {
  "kernelspec": {
   "display_name": "Python 3 (ipykernel)",
   "language": "python",
   "name": "python3"
  },
  "language_info": {
   "codemirror_mode": {
    "name": "ipython",
    "version": 3
   },
   "file_extension": ".py",
   "mimetype": "text/x-python",
   "name": "python",
   "nbconvert_exporter": "python",
   "pygments_lexer": "ipython3",
   "version": "3.9.6"
  }
 },
 "nbformat": 4,
 "nbformat_minor": 5
}
